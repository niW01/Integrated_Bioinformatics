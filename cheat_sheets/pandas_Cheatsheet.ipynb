{
 "cells": [
  {
   "cell_type": "markdown",
   "metadata": {
    "toc": "true"
   },
   "source": [
    "# Table of Contents\n",
    " <p><div class=\"lev1\"><a href=\"#Pandas-version\"><span class=\"toc-item-num\">1&nbsp;&nbsp;</span>Pandas version</a></div><div class=\"lev1\"><a href=\"#Preferences\"><span class=\"toc-item-num\">2&nbsp;&nbsp;</span>Preferences</a></div><div class=\"lev1\"><a href=\"#Data-Loading\"><span class=\"toc-item-num\">3&nbsp;&nbsp;</span>Data Loading</a></div><div class=\"lev2\"><a href=\"#From-file:-pd.read_csv(...),-pd.read_excel(...)\"><span class=\"toc-item-num\">3.1&nbsp;&nbsp;</span>From file: pd.read_csv(...), pd.read_excel(...)</a></div><div class=\"lev2\"><a href=\"#From-scratch\"><span class=\"toc-item-num\">3.2&nbsp;&nbsp;</span>From scratch</a></div><div class=\"lev1\"><a href=\"#View-Data\"><span class=\"toc-item-num\">4&nbsp;&nbsp;</span>View Data</a></div><div class=\"lev1\"><a href=\"#Access-row-and-column-names\"><span class=\"toc-item-num\">5&nbsp;&nbsp;</span>Access row and column names</a></div><div class=\"lev1\"><a href=\"#Resort-columns\"><span class=\"toc-item-num\">6&nbsp;&nbsp;</span>Resort columns</a></div><div class=\"lev1\"><a href=\"#Get-cell-type-information\"><span class=\"toc-item-num\">7&nbsp;&nbsp;</span>Get cell type information</a></div><div class=\"lev1\"><a href=\"#Work-with-multi-index\"><span class=\"toc-item-num\">8&nbsp;&nbsp;</span>Work with multi-index</a></div><div class=\"lev2\"><a href=\"#Construction\"><span class=\"toc-item-num\">8.1&nbsp;&nbsp;</span>Construction</a></div><div class=\"lev2\"><a href=\"#Accessing-cells\"><span class=\"toc-item-num\">8.2&nbsp;&nbsp;</span>Accessing cells</a></div><div class=\"lev3\"><a href=\"#Row-based-on-index\"><span class=\"toc-item-num\">8.2.1&nbsp;&nbsp;</span>Row based on index</a></div><div class=\"lev3\"><a href=\"#Column-based-on-index\"><span class=\"toc-item-num\">8.2.2&nbsp;&nbsp;</span>Column based on index</a></div><div class=\"lev3\"><a href=\"#Individual-cell-(using-row-and-column-index)\"><span class=\"toc-item-num\">8.2.3&nbsp;&nbsp;</span>Individual cell (using row and column index)</a></div><div class=\"lev3\"><a href=\"#Reduce-row-index\"><span class=\"toc-item-num\">8.2.4&nbsp;&nbsp;</span>Reduce row index</a></div><div class=\"lev3\"><a href=\"#Reduce-column-index-(by-combining-labels-of-each-level)\"><span class=\"toc-item-num\">8.2.5&nbsp;&nbsp;</span>Reduce column index (by combining labels of each level)</a></div><div class=\"lev1\"><a href=\"#Functions\"><span class=\"toc-item-num\">9&nbsp;&nbsp;</span>Functions</a></div><div class=\"lev2\"><a href=\"#Add-second-dataframe-to-bottom-of-first\"><span class=\"toc-item-num\">9.1&nbsp;&nbsp;</span>Add second dataframe to bottom of first</a></div><div class=\"lev3\"><a href=\"#Using-concat\"><span class=\"toc-item-num\">9.1.1&nbsp;&nbsp;</span>Using concat</a></div><div class=\"lev3\"><a href=\"#Using-append\"><span class=\"toc-item-num\">9.1.2&nbsp;&nbsp;</span>Using append</a></div><div class=\"lev2\"><a href=\"#Add-second-dataframe-to-the-right-of-first\"><span class=\"toc-item-num\">9.2&nbsp;&nbsp;</span>Add second dataframe to the right of first</a></div><div class=\"lev3\"><a href=\"#Using-concat-combined-with-axis=1-parameter\"><span class=\"toc-item-num\">9.2.1&nbsp;&nbsp;</span>Using concat combined with axis=1 parameter</a></div><div class=\"lev2\"><a href=\"#Append-row-to-dataframe\"><span class=\"toc-item-num\">9.3&nbsp;&nbsp;</span>Append row to dataframe</a></div><div class=\"lev2\"><a href=\"#Append-constant-value-columns\"><span class=\"toc-item-num\">9.4&nbsp;&nbsp;</span>Append constant value columns</a></div><div class=\"lev2\"><a href=\"#Delete-columns\"><span class=\"toc-item-num\">9.5&nbsp;&nbsp;</span>Delete columns</a></div><div class=\"lev2\"><a href=\"#Append-column-with-value-calculated-from-other-columns\"><span class=\"toc-item-num\">9.6&nbsp;&nbsp;</span>Append column with value calculated from other columns</a></div><div class=\"lev2\"><a href=\"#Transpose\"><span class=\"toc-item-num\">9.7&nbsp;&nbsp;</span>Transpose</a></div><div class=\"lev2\"><a href=\"#Merge/Join\"><span class=\"toc-item-num\">9.8&nbsp;&nbsp;</span>Merge/Join</a></div><div class=\"lev3\"><a href=\"#Using-single-index-dataframes\"><span class=\"toc-item-num\">9.8.1&nbsp;&nbsp;</span>Using single index dataframes</a></div><div class=\"lev4\"><a href=\"#Merge-with-inner-join\"><span class=\"toc-item-num\">9.8.1.1&nbsp;&nbsp;</span>Merge with inner join</a></div><div class=\"lev4\"><a href=\"#Join-with-inner-join\"><span class=\"toc-item-num\">9.8.1.2&nbsp;&nbsp;</span>Join with inner join</a></div><div class=\"lev4\"><a href=\"#Full-outer-join\"><span class=\"toc-item-num\">9.8.1.3&nbsp;&nbsp;</span>Full outer join</a></div><div class=\"lev4\"><a href=\"#Duplicate-column-names-for-columns-not-to-be-joined\"><span class=\"toc-item-num\">9.8.1.4&nbsp;&nbsp;</span>Duplicate column names for columns not to be joined</a></div><div class=\"lev3\"><a href=\"#Using-multi-index-dataframes\"><span class=\"toc-item-num\">9.8.2&nbsp;&nbsp;</span>Using multi-index dataframes</a></div><div class=\"lev2\"><a href=\"#Group-By/Aggregate\"><span class=\"toc-item-num\">9.9&nbsp;&nbsp;</span>Group-By/Aggregate</a></div><div class=\"lev3\"><a href=\"#Aggregate-by-one-function-for-each-column-of-interest\"><span class=\"toc-item-num\">9.9.1&nbsp;&nbsp;</span>Aggregate by one function for each column of interest</a></div><div class=\"lev3\"><a href=\"#Aggregate-using-a-new-lambda-function-(could-also-be-defined-as-explicit-function-and-called-outside)\"><span class=\"toc-item-num\">9.9.2&nbsp;&nbsp;</span>Aggregate using a new lambda function (could also be defined as explicit function and called outside)</a></div><div class=\"lev3\"><a href=\"#Aggregate-using-multiple-functions-for-each-column\"><span class=\"toc-item-num\">9.9.3&nbsp;&nbsp;</span>Aggregate using multiple functions for each column</a></div><div class=\"lev2\"><a href=\"#Apply\"><span class=\"toc-item-num\">9.10&nbsp;&nbsp;</span>Apply</a></div><div class=\"lev3\"><a href=\"#Command-format\"><span class=\"toc-item-num\">9.10.1&nbsp;&nbsp;</span>Command format</a></div><div class=\"lev3\"><a href=\"#Using-additional-arguments\"><span class=\"toc-item-num\">9.10.2&nbsp;&nbsp;</span>Using additional arguments</a></div><div class=\"lev3\"><a href=\"#Using-additional-arguments-to-define-columns-to-use\"><span class=\"toc-item-num\">9.10.3&nbsp;&nbsp;</span>Using additional arguments to define columns to use</a></div><div class=\"lev3\"><a href=\"#Using-variable-number-of-arguments\"><span class=\"toc-item-num\">9.10.4&nbsp;&nbsp;</span>Using variable number of arguments</a></div><div class=\"lev2\"><a href=\"#Reshaping/Pivoting\"><span class=\"toc-item-num\">9.11&nbsp;&nbsp;</span>Reshaping/Pivoting</a></div><div class=\"lev3\"><a href=\"#Split-cell-into-multiple-and-append-row-for-each-value\"><span class=\"toc-item-num\">9.11.1&nbsp;&nbsp;</span>Split cell into multiple and append row for each value</a></div><div class=\"lev2\"><a href=\"#Crosstabulation\"><span class=\"toc-item-num\">9.12&nbsp;&nbsp;</span>Crosstabulation</a></div><div class=\"lev4\"><a href=\"#Normal-counts\"><span class=\"toc-item-num\">9.12.0.1&nbsp;&nbsp;</span>Normal counts</a></div><div class=\"lev4\"><a href=\"#Contingency-table---style:-counts-of-cases-fulfilling-specific-requirement\"><span class=\"toc-item-num\">9.12.0.2&nbsp;&nbsp;</span>Contingency table - style: counts of cases fulfilling specific requirement</a></div><div class=\"lev1\"><a href=\"#Plotting\"><span class=\"toc-item-num\">10&nbsp;&nbsp;</span>Plotting</a></div><div class=\"lev2\"><a href=\"#Histogram-of-String-columns\"><span class=\"toc-item-num\">10.1&nbsp;&nbsp;</span>Histogram of String columns</a></div><div class=\"lev2\"><a href=\"#Add-jitter-to-dots\"><span class=\"toc-item-num\">10.2&nbsp;&nbsp;</span>Add jitter to dots</a></div>"
   ]
  },
  {
   "cell_type": "code",
   "execution_count": 2,
   "metadata": {
    "collapsed": true,
    "run_control": {
     "frozen": false,
     "read_only": false
    }
   },
   "outputs": [],
   "source": [
    "%matplotlib inline"
   ]
  },
  {
   "cell_type": "code",
   "execution_count": 3,
   "metadata": {
    "collapsed": true,
    "run_control": {
     "frozen": false,
     "read_only": false
    }
   },
   "outputs": [],
   "source": [
    "import pandas as pd\n",
    "import numpy as np\n",
    "import matplotlib.pyplot as plt"
   ]
  },
  {
   "cell_type": "markdown",
   "metadata": {},
   "source": [
    "# Pandas version"
   ]
  },
  {
   "cell_type": "code",
   "execution_count": 4,
   "metadata": {
    "collapsed": false,
    "run_control": {
     "frozen": false,
     "read_only": false
    }
   },
   "outputs": [
    {
     "data": {
      "text/plain": [
       "u'0.18.1'"
      ]
     },
     "execution_count": 4,
     "metadata": {},
     "output_type": "execute_result"
    }
   ],
   "source": [
    "pd.__version__"
   ]
  },
  {
   "cell_type": "markdown",
   "metadata": {},
   "source": [
    "# Preferences"
   ]
  },
  {
   "cell_type": "code",
   "execution_count": 5,
   "metadata": {
    "collapsed": true,
    "run_control": {
     "frozen": false,
     "read_only": false
    }
   },
   "outputs": [],
   "source": [
    "# number of columns to display in html visualisation\n",
    "pd.set_option('max_columns', 999)\n",
    "# number of rows to display\n",
    "pd.set_option('max_rows', 100)\n",
    "# string length shown in HTML output\n",
    "pd.set_option('max_colwidth', 40)"
   ]
  },
  {
   "cell_type": "markdown",
   "metadata": {},
   "source": [
    "# Data Loading"
   ]
  },
  {
   "cell_type": "markdown",
   "metadata": {},
   "source": [
    "## From file: pd.read_csv(...), pd.read_excel(...)"
   ]
  },
  {
   "cell_type": "markdown",
   "metadata": {},
   "source": [
    "## From scratch\n",
    "Multiple methods include nested dictionaries and list of lists. The latter contains a row per list, column names can be given with the columns=parameter."
   ]
  },
  {
   "cell_type": "code",
   "execution_count": 6,
   "metadata": {
    "collapsed": false,
    "run_control": {
     "frozen": false,
     "read_only": false
    }
   },
   "outputs": [],
   "source": [
    "names = ['Bob','Jessica','Mary','John','Mel']\n",
    "births = [968, 155, 77, 578, 973]\n",
    "BabyDataSet = list(zip(names,births))\n",
    "df = pd.DataFrame(data = BabyDataSet, columns=['Names', 'Birth Rate'])"
   ]
  },
  {
   "cell_type": "markdown",
   "metadata": {},
   "source": [
    "# View Data\n",
    "Pandas renders tables in notebooks directly to HTML and can be accessed through normal slices, e.g. df[:10] or several convenience functions, such as .head() and .tail()"
   ]
  },
  {
   "cell_type": "code",
   "execution_count": 7,
   "metadata": {
    "collapsed": false,
    "run_control": {
     "frozen": false,
     "read_only": false
    }
   },
   "outputs": [
    {
     "data": {
      "text/html": [
       "<div>\n",
       "<table border=\"1\" class=\"dataframe\">\n",
       "  <thead>\n",
       "    <tr style=\"text-align: right;\">\n",
       "      <th></th>\n",
       "      <th>Names</th>\n",
       "      <th>Birth Rate</th>\n",
       "    </tr>\n",
       "  </thead>\n",
       "  <tbody>\n",
       "    <tr>\n",
       "      <th>0</th>\n",
       "      <td>Bob</td>\n",
       "      <td>968</td>\n",
       "    </tr>\n",
       "    <tr>\n",
       "      <th>1</th>\n",
       "      <td>Jessica</td>\n",
       "      <td>155</td>\n",
       "    </tr>\n",
       "    <tr>\n",
       "      <th>2</th>\n",
       "      <td>Mary</td>\n",
       "      <td>77</td>\n",
       "    </tr>\n",
       "    <tr>\n",
       "      <th>3</th>\n",
       "      <td>John</td>\n",
       "      <td>578</td>\n",
       "    </tr>\n",
       "    <tr>\n",
       "      <th>4</th>\n",
       "      <td>Mel</td>\n",
       "      <td>973</td>\n",
       "    </tr>\n",
       "  </tbody>\n",
       "</table>\n",
       "</div>"
      ],
      "text/plain": [
       "     Names  Birth Rate\n",
       "0      Bob         968\n",
       "1  Jessica         155\n",
       "2     Mary          77\n",
       "3     John         578\n",
       "4      Mel         973"
      ]
     },
     "execution_count": 7,
     "metadata": {},
     "output_type": "execute_result"
    }
   ],
   "source": [
    "df.head()"
   ]
  },
  {
   "cell_type": "code",
   "execution_count": 8,
   "metadata": {
    "collapsed": false,
    "run_control": {
     "frozen": false,
     "read_only": false
    }
   },
   "outputs": [
    {
     "data": {
      "text/html": [
       "<div>\n",
       "<table border=\"1\" class=\"dataframe\">\n",
       "  <thead>\n",
       "    <tr style=\"text-align: right;\">\n",
       "      <th></th>\n",
       "      <th>Names</th>\n",
       "      <th>Birth Rate</th>\n",
       "    </tr>\n",
       "  </thead>\n",
       "  <tbody>\n",
       "    <tr>\n",
       "      <th>3</th>\n",
       "      <td>John</td>\n",
       "      <td>578</td>\n",
       "    </tr>\n",
       "    <tr>\n",
       "      <th>4</th>\n",
       "      <td>Mel</td>\n",
       "      <td>973</td>\n",
       "    </tr>\n",
       "  </tbody>\n",
       "</table>\n",
       "</div>"
      ],
      "text/plain": [
       "  Names  Birth Rate\n",
       "3  John         578\n",
       "4   Mel         973"
      ]
     },
     "execution_count": 8,
     "metadata": {},
     "output_type": "execute_result"
    }
   ],
   "source": [
    "df.tail(2)"
   ]
  },
  {
   "cell_type": "markdown",
   "metadata": {},
   "source": [
    "# Access row and column names"
   ]
  },
  {
   "cell_type": "code",
   "execution_count": 9,
   "metadata": {
    "collapsed": false,
    "run_control": {
     "frozen": false,
     "read_only": false
    }
   },
   "outputs": [
    {
     "data": {
      "text/plain": [
       "RangeIndex(start=0, stop=5, step=1)"
      ]
     },
     "execution_count": 9,
     "metadata": {},
     "output_type": "execute_result"
    }
   ],
   "source": [
    "# row index\n",
    "df.index"
   ]
  },
  {
   "cell_type": "code",
   "execution_count": 10,
   "metadata": {
    "collapsed": false,
    "run_control": {
     "frozen": false,
     "read_only": false
    }
   },
   "outputs": [
    {
     "data": {
      "text/plain": [
       "Index([u'Names', u'Birth Rate'], dtype='object')"
      ]
     },
     "execution_count": 10,
     "metadata": {},
     "output_type": "execute_result"
    }
   ],
   "source": [
    "# column index\n",
    "df.columns"
   ]
  },
  {
   "cell_type": "markdown",
   "metadata": {},
   "source": [
    "# Resort columns"
   ]
  },
  {
   "cell_type": "code",
   "execution_count": 11,
   "metadata": {
    "collapsed": false,
    "run_control": {
     "frozen": false,
     "read_only": false
    }
   },
   "outputs": [
    {
     "data": {
      "text/html": [
       "<div>\n",
       "<table border=\"1\" class=\"dataframe\">\n",
       "  <thead>\n",
       "    <tr style=\"text-align: right;\">\n",
       "      <th></th>\n",
       "      <th>Birth Rate</th>\n",
       "      <th>Names</th>\n",
       "    </tr>\n",
       "  </thead>\n",
       "  <tbody>\n",
       "    <tr>\n",
       "      <th>0</th>\n",
       "      <td>968</td>\n",
       "      <td>Bob</td>\n",
       "    </tr>\n",
       "    <tr>\n",
       "      <th>1</th>\n",
       "      <td>155</td>\n",
       "      <td>Jessica</td>\n",
       "    </tr>\n",
       "    <tr>\n",
       "      <th>2</th>\n",
       "      <td>77</td>\n",
       "      <td>Mary</td>\n",
       "    </tr>\n",
       "    <tr>\n",
       "      <th>3</th>\n",
       "      <td>578</td>\n",
       "      <td>John</td>\n",
       "    </tr>\n",
       "    <tr>\n",
       "      <th>4</th>\n",
       "      <td>973</td>\n",
       "      <td>Mel</td>\n",
       "    </tr>\n",
       "  </tbody>\n",
       "</table>\n",
       "</div>"
      ],
      "text/plain": [
       "   Birth Rate    Names\n",
       "0         968      Bob\n",
       "1         155  Jessica\n",
       "2          77     Mary\n",
       "3         578     John\n",
       "4         973      Mel"
      ]
     },
     "execution_count": 11,
     "metadata": {},
     "output_type": "execute_result"
    }
   ],
   "source": [
    "df[['Birth Rate', 'Names']]"
   ]
  },
  {
   "cell_type": "markdown",
   "metadata": {
    "collapsed": true,
    "run_control": {
     "frozen": false,
     "read_only": false
    }
   },
   "source": [
    "# Get cell type information"
   ]
  },
  {
   "cell_type": "code",
   "execution_count": 12,
   "metadata": {
    "collapsed": false,
    "run_control": {
     "frozen": false,
     "read_only": false
    }
   },
   "outputs": [
    {
     "data": {
      "text/plain": [
       "Names         object\n",
       "Birth Rate     int64\n",
       "dtype: object"
      ]
     },
     "execution_count": 12,
     "metadata": {},
     "output_type": "execute_result"
    }
   ],
   "source": [
    "df.dtypes"
   ]
  },
  {
   "cell_type": "markdown",
   "metadata": {},
   "source": [
    "# Work with multi-index\n",
    "Multi-Indices can be created from scratch, assigned through stack/unstack functions or by groupby operations"
   ]
  },
  {
   "cell_type": "markdown",
   "metadata": {},
   "source": [
    "## Construction"
   ]
  },
  {
   "cell_type": "code",
   "execution_count": 13,
   "metadata": {
    "collapsed": false,
    "run_control": {
     "frozen": false,
     "read_only": false
    }
   },
   "outputs": [],
   "source": [
    "# Here we construct a dataframe from an index and a pandas series\n",
    "arrays = [['bar', 'bar', 'baz', 'baz', 'foo', 'foo', 'qux', 'qux'],\n",
    "          ['one', 'two', 'one', 'two', 'one', 'two', 'one', 'two']]\n",
    "tuples = list(zip(*arrays))\n",
    "row_index = pd.MultiIndex.from_tuples(tuples, names=['first', 'second'])\n",
    "\n",
    "arrays_col = [['zip', 'zip', 'zap', 'zap', 'zup', 'zup', 'zop', 'zop'],\n",
    "          ['a', 'b', 'a', 'b', 'a', 'b', 'a', 'b']]\n",
    "col_index = pd.MultiIndex.from_tuples(list(zip(*arrays_col)), names=['first_col_idx', 'second_col_idx'])\n",
    "\n",
    "# create dataframe\n",
    "dfm = pd.DataFrame(np.random.randn(8, 8), index=row_index[:8], columns=col_index[:8])"
   ]
  },
  {
   "cell_type": "code",
   "execution_count": 14,
   "metadata": {
    "collapsed": false,
    "run_control": {
     "frozen": false,
     "read_only": false
    }
   },
   "outputs": [
    {
     "data": {
      "text/html": [
       "<div>\n",
       "<table border=\"1\" class=\"dataframe\">\n",
       "  <thead>\n",
       "    <tr>\n",
       "      <th></th>\n",
       "      <th>first_col_idx</th>\n",
       "      <th colspan=\"2\" halign=\"left\">zip</th>\n",
       "      <th colspan=\"2\" halign=\"left\">zap</th>\n",
       "      <th colspan=\"2\" halign=\"left\">zup</th>\n",
       "      <th colspan=\"2\" halign=\"left\">zop</th>\n",
       "    </tr>\n",
       "    <tr>\n",
       "      <th></th>\n",
       "      <th>second_col_idx</th>\n",
       "      <th>a</th>\n",
       "      <th>b</th>\n",
       "      <th>a</th>\n",
       "      <th>b</th>\n",
       "      <th>a</th>\n",
       "      <th>b</th>\n",
       "      <th>a</th>\n",
       "      <th>b</th>\n",
       "    </tr>\n",
       "    <tr>\n",
       "      <th>first</th>\n",
       "      <th>second</th>\n",
       "      <th></th>\n",
       "      <th></th>\n",
       "      <th></th>\n",
       "      <th></th>\n",
       "      <th></th>\n",
       "      <th></th>\n",
       "      <th></th>\n",
       "      <th></th>\n",
       "    </tr>\n",
       "  </thead>\n",
       "  <tbody>\n",
       "    <tr>\n",
       "      <th rowspan=\"2\" valign=\"top\">bar</th>\n",
       "      <th>one</th>\n",
       "      <td>0.488233</td>\n",
       "      <td>-0.071623</td>\n",
       "      <td>-0.044668</td>\n",
       "      <td>-0.039140</td>\n",
       "      <td>0.607248</td>\n",
       "      <td>-0.744011</td>\n",
       "      <td>-0.590865</td>\n",
       "      <td>0.038966</td>\n",
       "    </tr>\n",
       "    <tr>\n",
       "      <th>two</th>\n",
       "      <td>0.002813</td>\n",
       "      <td>0.994920</td>\n",
       "      <td>-0.841274</td>\n",
       "      <td>1.442355</td>\n",
       "      <td>-1.618140</td>\n",
       "      <td>1.181907</td>\n",
       "      <td>0.142757</td>\n",
       "      <td>0.866870</td>\n",
       "    </tr>\n",
       "    <tr>\n",
       "      <th rowspan=\"2\" valign=\"top\">baz</th>\n",
       "      <th>one</th>\n",
       "      <td>-0.505740</td>\n",
       "      <td>0.187725</td>\n",
       "      <td>-0.435256</td>\n",
       "      <td>-2.118619</td>\n",
       "      <td>-0.006781</td>\n",
       "      <td>0.338236</td>\n",
       "      <td>-1.496756</td>\n",
       "      <td>1.534920</td>\n",
       "    </tr>\n",
       "    <tr>\n",
       "      <th>two</th>\n",
       "      <td>-1.116726</td>\n",
       "      <td>2.028452</td>\n",
       "      <td>-3.062955</td>\n",
       "      <td>-2.833187</td>\n",
       "      <td>-0.846301</td>\n",
       "      <td>-0.347500</td>\n",
       "      <td>0.306988</td>\n",
       "      <td>-1.060593</td>\n",
       "    </tr>\n",
       "    <tr>\n",
       "      <th rowspan=\"2\" valign=\"top\">foo</th>\n",
       "      <th>one</th>\n",
       "      <td>1.149221</td>\n",
       "      <td>-0.012289</td>\n",
       "      <td>1.955455</td>\n",
       "      <td>-0.168897</td>\n",
       "      <td>0.381642</td>\n",
       "      <td>-0.062890</td>\n",
       "      <td>-0.008236</td>\n",
       "      <td>-0.898345</td>\n",
       "    </tr>\n",
       "    <tr>\n",
       "      <th>two</th>\n",
       "      <td>-3.178749</td>\n",
       "      <td>1.368827</td>\n",
       "      <td>0.078942</td>\n",
       "      <td>0.778072</td>\n",
       "      <td>-1.768887</td>\n",
       "      <td>-0.091138</td>\n",
       "      <td>-1.417804</td>\n",
       "      <td>-0.651890</td>\n",
       "    </tr>\n",
       "    <tr>\n",
       "      <th rowspan=\"2\" valign=\"top\">qux</th>\n",
       "      <th>one</th>\n",
       "      <td>-0.154611</td>\n",
       "      <td>0.869963</td>\n",
       "      <td>-1.484034</td>\n",
       "      <td>1.273572</td>\n",
       "      <td>0.558961</td>\n",
       "      <td>-0.665005</td>\n",
       "      <td>0.810310</td>\n",
       "      <td>-0.841316</td>\n",
       "    </tr>\n",
       "    <tr>\n",
       "      <th>two</th>\n",
       "      <td>-0.210469</td>\n",
       "      <td>-0.316373</td>\n",
       "      <td>-0.110975</td>\n",
       "      <td>0.308901</td>\n",
       "      <td>-0.973877</td>\n",
       "      <td>0.404957</td>\n",
       "      <td>-0.635504</td>\n",
       "      <td>-0.370492</td>\n",
       "    </tr>\n",
       "  </tbody>\n",
       "</table>\n",
       "</div>"
      ],
      "text/plain": [
       "first_col_idx        zip                 zap                 zup            \\\n",
       "second_col_idx         a         b         a         b         a         b   \n",
       "first second                                                                 \n",
       "bar   one       0.488233 -0.071623 -0.044668 -0.039140  0.607248 -0.744011   \n",
       "      two       0.002813  0.994920 -0.841274  1.442355 -1.618140  1.181907   \n",
       "baz   one      -0.505740  0.187725 -0.435256 -2.118619 -0.006781  0.338236   \n",
       "      two      -1.116726  2.028452 -3.062955 -2.833187 -0.846301 -0.347500   \n",
       "foo   one       1.149221 -0.012289  1.955455 -0.168897  0.381642 -0.062890   \n",
       "      two      -3.178749  1.368827  0.078942  0.778072 -1.768887 -0.091138   \n",
       "qux   one      -0.154611  0.869963 -1.484034  1.273572  0.558961 -0.665005   \n",
       "      two      -0.210469 -0.316373 -0.110975  0.308901 -0.973877  0.404957   \n",
       "\n",
       "first_col_idx        zop            \n",
       "second_col_idx         a         b  \n",
       "first second                        \n",
       "bar   one      -0.590865  0.038966  \n",
       "      two       0.142757  0.866870  \n",
       "baz   one      -1.496756  1.534920  \n",
       "      two       0.306988 -1.060593  \n",
       "foo   one      -0.008236 -0.898345  \n",
       "      two      -1.417804 -0.651890  \n",
       "qux   one       0.810310 -0.841316  \n",
       "      two      -0.635504 -0.370492  "
      ]
     },
     "execution_count": 14,
     "metadata": {},
     "output_type": "execute_result"
    }
   ],
   "source": [
    "dfm"
   ]
  },
  {
   "cell_type": "markdown",
   "metadata": {},
   "source": [
    "## Accessing cells"
   ]
  },
  {
   "cell_type": "markdown",
   "metadata": {},
   "source": [
    "### Row based on index"
   ]
  },
  {
   "cell_type": "code",
   "execution_count": 15,
   "metadata": {
    "collapsed": false,
    "run_control": {
     "frozen": false,
     "read_only": false
    }
   },
   "outputs": [
    {
     "data": {
      "text/plain": [
       "first_col_idx  second_col_idx\n",
       "zip            a                 0.488233\n",
       "               b                -0.071623\n",
       "zap            a                -0.044668\n",
       "               b                -0.039140\n",
       "zup            a                 0.607248\n",
       "               b                -0.744011\n",
       "zop            a                -0.590865\n",
       "               b                 0.038966\n",
       "Name: (bar, one), dtype: float64"
      ]
     },
     "execution_count": 15,
     "metadata": {},
     "output_type": "execute_result"
    }
   ],
   "source": [
    "dfm.loc[('bar', 'one')]"
   ]
  },
  {
   "cell_type": "markdown",
   "metadata": {},
   "source": [
    "### Column based on index"
   ]
  },
  {
   "cell_type": "code",
   "execution_count": 16,
   "metadata": {
    "collapsed": false,
    "run_control": {
     "frozen": false,
     "read_only": false
    }
   },
   "outputs": [
    {
     "data": {
      "text/plain": [
       "first  second\n",
       "bar    one       0.488233\n",
       "       two       0.002813\n",
       "baz    one      -0.505740\n",
       "       two      -1.116726\n",
       "foo    one       1.149221\n",
       "       two      -3.178749\n",
       "qux    one      -0.154611\n",
       "       two      -0.210469\n",
       "Name: (zip, a), dtype: float64"
      ]
     },
     "execution_count": 16,
     "metadata": {},
     "output_type": "execute_result"
    }
   ],
   "source": [
    "dfm.loc[:, ('zip', 'a')]"
   ]
  },
  {
   "cell_type": "markdown",
   "metadata": {},
   "source": [
    "### Individual cell (using row and column index)"
   ]
  },
  {
   "cell_type": "code",
   "execution_count": 17,
   "metadata": {
    "collapsed": false,
    "run_control": {
     "frozen": false,
     "read_only": false
    }
   },
   "outputs": [
    {
     "data": {
      "text/plain": [
       "0.48823316118392962"
      ]
     },
     "execution_count": 17,
     "metadata": {},
     "output_type": "execute_result"
    }
   ],
   "source": [
    "dfm.loc[('bar', 'one')][('zip', 'a')]\n",
    "# or alternatively\n",
    "dfm.loc[('bar', 'one'), ('zip', 'a')]"
   ]
  },
  {
   "cell_type": "markdown",
   "metadata": {},
   "source": [
    "### Reduce row index"
   ]
  },
  {
   "cell_type": "code",
   "execution_count": 18,
   "metadata": {
    "collapsed": true,
    "run_control": {
     "frozen": false,
     "read_only": false
    }
   },
   "outputs": [],
   "source": [
    "dfm_reset = dfm.reset_index()"
   ]
  },
  {
   "cell_type": "markdown",
   "metadata": {},
   "source": [
    "### Reduce column index (by combining labels of each level)"
   ]
  },
  {
   "cell_type": "code",
   "execution_count": 19,
   "metadata": {
    "collapsed": true,
    "run_control": {
     "frozen": false,
     "read_only": false
    }
   },
   "outputs": [],
   "source": [
    "dfm_reset.columns = ['_'.join(col).strip() for col in dfm_reset.columns.values]"
   ]
  },
  {
   "cell_type": "code",
   "execution_count": 20,
   "metadata": {
    "collapsed": false,
    "run_control": {
     "frozen": false,
     "read_only": false
    }
   },
   "outputs": [
    {
     "data": {
      "text/html": [
       "<div>\n",
       "<table border=\"1\" class=\"dataframe\">\n",
       "  <thead>\n",
       "    <tr style=\"text-align: right;\">\n",
       "      <th></th>\n",
       "      <th>first_</th>\n",
       "      <th>second_</th>\n",
       "      <th>zip_a</th>\n",
       "      <th>zip_b</th>\n",
       "      <th>zap_a</th>\n",
       "      <th>zap_b</th>\n",
       "      <th>zup_a</th>\n",
       "      <th>zup_b</th>\n",
       "      <th>zop_a</th>\n",
       "      <th>zop_b</th>\n",
       "    </tr>\n",
       "  </thead>\n",
       "  <tbody>\n",
       "    <tr>\n",
       "      <th>0</th>\n",
       "      <td>bar</td>\n",
       "      <td>one</td>\n",
       "      <td>0.488233</td>\n",
       "      <td>-0.071623</td>\n",
       "      <td>-0.044668</td>\n",
       "      <td>-0.039140</td>\n",
       "      <td>0.607248</td>\n",
       "      <td>-0.744011</td>\n",
       "      <td>-0.590865</td>\n",
       "      <td>0.038966</td>\n",
       "    </tr>\n",
       "    <tr>\n",
       "      <th>1</th>\n",
       "      <td>bar</td>\n",
       "      <td>two</td>\n",
       "      <td>0.002813</td>\n",
       "      <td>0.994920</td>\n",
       "      <td>-0.841274</td>\n",
       "      <td>1.442355</td>\n",
       "      <td>-1.618140</td>\n",
       "      <td>1.181907</td>\n",
       "      <td>0.142757</td>\n",
       "      <td>0.866870</td>\n",
       "    </tr>\n",
       "    <tr>\n",
       "      <th>2</th>\n",
       "      <td>baz</td>\n",
       "      <td>one</td>\n",
       "      <td>-0.505740</td>\n",
       "      <td>0.187725</td>\n",
       "      <td>-0.435256</td>\n",
       "      <td>-2.118619</td>\n",
       "      <td>-0.006781</td>\n",
       "      <td>0.338236</td>\n",
       "      <td>-1.496756</td>\n",
       "      <td>1.534920</td>\n",
       "    </tr>\n",
       "    <tr>\n",
       "      <th>3</th>\n",
       "      <td>baz</td>\n",
       "      <td>two</td>\n",
       "      <td>-1.116726</td>\n",
       "      <td>2.028452</td>\n",
       "      <td>-3.062955</td>\n",
       "      <td>-2.833187</td>\n",
       "      <td>-0.846301</td>\n",
       "      <td>-0.347500</td>\n",
       "      <td>0.306988</td>\n",
       "      <td>-1.060593</td>\n",
       "    </tr>\n",
       "    <tr>\n",
       "      <th>4</th>\n",
       "      <td>foo</td>\n",
       "      <td>one</td>\n",
       "      <td>1.149221</td>\n",
       "      <td>-0.012289</td>\n",
       "      <td>1.955455</td>\n",
       "      <td>-0.168897</td>\n",
       "      <td>0.381642</td>\n",
       "      <td>-0.062890</td>\n",
       "      <td>-0.008236</td>\n",
       "      <td>-0.898345</td>\n",
       "    </tr>\n",
       "    <tr>\n",
       "      <th>5</th>\n",
       "      <td>foo</td>\n",
       "      <td>two</td>\n",
       "      <td>-3.178749</td>\n",
       "      <td>1.368827</td>\n",
       "      <td>0.078942</td>\n",
       "      <td>0.778072</td>\n",
       "      <td>-1.768887</td>\n",
       "      <td>-0.091138</td>\n",
       "      <td>-1.417804</td>\n",
       "      <td>-0.651890</td>\n",
       "    </tr>\n",
       "    <tr>\n",
       "      <th>6</th>\n",
       "      <td>qux</td>\n",
       "      <td>one</td>\n",
       "      <td>-0.154611</td>\n",
       "      <td>0.869963</td>\n",
       "      <td>-1.484034</td>\n",
       "      <td>1.273572</td>\n",
       "      <td>0.558961</td>\n",
       "      <td>-0.665005</td>\n",
       "      <td>0.810310</td>\n",
       "      <td>-0.841316</td>\n",
       "    </tr>\n",
       "    <tr>\n",
       "      <th>7</th>\n",
       "      <td>qux</td>\n",
       "      <td>two</td>\n",
       "      <td>-0.210469</td>\n",
       "      <td>-0.316373</td>\n",
       "      <td>-0.110975</td>\n",
       "      <td>0.308901</td>\n",
       "      <td>-0.973877</td>\n",
       "      <td>0.404957</td>\n",
       "      <td>-0.635504</td>\n",
       "      <td>-0.370492</td>\n",
       "    </tr>\n",
       "  </tbody>\n",
       "</table>\n",
       "</div>"
      ],
      "text/plain": [
       "  first_ second_     zip_a     zip_b     zap_a     zap_b     zup_a     zup_b  \\\n",
       "0    bar     one  0.488233 -0.071623 -0.044668 -0.039140  0.607248 -0.744011   \n",
       "1    bar     two  0.002813  0.994920 -0.841274  1.442355 -1.618140  1.181907   \n",
       "2    baz     one -0.505740  0.187725 -0.435256 -2.118619 -0.006781  0.338236   \n",
       "3    baz     two -1.116726  2.028452 -3.062955 -2.833187 -0.846301 -0.347500   \n",
       "4    foo     one  1.149221 -0.012289  1.955455 -0.168897  0.381642 -0.062890   \n",
       "5    foo     two -3.178749  1.368827  0.078942  0.778072 -1.768887 -0.091138   \n",
       "6    qux     one -0.154611  0.869963 -1.484034  1.273572  0.558961 -0.665005   \n",
       "7    qux     two -0.210469 -0.316373 -0.110975  0.308901 -0.973877  0.404957   \n",
       "\n",
       "      zop_a     zop_b  \n",
       "0 -0.590865  0.038966  \n",
       "1  0.142757  0.866870  \n",
       "2 -1.496756  1.534920  \n",
       "3  0.306988 -1.060593  \n",
       "4 -0.008236 -0.898345  \n",
       "5 -1.417804 -0.651890  \n",
       "6  0.810310 -0.841316  \n",
       "7 -0.635504 -0.370492  "
      ]
     },
     "execution_count": 20,
     "metadata": {},
     "output_type": "execute_result"
    }
   ],
   "source": [
    "dfm_reset"
   ]
  },
  {
   "cell_type": "markdown",
   "metadata": {},
   "source": [
    "# Functions"
   ]
  },
  {
   "cell_type": "markdown",
   "metadata": {},
   "source": [
    "## Add second dataframe to bottom of first"
   ]
  },
  {
   "cell_type": "markdown",
   "metadata": {},
   "source": [
    "### Using concat"
   ]
  },
  {
   "cell_type": "code",
   "execution_count": 21,
   "metadata": {
    "collapsed": false,
    "run_control": {
     "frozen": false,
     "read_only": false
    }
   },
   "outputs": [],
   "source": [
    "df1 = pd.DataFrame({'A': ['A0', 'A1', 'A2', 'A3'],\n",
    "                    'B': ['B0', 'B1', 'B2', 'B3'],\n",
    "                    'C': ['C0', 'C1', 'C2', 'C3'],\n",
    "                    'D': ['D0', 'D1', 'D2', 'D3']})\n",
    "df2 = pd.DataFrame({'A': ['A4', 'A5'],\n",
    "                    'B': ['B4', 'B5'],\n",
    "                    'C': ['C4', 'C5'],\n",
    "                    'D': ['D4', 'D5']})"
   ]
  },
  {
   "cell_type": "code",
   "execution_count": 22,
   "metadata": {
    "collapsed": false,
    "run_control": {
     "frozen": false,
     "read_only": false
    }
   },
   "outputs": [
    {
     "data": {
      "text/html": [
       "<div>\n",
       "<table border=\"1\" class=\"dataframe\">\n",
       "  <thead>\n",
       "    <tr style=\"text-align: right;\">\n",
       "      <th></th>\n",
       "      <th>A</th>\n",
       "      <th>B</th>\n",
       "      <th>C</th>\n",
       "      <th>D</th>\n",
       "    </tr>\n",
       "  </thead>\n",
       "  <tbody>\n",
       "    <tr>\n",
       "      <th>0</th>\n",
       "      <td>A0</td>\n",
       "      <td>B0</td>\n",
       "      <td>C0</td>\n",
       "      <td>D0</td>\n",
       "    </tr>\n",
       "    <tr>\n",
       "      <th>1</th>\n",
       "      <td>A1</td>\n",
       "      <td>B1</td>\n",
       "      <td>C1</td>\n",
       "      <td>D1</td>\n",
       "    </tr>\n",
       "    <tr>\n",
       "      <th>2</th>\n",
       "      <td>A2</td>\n",
       "      <td>B2</td>\n",
       "      <td>C2</td>\n",
       "      <td>D2</td>\n",
       "    </tr>\n",
       "    <tr>\n",
       "      <th>3</th>\n",
       "      <td>A3</td>\n",
       "      <td>B3</td>\n",
       "      <td>C3</td>\n",
       "      <td>D3</td>\n",
       "    </tr>\n",
       "  </tbody>\n",
       "</table>\n",
       "</div>"
      ],
      "text/plain": [
       "    A   B   C   D\n",
       "0  A0  B0  C0  D0\n",
       "1  A1  B1  C1  D1\n",
       "2  A2  B2  C2  D2\n",
       "3  A3  B3  C3  D3"
      ]
     },
     "execution_count": 22,
     "metadata": {},
     "output_type": "execute_result"
    }
   ],
   "source": [
    "df1"
   ]
  },
  {
   "cell_type": "code",
   "execution_count": 23,
   "metadata": {
    "collapsed": false,
    "run_control": {
     "frozen": false,
     "read_only": false
    }
   },
   "outputs": [
    {
     "data": {
      "text/html": [
       "<div>\n",
       "<table border=\"1\" class=\"dataframe\">\n",
       "  <thead>\n",
       "    <tr style=\"text-align: right;\">\n",
       "      <th></th>\n",
       "      <th>A</th>\n",
       "      <th>B</th>\n",
       "      <th>C</th>\n",
       "      <th>D</th>\n",
       "    </tr>\n",
       "  </thead>\n",
       "  <tbody>\n",
       "    <tr>\n",
       "      <th>0</th>\n",
       "      <td>A4</td>\n",
       "      <td>B4</td>\n",
       "      <td>C4</td>\n",
       "      <td>D4</td>\n",
       "    </tr>\n",
       "    <tr>\n",
       "      <th>1</th>\n",
       "      <td>A5</td>\n",
       "      <td>B5</td>\n",
       "      <td>C5</td>\n",
       "      <td>D5</td>\n",
       "    </tr>\n",
       "  </tbody>\n",
       "</table>\n",
       "</div>"
      ],
      "text/plain": [
       "    A   B   C   D\n",
       "0  A4  B4  C4  D4\n",
       "1  A5  B5  C5  D5"
      ]
     },
     "execution_count": 23,
     "metadata": {},
     "output_type": "execute_result"
    }
   ],
   "source": [
    "df2"
   ]
  },
  {
   "cell_type": "markdown",
   "metadata": {},
   "source": [
    "Keeping original (potentially overlapping) index"
   ]
  },
  {
   "cell_type": "code",
   "execution_count": 24,
   "metadata": {
    "collapsed": false,
    "run_control": {
     "frozen": false,
     "read_only": false
    }
   },
   "outputs": [
    {
     "data": {
      "text/html": [
       "<div>\n",
       "<table border=\"1\" class=\"dataframe\">\n",
       "  <thead>\n",
       "    <tr style=\"text-align: right;\">\n",
       "      <th></th>\n",
       "      <th>A</th>\n",
       "      <th>B</th>\n",
       "      <th>C</th>\n",
       "      <th>D</th>\n",
       "    </tr>\n",
       "  </thead>\n",
       "  <tbody>\n",
       "    <tr>\n",
       "      <th>0</th>\n",
       "      <td>A0</td>\n",
       "      <td>B0</td>\n",
       "      <td>C0</td>\n",
       "      <td>D0</td>\n",
       "    </tr>\n",
       "    <tr>\n",
       "      <th>1</th>\n",
       "      <td>A1</td>\n",
       "      <td>B1</td>\n",
       "      <td>C1</td>\n",
       "      <td>D1</td>\n",
       "    </tr>\n",
       "    <tr>\n",
       "      <th>2</th>\n",
       "      <td>A2</td>\n",
       "      <td>B2</td>\n",
       "      <td>C2</td>\n",
       "      <td>D2</td>\n",
       "    </tr>\n",
       "    <tr>\n",
       "      <th>3</th>\n",
       "      <td>A3</td>\n",
       "      <td>B3</td>\n",
       "      <td>C3</td>\n",
       "      <td>D3</td>\n",
       "    </tr>\n",
       "    <tr>\n",
       "      <th>0</th>\n",
       "      <td>A4</td>\n",
       "      <td>B4</td>\n",
       "      <td>C4</td>\n",
       "      <td>D4</td>\n",
       "    </tr>\n",
       "    <tr>\n",
       "      <th>1</th>\n",
       "      <td>A5</td>\n",
       "      <td>B5</td>\n",
       "      <td>C5</td>\n",
       "      <td>D5</td>\n",
       "    </tr>\n",
       "  </tbody>\n",
       "</table>\n",
       "</div>"
      ],
      "text/plain": [
       "    A   B   C   D\n",
       "0  A0  B0  C0  D0\n",
       "1  A1  B1  C1  D1\n",
       "2  A2  B2  C2  D2\n",
       "3  A3  B3  C3  D3\n",
       "0  A4  B4  C4  D4\n",
       "1  A5  B5  C5  D5"
      ]
     },
     "execution_count": 24,
     "metadata": {},
     "output_type": "execute_result"
    }
   ],
   "source": [
    "pd.concat([df1, df2])"
   ]
  },
  {
   "cell_type": "markdown",
   "metadata": {},
   "source": [
    "Resetting index"
   ]
  },
  {
   "cell_type": "code",
   "execution_count": 25,
   "metadata": {
    "collapsed": false,
    "run_control": {
     "frozen": false,
     "read_only": false
    }
   },
   "outputs": [
    {
     "data": {
      "text/html": [
       "<div>\n",
       "<table border=\"1\" class=\"dataframe\">\n",
       "  <thead>\n",
       "    <tr style=\"text-align: right;\">\n",
       "      <th></th>\n",
       "      <th>A</th>\n",
       "      <th>B</th>\n",
       "      <th>C</th>\n",
       "      <th>D</th>\n",
       "    </tr>\n",
       "  </thead>\n",
       "  <tbody>\n",
       "    <tr>\n",
       "      <th>0</th>\n",
       "      <td>A0</td>\n",
       "      <td>B0</td>\n",
       "      <td>C0</td>\n",
       "      <td>D0</td>\n",
       "    </tr>\n",
       "    <tr>\n",
       "      <th>1</th>\n",
       "      <td>A1</td>\n",
       "      <td>B1</td>\n",
       "      <td>C1</td>\n",
       "      <td>D1</td>\n",
       "    </tr>\n",
       "    <tr>\n",
       "      <th>2</th>\n",
       "      <td>A2</td>\n",
       "      <td>B2</td>\n",
       "      <td>C2</td>\n",
       "      <td>D2</td>\n",
       "    </tr>\n",
       "    <tr>\n",
       "      <th>3</th>\n",
       "      <td>A3</td>\n",
       "      <td>B3</td>\n",
       "      <td>C3</td>\n",
       "      <td>D3</td>\n",
       "    </tr>\n",
       "    <tr>\n",
       "      <th>4</th>\n",
       "      <td>A4</td>\n",
       "      <td>B4</td>\n",
       "      <td>C4</td>\n",
       "      <td>D4</td>\n",
       "    </tr>\n",
       "    <tr>\n",
       "      <th>5</th>\n",
       "      <td>A5</td>\n",
       "      <td>B5</td>\n",
       "      <td>C5</td>\n",
       "      <td>D5</td>\n",
       "    </tr>\n",
       "  </tbody>\n",
       "</table>\n",
       "</div>"
      ],
      "text/plain": [
       "    A   B   C   D\n",
       "0  A0  B0  C0  D0\n",
       "1  A1  B1  C1  D1\n",
       "2  A2  B2  C2  D2\n",
       "3  A3  B3  C3  D3\n",
       "4  A4  B4  C4  D4\n",
       "5  A5  B5  C5  D5"
      ]
     },
     "execution_count": 25,
     "metadata": {},
     "output_type": "execute_result"
    }
   ],
   "source": [
    "pd.concat([df1, df2], ignore_index=True)"
   ]
  },
  {
   "cell_type": "markdown",
   "metadata": {},
   "source": [
    "### Using append"
   ]
  },
  {
   "cell_type": "code",
   "execution_count": 26,
   "metadata": {
    "collapsed": false,
    "run_control": {
     "frozen": false,
     "read_only": false
    }
   },
   "outputs": [
    {
     "data": {
      "text/html": [
       "<div>\n",
       "<table border=\"1\" class=\"dataframe\">\n",
       "  <thead>\n",
       "    <tr style=\"text-align: right;\">\n",
       "      <th></th>\n",
       "      <th>A</th>\n",
       "      <th>B</th>\n",
       "      <th>C</th>\n",
       "      <th>D</th>\n",
       "    </tr>\n",
       "  </thead>\n",
       "  <tbody>\n",
       "    <tr>\n",
       "      <th>0</th>\n",
       "      <td>A0</td>\n",
       "      <td>B0</td>\n",
       "      <td>C0</td>\n",
       "      <td>D0</td>\n",
       "    </tr>\n",
       "    <tr>\n",
       "      <th>1</th>\n",
       "      <td>A1</td>\n",
       "      <td>B1</td>\n",
       "      <td>C1</td>\n",
       "      <td>D1</td>\n",
       "    </tr>\n",
       "    <tr>\n",
       "      <th>2</th>\n",
       "      <td>A2</td>\n",
       "      <td>B2</td>\n",
       "      <td>C2</td>\n",
       "      <td>D2</td>\n",
       "    </tr>\n",
       "    <tr>\n",
       "      <th>3</th>\n",
       "      <td>A3</td>\n",
       "      <td>B3</td>\n",
       "      <td>C3</td>\n",
       "      <td>D3</td>\n",
       "    </tr>\n",
       "    <tr>\n",
       "      <th>4</th>\n",
       "      <td>A4</td>\n",
       "      <td>B4</td>\n",
       "      <td>C4</td>\n",
       "      <td>D4</td>\n",
       "    </tr>\n",
       "    <tr>\n",
       "      <th>5</th>\n",
       "      <td>A5</td>\n",
       "      <td>B5</td>\n",
       "      <td>C5</td>\n",
       "      <td>D5</td>\n",
       "    </tr>\n",
       "  </tbody>\n",
       "</table>\n",
       "</div>"
      ],
      "text/plain": [
       "    A   B   C   D\n",
       "0  A0  B0  C0  D0\n",
       "1  A1  B1  C1  D1\n",
       "2  A2  B2  C2  D2\n",
       "3  A3  B3  C3  D3\n",
       "4  A4  B4  C4  D4\n",
       "5  A5  B5  C5  D5"
      ]
     },
     "execution_count": 26,
     "metadata": {},
     "output_type": "execute_result"
    }
   ],
   "source": [
    "df1.append(df2, ignore_index=True)"
   ]
  },
  {
   "cell_type": "markdown",
   "metadata": {},
   "source": [
    "## Add second dataframe to the right of first"
   ]
  },
  {
   "cell_type": "markdown",
   "metadata": {},
   "source": [
    "### Using concat combined with axis=1 parameter"
   ]
  },
  {
   "cell_type": "code",
   "execution_count": 27,
   "metadata": {
    "collapsed": false,
    "run_control": {
     "frozen": false,
     "read_only": false
    }
   },
   "outputs": [
    {
     "data": {
      "text/html": [
       "<div>\n",
       "<table border=\"1\" class=\"dataframe\">\n",
       "  <thead>\n",
       "    <tr style=\"text-align: right;\">\n",
       "      <th></th>\n",
       "      <th>0</th>\n",
       "      <th>1</th>\n",
       "      <th>2</th>\n",
       "      <th>3</th>\n",
       "      <th>4</th>\n",
       "      <th>5</th>\n",
       "      <th>6</th>\n",
       "      <th>7</th>\n",
       "    </tr>\n",
       "  </thead>\n",
       "  <tbody>\n",
       "    <tr>\n",
       "      <th>0</th>\n",
       "      <td>A0</td>\n",
       "      <td>B0</td>\n",
       "      <td>C0</td>\n",
       "      <td>D0</td>\n",
       "      <td>A4</td>\n",
       "      <td>B4</td>\n",
       "      <td>C4</td>\n",
       "      <td>D4</td>\n",
       "    </tr>\n",
       "    <tr>\n",
       "      <th>1</th>\n",
       "      <td>A1</td>\n",
       "      <td>B1</td>\n",
       "      <td>C1</td>\n",
       "      <td>D1</td>\n",
       "      <td>A5</td>\n",
       "      <td>B5</td>\n",
       "      <td>C5</td>\n",
       "      <td>D5</td>\n",
       "    </tr>\n",
       "    <tr>\n",
       "      <th>2</th>\n",
       "      <td>A2</td>\n",
       "      <td>B2</td>\n",
       "      <td>C2</td>\n",
       "      <td>D2</td>\n",
       "      <td>NaN</td>\n",
       "      <td>NaN</td>\n",
       "      <td>NaN</td>\n",
       "      <td>NaN</td>\n",
       "    </tr>\n",
       "    <tr>\n",
       "      <th>3</th>\n",
       "      <td>A3</td>\n",
       "      <td>B3</td>\n",
       "      <td>C3</td>\n",
       "      <td>D3</td>\n",
       "      <td>NaN</td>\n",
       "      <td>NaN</td>\n",
       "      <td>NaN</td>\n",
       "      <td>NaN</td>\n",
       "    </tr>\n",
       "  </tbody>\n",
       "</table>\n",
       "</div>"
      ],
      "text/plain": [
       "    0   1   2   3    4    5    6    7\n",
       "0  A0  B0  C0  D0   A4   B4   C4   D4\n",
       "1  A1  B1  C1  D1   A5   B5   C5   D5\n",
       "2  A2  B2  C2  D2  NaN  NaN  NaN  NaN\n",
       "3  A3  B3  C3  D3  NaN  NaN  NaN  NaN"
      ]
     },
     "execution_count": 27,
     "metadata": {},
     "output_type": "execute_result"
    }
   ],
   "source": [
    "pd.concat([df1, df2], axis=1, ignore_index=True)"
   ]
  },
  {
   "cell_type": "markdown",
   "metadata": {},
   "source": [
    "## Append row to dataframe\n",
    "Index of series objects needs to match column names"
   ]
  },
  {
   "cell_type": "code",
   "execution_count": 28,
   "metadata": {
    "collapsed": false,
    "run_control": {
     "frozen": false,
     "read_only": false
    }
   },
   "outputs": [
    {
     "data": {
      "text/html": [
       "<div>\n",
       "<table border=\"1\" class=\"dataframe\">\n",
       "  <thead>\n",
       "    <tr style=\"text-align: right;\">\n",
       "      <th></th>\n",
       "      <th>A</th>\n",
       "      <th>B</th>\n",
       "      <th>C</th>\n",
       "      <th>D</th>\n",
       "    </tr>\n",
       "  </thead>\n",
       "  <tbody>\n",
       "    <tr>\n",
       "      <th>0</th>\n",
       "      <td>A0</td>\n",
       "      <td>B0</td>\n",
       "      <td>C0</td>\n",
       "      <td>D0</td>\n",
       "    </tr>\n",
       "    <tr>\n",
       "      <th>1</th>\n",
       "      <td>A1</td>\n",
       "      <td>B1</td>\n",
       "      <td>C1</td>\n",
       "      <td>D1</td>\n",
       "    </tr>\n",
       "    <tr>\n",
       "      <th>2</th>\n",
       "      <td>A2</td>\n",
       "      <td>B2</td>\n",
       "      <td>C2</td>\n",
       "      <td>D2</td>\n",
       "    </tr>\n",
       "    <tr>\n",
       "      <th>3</th>\n",
       "      <td>A3</td>\n",
       "      <td>B3</td>\n",
       "      <td>C3</td>\n",
       "      <td>D3</td>\n",
       "    </tr>\n",
       "    <tr>\n",
       "      <th>4</th>\n",
       "      <td>X0</td>\n",
       "      <td>X1</td>\n",
       "      <td>X2</td>\n",
       "      <td>X3</td>\n",
       "    </tr>\n",
       "  </tbody>\n",
       "</table>\n",
       "</div>"
      ],
      "text/plain": [
       "    A   B   C   D\n",
       "0  A0  B0  C0  D0\n",
       "1  A1  B1  C1  D1\n",
       "2  A2  B2  C2  D2\n",
       "3  A3  B3  C3  D3\n",
       "4  X0  X1  X2  X3"
      ]
     },
     "execution_count": 28,
     "metadata": {},
     "output_type": "execute_result"
    }
   ],
   "source": [
    "s2 = pd.Series(['X0', 'X1', 'X2', 'X3'], index=['A', 'B', 'C', 'D'])\n",
    "df1.append(s2, ignore_index=True)"
   ]
  },
  {
   "cell_type": "markdown",
   "metadata": {},
   "source": [
    "## Append constant value columns"
   ]
  },
  {
   "cell_type": "code",
   "execution_count": 29,
   "metadata": {
    "collapsed": false,
    "run_control": {
     "frozen": false,
     "read_only": false
    }
   },
   "outputs": [
    {
     "data": {
      "text/html": [
       "<div>\n",
       "<table border=\"1\" class=\"dataframe\">\n",
       "  <thead>\n",
       "    <tr style=\"text-align: right;\">\n",
       "      <th></th>\n",
       "      <th>A</th>\n",
       "      <th>B</th>\n",
       "      <th>C</th>\n",
       "      <th>D</th>\n",
       "      <th>const</th>\n",
       "    </tr>\n",
       "  </thead>\n",
       "  <tbody>\n",
       "    <tr>\n",
       "      <th>0</th>\n",
       "      <td>A0</td>\n",
       "      <td>B0</td>\n",
       "      <td>C0</td>\n",
       "      <td>D0</td>\n",
       "      <td>1</td>\n",
       "    </tr>\n",
       "    <tr>\n",
       "      <th>1</th>\n",
       "      <td>A1</td>\n",
       "      <td>B1</td>\n",
       "      <td>C1</td>\n",
       "      <td>D1</td>\n",
       "      <td>1</td>\n",
       "    </tr>\n",
       "    <tr>\n",
       "      <th>2</th>\n",
       "      <td>A2</td>\n",
       "      <td>B2</td>\n",
       "      <td>C2</td>\n",
       "      <td>D2</td>\n",
       "      <td>1</td>\n",
       "    </tr>\n",
       "    <tr>\n",
       "      <th>3</th>\n",
       "      <td>A3</td>\n",
       "      <td>B3</td>\n",
       "      <td>C3</td>\n",
       "      <td>D3</td>\n",
       "      <td>1</td>\n",
       "    </tr>\n",
       "  </tbody>\n",
       "</table>\n",
       "</div>"
      ],
      "text/plain": [
       "    A   B   C   D  const\n",
       "0  A0  B0  C0  D0      1\n",
       "1  A1  B1  C1  D1      1\n",
       "2  A2  B2  C2  D2      1\n",
       "3  A3  B3  C3  D3      1"
      ]
     },
     "execution_count": 29,
     "metadata": {},
     "output_type": "execute_result"
    }
   ],
   "source": [
    "df1['const'] = 1\n",
    "df1"
   ]
  },
  {
   "cell_type": "markdown",
   "metadata": {},
   "source": [
    "## Delete columns"
   ]
  },
  {
   "cell_type": "code",
   "execution_count": 30,
   "metadata": {
    "collapsed": true,
    "run_control": {
     "frozen": false,
     "read_only": false
    }
   },
   "outputs": [],
   "source": [
    "del df1['const']"
   ]
  },
  {
   "cell_type": "markdown",
   "metadata": {},
   "source": [
    "## Append column with value calculated from other columns"
   ]
  },
  {
   "cell_type": "code",
   "execution_count": 31,
   "metadata": {
    "collapsed": true,
    "run_control": {
     "frozen": false,
     "read_only": false
    }
   },
   "outputs": [],
   "source": [
    "df1['AB'] = df1['A'] + df1['B']"
   ]
  },
  {
   "cell_type": "code",
   "execution_count": 32,
   "metadata": {
    "collapsed": false,
    "run_control": {
     "frozen": false,
     "read_only": false
    }
   },
   "outputs": [
    {
     "data": {
      "text/html": [
       "<div>\n",
       "<table border=\"1\" class=\"dataframe\">\n",
       "  <thead>\n",
       "    <tr style=\"text-align: right;\">\n",
       "      <th></th>\n",
       "      <th>A</th>\n",
       "      <th>B</th>\n",
       "      <th>C</th>\n",
       "      <th>D</th>\n",
       "      <th>AB</th>\n",
       "    </tr>\n",
       "  </thead>\n",
       "  <tbody>\n",
       "    <tr>\n",
       "      <th>0</th>\n",
       "      <td>A0</td>\n",
       "      <td>B0</td>\n",
       "      <td>C0</td>\n",
       "      <td>D0</td>\n",
       "      <td>A0B0</td>\n",
       "    </tr>\n",
       "    <tr>\n",
       "      <th>1</th>\n",
       "      <td>A1</td>\n",
       "      <td>B1</td>\n",
       "      <td>C1</td>\n",
       "      <td>D1</td>\n",
       "      <td>A1B1</td>\n",
       "    </tr>\n",
       "    <tr>\n",
       "      <th>2</th>\n",
       "      <td>A2</td>\n",
       "      <td>B2</td>\n",
       "      <td>C2</td>\n",
       "      <td>D2</td>\n",
       "      <td>A2B2</td>\n",
       "    </tr>\n",
       "    <tr>\n",
       "      <th>3</th>\n",
       "      <td>A3</td>\n",
       "      <td>B3</td>\n",
       "      <td>C3</td>\n",
       "      <td>D3</td>\n",
       "      <td>A3B3</td>\n",
       "    </tr>\n",
       "  </tbody>\n",
       "</table>\n",
       "</div>"
      ],
      "text/plain": [
       "    A   B   C   D    AB\n",
       "0  A0  B0  C0  D0  A0B0\n",
       "1  A1  B1  C1  D1  A1B1\n",
       "2  A2  B2  C2  D2  A2B2\n",
       "3  A3  B3  C3  D3  A3B3"
      ]
     },
     "execution_count": 32,
     "metadata": {},
     "output_type": "execute_result"
    }
   ],
   "source": [
    "df1"
   ]
  },
  {
   "cell_type": "markdown",
   "metadata": {},
   "source": [
    "## Transpose"
   ]
  },
  {
   "cell_type": "code",
   "execution_count": 34,
   "metadata": {
    "collapsed": false,
    "run_control": {
     "frozen": false,
     "read_only": false
    }
   },
   "outputs": [
    {
     "data": {
      "text/html": [
       "<div>\n",
       "<table border=\"1\" class=\"dataframe\">\n",
       "  <thead>\n",
       "    <tr style=\"text-align: right;\">\n",
       "      <th></th>\n",
       "      <th>0</th>\n",
       "      <th>1</th>\n",
       "      <th>2</th>\n",
       "      <th>3</th>\n",
       "    </tr>\n",
       "  </thead>\n",
       "  <tbody>\n",
       "    <tr>\n",
       "      <th>A</th>\n",
       "      <td>A0</td>\n",
       "      <td>A1</td>\n",
       "      <td>A2</td>\n",
       "      <td>A3</td>\n",
       "    </tr>\n",
       "    <tr>\n",
       "      <th>B</th>\n",
       "      <td>B0</td>\n",
       "      <td>B1</td>\n",
       "      <td>B2</td>\n",
       "      <td>B3</td>\n",
       "    </tr>\n",
       "    <tr>\n",
       "      <th>C</th>\n",
       "      <td>C0</td>\n",
       "      <td>C1</td>\n",
       "      <td>C2</td>\n",
       "      <td>C3</td>\n",
       "    </tr>\n",
       "    <tr>\n",
       "      <th>D</th>\n",
       "      <td>D0</td>\n",
       "      <td>D1</td>\n",
       "      <td>D2</td>\n",
       "      <td>D3</td>\n",
       "    </tr>\n",
       "    <tr>\n",
       "      <th>AB</th>\n",
       "      <td>A0B0</td>\n",
       "      <td>A1B1</td>\n",
       "      <td>A2B2</td>\n",
       "      <td>A3B3</td>\n",
       "    </tr>\n",
       "  </tbody>\n",
       "</table>\n",
       "</div>"
      ],
      "text/plain": [
       "       0     1     2     3\n",
       "A     A0    A1    A2    A3\n",
       "B     B0    B1    B2    B3\n",
       "C     C0    C1    C2    C3\n",
       "D     D0    D1    D2    D3\n",
       "AB  A0B0  A1B1  A2B2  A3B3"
      ]
     },
     "execution_count": 34,
     "metadata": {},
     "output_type": "execute_result"
    }
   ],
   "source": [
    "df1.transpose()"
   ]
  },
  {
   "cell_type": "markdown",
   "metadata": {},
   "source": [
    "## Merge/Join\n",
    "A general overview of pandas merging/combining functions is given at: http://pandas.pydata.org/pandas-docs/stable/merging.html"
   ]
  },
  {
   "cell_type": "markdown",
   "metadata": {},
   "source": [
    "### Using single index dataframes\n",
    "Merging can be done using columns or indeces. If the dataframes have columns with the same names, it will join\n",
    "on these. If you want to join on index rather than a column, use 'join' function. "
   ]
  },
  {
   "cell_type": "code",
   "execution_count": 35,
   "metadata": {
    "collapsed": true,
    "run_control": {
     "frozen": false,
     "read_only": false
    }
   },
   "outputs": [],
   "source": [
    "s1 = pd.Series(['abc', 'bcd', 'xyz', 'cde', 'zyx', 'yxz'])\n",
    "s2 = pd.Series(['abc', 'fgh', 'abc', 'def', 'abc', 'fgh', 'fgh'])\n",
    "d1 = pd.DataFrame({'s1': s1, 's2': s2})\n",
    "\n",
    "s3 = pd.Series(['abc', 'bcd', 'xyz', 'cde', 'zyx', 'yxz', 'cba'])\n",
    "s4 = pd.Series([0.0, 0.1, 0.2, 0.3, 0.4, 0.5, 0.6])\n",
    "s5 = pd.Series([1.0, 1.1, 1.2, 1.3, 1.4, 1.5, 1.6])\n",
    "d2 = pd.DataFrame({'s1': s3, 's3': s4, 's4': s5})"
   ]
  },
  {
   "cell_type": "markdown",
   "metadata": {},
   "source": [
    "#### Merge with inner join"
   ]
  },
  {
   "cell_type": "code",
   "execution_count": 36,
   "metadata": {
    "collapsed": false,
    "run_control": {
     "frozen": false,
     "read_only": false
    }
   },
   "outputs": [
    {
     "data": {
      "text/html": [
       "<div>\n",
       "<table border=\"1\" class=\"dataframe\">\n",
       "  <thead>\n",
       "    <tr style=\"text-align: right;\">\n",
       "      <th></th>\n",
       "      <th>s1</th>\n",
       "      <th>s2</th>\n",
       "      <th>s3</th>\n",
       "      <th>s4</th>\n",
       "    </tr>\n",
       "  </thead>\n",
       "  <tbody>\n",
       "    <tr>\n",
       "      <th>0</th>\n",
       "      <td>abc</td>\n",
       "      <td>abc</td>\n",
       "      <td>0.0</td>\n",
       "      <td>1.0</td>\n",
       "    </tr>\n",
       "    <tr>\n",
       "      <th>1</th>\n",
       "      <td>bcd</td>\n",
       "      <td>fgh</td>\n",
       "      <td>0.1</td>\n",
       "      <td>1.1</td>\n",
       "    </tr>\n",
       "    <tr>\n",
       "      <th>2</th>\n",
       "      <td>xyz</td>\n",
       "      <td>abc</td>\n",
       "      <td>0.2</td>\n",
       "      <td>1.2</td>\n",
       "    </tr>\n",
       "    <tr>\n",
       "      <th>3</th>\n",
       "      <td>cde</td>\n",
       "      <td>def</td>\n",
       "      <td>0.3</td>\n",
       "      <td>1.3</td>\n",
       "    </tr>\n",
       "    <tr>\n",
       "      <th>4</th>\n",
       "      <td>zyx</td>\n",
       "      <td>abc</td>\n",
       "      <td>0.4</td>\n",
       "      <td>1.4</td>\n",
       "    </tr>\n",
       "    <tr>\n",
       "      <th>5</th>\n",
       "      <td>yxz</td>\n",
       "      <td>fgh</td>\n",
       "      <td>0.5</td>\n",
       "      <td>1.5</td>\n",
       "    </tr>\n",
       "  </tbody>\n",
       "</table>\n",
       "</div>"
      ],
      "text/plain": [
       "    s1   s2   s3   s4\n",
       "0  abc  abc  0.0  1.0\n",
       "1  bcd  fgh  0.1  1.1\n",
       "2  xyz  abc  0.2  1.2\n",
       "3  cde  def  0.3  1.3\n",
       "4  zyx  abc  0.4  1.4\n",
       "5  yxz  fgh  0.5  1.5"
      ]
     },
     "execution_count": 36,
     "metadata": {},
     "output_type": "execute_result"
    }
   ],
   "source": [
    "d1.merge(d2)"
   ]
  },
  {
   "cell_type": "markdown",
   "metadata": {},
   "source": [
    "#### Join with inner join"
   ]
  },
  {
   "cell_type": "code",
   "execution_count": 37,
   "metadata": {
    "collapsed": false,
    "run_control": {
     "frozen": false,
     "read_only": false
    }
   },
   "outputs": [],
   "source": [
    "d1_i = d1.set_index('s1')\n",
    "d2_i = d2.set_index('s1')"
   ]
  },
  {
   "cell_type": "code",
   "execution_count": 38,
   "metadata": {
    "collapsed": false,
    "run_control": {
     "frozen": false,
     "read_only": false
    }
   },
   "outputs": [
    {
     "data": {
      "text/html": [
       "<div>\n",
       "<table border=\"1\" class=\"dataframe\">\n",
       "  <thead>\n",
       "    <tr style=\"text-align: right;\">\n",
       "      <th></th>\n",
       "      <th>s2</th>\n",
       "      <th>s3</th>\n",
       "      <th>s4</th>\n",
       "    </tr>\n",
       "    <tr>\n",
       "      <th>s1</th>\n",
       "      <th></th>\n",
       "      <th></th>\n",
       "      <th></th>\n",
       "    </tr>\n",
       "  </thead>\n",
       "  <tbody>\n",
       "    <tr>\n",
       "      <th>abc</th>\n",
       "      <td>abc</td>\n",
       "      <td>0.0</td>\n",
       "      <td>1.0</td>\n",
       "    </tr>\n",
       "    <tr>\n",
       "      <th>bcd</th>\n",
       "      <td>fgh</td>\n",
       "      <td>0.1</td>\n",
       "      <td>1.1</td>\n",
       "    </tr>\n",
       "    <tr>\n",
       "      <th>xyz</th>\n",
       "      <td>abc</td>\n",
       "      <td>0.2</td>\n",
       "      <td>1.2</td>\n",
       "    </tr>\n",
       "    <tr>\n",
       "      <th>cde</th>\n",
       "      <td>def</td>\n",
       "      <td>0.3</td>\n",
       "      <td>1.3</td>\n",
       "    </tr>\n",
       "    <tr>\n",
       "      <th>zyx</th>\n",
       "      <td>abc</td>\n",
       "      <td>0.4</td>\n",
       "      <td>1.4</td>\n",
       "    </tr>\n",
       "    <tr>\n",
       "      <th>yxz</th>\n",
       "      <td>fgh</td>\n",
       "      <td>0.5</td>\n",
       "      <td>1.5</td>\n",
       "    </tr>\n",
       "  </tbody>\n",
       "</table>\n",
       "</div>"
      ],
      "text/plain": [
       "      s2   s3   s4\n",
       "s1                \n",
       "abc  abc  0.0  1.0\n",
       "bcd  fgh  0.1  1.1\n",
       "xyz  abc  0.2  1.2\n",
       "cde  def  0.3  1.3\n",
       "zyx  abc  0.4  1.4\n",
       "yxz  fgh  0.5  1.5"
      ]
     },
     "execution_count": 38,
     "metadata": {},
     "output_type": "execute_result"
    }
   ],
   "source": [
    "d1_i.join(d2_i, how='inner')"
   ]
  },
  {
   "cell_type": "markdown",
   "metadata": {},
   "source": [
    "If columns overlap, the suffixes have to be defined explicitely"
   ]
  },
  {
   "cell_type": "code",
   "execution_count": 39,
   "metadata": {
    "collapsed": false,
    "run_control": {
     "frozen": false,
     "read_only": false
    }
   },
   "outputs": [
    {
     "data": {
      "text/html": [
       "<div>\n",
       "<table border=\"1\" class=\"dataframe\">\n",
       "  <thead>\n",
       "    <tr style=\"text-align: right;\">\n",
       "      <th></th>\n",
       "      <th>s2_left</th>\n",
       "      <th>s2_right</th>\n",
       "    </tr>\n",
       "    <tr>\n",
       "      <th>s1</th>\n",
       "      <th></th>\n",
       "      <th></th>\n",
       "    </tr>\n",
       "  </thead>\n",
       "  <tbody>\n",
       "    <tr>\n",
       "      <th>abc</th>\n",
       "      <td>abc</td>\n",
       "      <td>abc</td>\n",
       "    </tr>\n",
       "    <tr>\n",
       "      <th>bcd</th>\n",
       "      <td>fgh</td>\n",
       "      <td>fgh</td>\n",
       "    </tr>\n",
       "    <tr>\n",
       "      <th>xyz</th>\n",
       "      <td>abc</td>\n",
       "      <td>abc</td>\n",
       "    </tr>\n",
       "    <tr>\n",
       "      <th>cde</th>\n",
       "      <td>def</td>\n",
       "      <td>def</td>\n",
       "    </tr>\n",
       "    <tr>\n",
       "      <th>zyx</th>\n",
       "      <td>abc</td>\n",
       "      <td>abc</td>\n",
       "    </tr>\n",
       "    <tr>\n",
       "      <th>yxz</th>\n",
       "      <td>fgh</td>\n",
       "      <td>fgh</td>\n",
       "    </tr>\n",
       "    <tr>\n",
       "      <th>NaN</th>\n",
       "      <td>fgh</td>\n",
       "      <td>fgh</td>\n",
       "    </tr>\n",
       "  </tbody>\n",
       "</table>\n",
       "</div>"
      ],
      "text/plain": [
       "    s2_left s2_right\n",
       "s1                  \n",
       "abc     abc      abc\n",
       "bcd     fgh      fgh\n",
       "xyz     abc      abc\n",
       "cde     def      def\n",
       "zyx     abc      abc\n",
       "yxz     fgh      fgh\n",
       "NaN     fgh      fgh"
      ]
     },
     "execution_count": 39,
     "metadata": {},
     "output_type": "execute_result"
    }
   ],
   "source": [
    "d1_i.join(d1_i, lsuffix='_left', rsuffix='_right', how='inner')"
   ]
  },
  {
   "cell_type": "markdown",
   "metadata": {},
   "source": [
    "#### Full outer join"
   ]
  },
  {
   "cell_type": "code",
   "execution_count": 40,
   "metadata": {
    "collapsed": false,
    "run_control": {
     "frozen": false,
     "read_only": false
    }
   },
   "outputs": [
    {
     "data": {
      "text/html": [
       "<div>\n",
       "<table border=\"1\" class=\"dataframe\">\n",
       "  <thead>\n",
       "    <tr style=\"text-align: right;\">\n",
       "      <th></th>\n",
       "      <th>s1</th>\n",
       "      <th>s2</th>\n",
       "      <th>s3</th>\n",
       "      <th>s4</th>\n",
       "    </tr>\n",
       "  </thead>\n",
       "  <tbody>\n",
       "    <tr>\n",
       "      <th>0</th>\n",
       "      <td>abc</td>\n",
       "      <td>abc</td>\n",
       "      <td>0.0</td>\n",
       "      <td>1.0</td>\n",
       "    </tr>\n",
       "    <tr>\n",
       "      <th>1</th>\n",
       "      <td>bcd</td>\n",
       "      <td>fgh</td>\n",
       "      <td>0.1</td>\n",
       "      <td>1.1</td>\n",
       "    </tr>\n",
       "    <tr>\n",
       "      <th>2</th>\n",
       "      <td>xyz</td>\n",
       "      <td>abc</td>\n",
       "      <td>0.2</td>\n",
       "      <td>1.2</td>\n",
       "    </tr>\n",
       "    <tr>\n",
       "      <th>3</th>\n",
       "      <td>cde</td>\n",
       "      <td>def</td>\n",
       "      <td>0.3</td>\n",
       "      <td>1.3</td>\n",
       "    </tr>\n",
       "    <tr>\n",
       "      <th>4</th>\n",
       "      <td>zyx</td>\n",
       "      <td>abc</td>\n",
       "      <td>0.4</td>\n",
       "      <td>1.4</td>\n",
       "    </tr>\n",
       "    <tr>\n",
       "      <th>5</th>\n",
       "      <td>yxz</td>\n",
       "      <td>fgh</td>\n",
       "      <td>0.5</td>\n",
       "      <td>1.5</td>\n",
       "    </tr>\n",
       "    <tr>\n",
       "      <th>6</th>\n",
       "      <td>NaN</td>\n",
       "      <td>fgh</td>\n",
       "      <td>NaN</td>\n",
       "      <td>NaN</td>\n",
       "    </tr>\n",
       "    <tr>\n",
       "      <th>7</th>\n",
       "      <td>cba</td>\n",
       "      <td>NaN</td>\n",
       "      <td>0.6</td>\n",
       "      <td>1.6</td>\n",
       "    </tr>\n",
       "  </tbody>\n",
       "</table>\n",
       "</div>"
      ],
      "text/plain": [
       "    s1   s2   s3   s4\n",
       "0  abc  abc  0.0  1.0\n",
       "1  bcd  fgh  0.1  1.1\n",
       "2  xyz  abc  0.2  1.2\n",
       "3  cde  def  0.3  1.3\n",
       "4  zyx  abc  0.4  1.4\n",
       "5  yxz  fgh  0.5  1.5\n",
       "6  NaN  fgh  NaN  NaN\n",
       "7  cba  NaN  0.6  1.6"
      ]
     },
     "execution_count": 40,
     "metadata": {},
     "output_type": "execute_result"
    }
   ],
   "source": [
    "d1.merge(d2, how='outer')"
   ]
  },
  {
   "cell_type": "markdown",
   "metadata": {},
   "source": [
    "#### Duplicate column names for columns not to be joined\n",
    "Define columns to join on with 'on', 'left_on'/'right_on' paraemters.\n",
    "Duplicate names in non-join columns will be extended by suffixes (\\_x, \\_y) or those defined by user."
   ]
  },
  {
   "cell_type": "code",
   "execution_count": 41,
   "metadata": {
    "collapsed": true,
    "run_control": {
     "frozen": false,
     "read_only": false
    }
   },
   "outputs": [],
   "source": [
    "s1 = pd.Series(['abc', 'bcd', 'xyz', 'cde', 'zyx', 'yxz'])\n",
    "s2 = pd.Series(['abc', 'fgh', 'abc', 'def', 'abc', 'fgh', 'fgh'])\n",
    "d1 = pd.DataFrame({'s1': s1, 's2': s2})\n",
    "\n",
    "s3 = pd.Series(['abc', 'bcd', 'xyz', 'cde', 'zyx', 'yxz', 'cba'])\n",
    "s4 = pd.Series([0.0, 0.1, 0.2, 0.3, 0.4, 0.5, 0.6])\n",
    "s5 = pd.Series([1.0, 1.1, 1.2, 1.3, 1.4, 1.5, 1.6])\n",
    "d2 = pd.DataFrame({'s1': s3, 's2': s4, 's4': s5})"
   ]
  },
  {
   "cell_type": "code",
   "execution_count": 42,
   "metadata": {
    "collapsed": false,
    "run_control": {
     "frozen": false,
     "read_only": false
    }
   },
   "outputs": [
    {
     "data": {
      "text/html": [
       "<div>\n",
       "<table border=\"1\" class=\"dataframe\">\n",
       "  <thead>\n",
       "    <tr style=\"text-align: right;\">\n",
       "      <th></th>\n",
       "      <th>s1</th>\n",
       "      <th>s2_x</th>\n",
       "      <th>s2_y</th>\n",
       "      <th>s4</th>\n",
       "    </tr>\n",
       "  </thead>\n",
       "  <tbody>\n",
       "    <tr>\n",
       "      <th>0</th>\n",
       "      <td>abc</td>\n",
       "      <td>abc</td>\n",
       "      <td>0.0</td>\n",
       "      <td>1.0</td>\n",
       "    </tr>\n",
       "    <tr>\n",
       "      <th>1</th>\n",
       "      <td>bcd</td>\n",
       "      <td>fgh</td>\n",
       "      <td>0.1</td>\n",
       "      <td>1.1</td>\n",
       "    </tr>\n",
       "    <tr>\n",
       "      <th>2</th>\n",
       "      <td>xyz</td>\n",
       "      <td>abc</td>\n",
       "      <td>0.2</td>\n",
       "      <td>1.2</td>\n",
       "    </tr>\n",
       "    <tr>\n",
       "      <th>3</th>\n",
       "      <td>cde</td>\n",
       "      <td>def</td>\n",
       "      <td>0.3</td>\n",
       "      <td>1.3</td>\n",
       "    </tr>\n",
       "    <tr>\n",
       "      <th>4</th>\n",
       "      <td>zyx</td>\n",
       "      <td>abc</td>\n",
       "      <td>0.4</td>\n",
       "      <td>1.4</td>\n",
       "    </tr>\n",
       "    <tr>\n",
       "      <th>5</th>\n",
       "      <td>yxz</td>\n",
       "      <td>fgh</td>\n",
       "      <td>0.5</td>\n",
       "      <td>1.5</td>\n",
       "    </tr>\n",
       "  </tbody>\n",
       "</table>\n",
       "</div>"
      ],
      "text/plain": [
       "    s1 s2_x  s2_y   s4\n",
       "0  abc  abc   0.0  1.0\n",
       "1  bcd  fgh   0.1  1.1\n",
       "2  xyz  abc   0.2  1.2\n",
       "3  cde  def   0.3  1.3\n",
       "4  zyx  abc   0.4  1.4\n",
       "5  yxz  fgh   0.5  1.5"
      ]
     },
     "execution_count": 42,
     "metadata": {},
     "output_type": "execute_result"
    }
   ],
   "source": [
    "d1.merge(d2, on='s1')"
   ]
  },
  {
   "cell_type": "code",
   "execution_count": 43,
   "metadata": {
    "collapsed": false,
    "run_control": {
     "frozen": false,
     "read_only": false
    }
   },
   "outputs": [
    {
     "data": {
      "text/html": [
       "<div>\n",
       "<table border=\"1\" class=\"dataframe\">\n",
       "  <thead>\n",
       "    <tr style=\"text-align: right;\">\n",
       "      <th></th>\n",
       "      <th>s1</th>\n",
       "      <th>s2_df1</th>\n",
       "      <th>s2_df2</th>\n",
       "      <th>s4</th>\n",
       "    </tr>\n",
       "  </thead>\n",
       "  <tbody>\n",
       "    <tr>\n",
       "      <th>0</th>\n",
       "      <td>abc</td>\n",
       "      <td>abc</td>\n",
       "      <td>0.0</td>\n",
       "      <td>1.0</td>\n",
       "    </tr>\n",
       "    <tr>\n",
       "      <th>1</th>\n",
       "      <td>bcd</td>\n",
       "      <td>fgh</td>\n",
       "      <td>0.1</td>\n",
       "      <td>1.1</td>\n",
       "    </tr>\n",
       "    <tr>\n",
       "      <th>2</th>\n",
       "      <td>xyz</td>\n",
       "      <td>abc</td>\n",
       "      <td>0.2</td>\n",
       "      <td>1.2</td>\n",
       "    </tr>\n",
       "    <tr>\n",
       "      <th>3</th>\n",
       "      <td>cde</td>\n",
       "      <td>def</td>\n",
       "      <td>0.3</td>\n",
       "      <td>1.3</td>\n",
       "    </tr>\n",
       "    <tr>\n",
       "      <th>4</th>\n",
       "      <td>zyx</td>\n",
       "      <td>abc</td>\n",
       "      <td>0.4</td>\n",
       "      <td>1.4</td>\n",
       "    </tr>\n",
       "    <tr>\n",
       "      <th>5</th>\n",
       "      <td>yxz</td>\n",
       "      <td>fgh</td>\n",
       "      <td>0.5</td>\n",
       "      <td>1.5</td>\n",
       "    </tr>\n",
       "  </tbody>\n",
       "</table>\n",
       "</div>"
      ],
      "text/plain": [
       "    s1 s2_df1  s2_df2   s4\n",
       "0  abc    abc     0.0  1.0\n",
       "1  bcd    fgh     0.1  1.1\n",
       "2  xyz    abc     0.2  1.2\n",
       "3  cde    def     0.3  1.3\n",
       "4  zyx    abc     0.4  1.4\n",
       "5  yxz    fgh     0.5  1.5"
      ]
     },
     "execution_count": 43,
     "metadata": {},
     "output_type": "execute_result"
    }
   ],
   "source": [
    "d1.merge(d2, on='s1', suffixes=[\"_df1\", \"_df2\"])"
   ]
  },
  {
   "cell_type": "markdown",
   "metadata": {},
   "source": [
    "### Using multi-index dataframes"
   ]
  },
  {
   "cell_type": "markdown",
   "metadata": {},
   "source": [
    "Read instructions and descriptions [in the docs](http://pandas.pydata.org/pandas-docs/stable/merging.html#joining-key-columns-on-an-index)"
   ]
  },
  {
   "cell_type": "markdown",
   "metadata": {},
   "source": [
    "## Group-By/Aggregate\n",
    "Can be used with groupby to aggregate certain rows\n",
    "\n",
    "### Aggregate by one function for each column of interest"
   ]
  },
  {
   "cell_type": "code",
   "execution_count": 44,
   "metadata": {
    "collapsed": false,
    "run_control": {
     "frozen": false,
     "read_only": false
    }
   },
   "outputs": [
    {
     "data": {
      "text/html": [
       "<div>\n",
       "<table border=\"1\" class=\"dataframe\">\n",
       "  <thead>\n",
       "    <tr style=\"text-align: right;\">\n",
       "      <th></th>\n",
       "      <th>zip_a</th>\n",
       "      <th>zip_b</th>\n",
       "    </tr>\n",
       "    <tr>\n",
       "      <th>first_</th>\n",
       "      <th></th>\n",
       "      <th></th>\n",
       "    </tr>\n",
       "  </thead>\n",
       "  <tbody>\n",
       "    <tr>\n",
       "      <th>bar</th>\n",
       "      <td>0.245523</td>\n",
       "      <td>0.994920</td>\n",
       "    </tr>\n",
       "    <tr>\n",
       "      <th>baz</th>\n",
       "      <td>-0.811233</td>\n",
       "      <td>2.028452</td>\n",
       "    </tr>\n",
       "    <tr>\n",
       "      <th>foo</th>\n",
       "      <td>-1.014764</td>\n",
       "      <td>1.368827</td>\n",
       "    </tr>\n",
       "    <tr>\n",
       "      <th>qux</th>\n",
       "      <td>-0.182540</td>\n",
       "      <td>0.869963</td>\n",
       "    </tr>\n",
       "  </tbody>\n",
       "</table>\n",
       "</div>"
      ],
      "text/plain": [
       "           zip_a     zip_b\n",
       "first_                    \n",
       "bar     0.245523  0.994920\n",
       "baz    -0.811233  2.028452\n",
       "foo    -1.014764  1.368827\n",
       "qux    -0.182540  0.869963"
      ]
     },
     "execution_count": 44,
     "metadata": {},
     "output_type": "execute_result"
    }
   ],
   "source": [
    "dfm_reset.groupby('first_').agg({'zip_a': np.mean,\n",
    "                                 'zip_b': np.sum,\n",
    "                                 'zip_b': np.min,\n",
    "                                 'zip_b': np.max})"
   ]
  },
  {
   "cell_type": "markdown",
   "metadata": {},
   "source": [
    "### Aggregate using a new lambda function (could also be defined as explicit function and called outside)"
   ]
  },
  {
   "cell_type": "code",
   "execution_count": 45,
   "metadata": {
    "collapsed": false,
    "run_control": {
     "frozen": false,
     "read_only": false
    }
   },
   "outputs": [
    {
     "data": {
      "text/html": [
       "<div>\n",
       "<table border=\"1\" class=\"dataframe\">\n",
       "  <thead>\n",
       "    <tr style=\"text-align: right;\">\n",
       "      <th></th>\n",
       "      <th>zup_a</th>\n",
       "      <th>zup_b</th>\n",
       "    </tr>\n",
       "    <tr>\n",
       "      <th>first_</th>\n",
       "      <th></th>\n",
       "      <th></th>\n",
       "    </tr>\n",
       "  </thead>\n",
       "  <tbody>\n",
       "    <tr>\n",
       "      <th>bar</th>\n",
       "      <td>-1.61813953898, 0.607247567607</td>\n",
       "      <td>0.437896</td>\n",
       "    </tr>\n",
       "    <tr>\n",
       "      <th>baz</th>\n",
       "      <td>-0.846301410087, -0.00678086693567</td>\n",
       "      <td>-0.009264</td>\n",
       "    </tr>\n",
       "    <tr>\n",
       "      <th>foo</th>\n",
       "      <td>-1.76888744515, 0.381642099491</td>\n",
       "      <td>-0.154028</td>\n",
       "    </tr>\n",
       "    <tr>\n",
       "      <th>qux</th>\n",
       "      <td>-0.973876761637, 0.558961359761</td>\n",
       "      <td>-0.260048</td>\n",
       "    </tr>\n",
       "  </tbody>\n",
       "</table>\n",
       "</div>"
      ],
      "text/plain": [
       "                                     zup_a     zup_b\n",
       "first_                                              \n",
       "bar         -1.61813953898, 0.607247567607  0.437896\n",
       "baz     -0.846301410087, -0.00678086693567 -0.009264\n",
       "foo         -1.76888744515, 0.381642099491 -0.154028\n",
       "qux        -0.973876761637, 0.558961359761 -0.260048"
      ]
     },
     "execution_count": 45,
     "metadata": {},
     "output_type": "execute_result"
    }
   ],
   "source": [
    "dfm_reset.groupby('first_').agg({'zup_a': lambda x: \", \".join(map(str, sorted(x))),\n",
    "                                 'zup_b': sum})"
   ]
  },
  {
   "cell_type": "markdown",
   "metadata": {},
   "source": [
    "### Aggregate using multiple functions for each column"
   ]
  },
  {
   "cell_type": "code",
   "execution_count": 46,
   "metadata": {
    "collapsed": false,
    "run_control": {
     "frozen": false,
     "read_only": false
    }
   },
   "outputs": [
    {
     "data": {
      "text/html": [
       "<div>\n",
       "<table border=\"1\" class=\"dataframe\">\n",
       "  <thead>\n",
       "    <tr>\n",
       "      <th></th>\n",
       "      <th colspan=\"3\" halign=\"left\">zip_a</th>\n",
       "      <th colspan=\"3\" halign=\"left\">zip_b</th>\n",
       "    </tr>\n",
       "    <tr>\n",
       "      <th></th>\n",
       "      <th>max</th>\n",
       "      <th>min</th>\n",
       "      <th>mean</th>\n",
       "      <th>max</th>\n",
       "      <th>min</th>\n",
       "      <th>mean</th>\n",
       "    </tr>\n",
       "    <tr>\n",
       "      <th>first_</th>\n",
       "      <th></th>\n",
       "      <th></th>\n",
       "      <th></th>\n",
       "      <th></th>\n",
       "      <th></th>\n",
       "      <th></th>\n",
       "    </tr>\n",
       "  </thead>\n",
       "  <tbody>\n",
       "    <tr>\n",
       "      <th>bar</th>\n",
       "      <td>0.488233</td>\n",
       "      <td>0.002813</td>\n",
       "      <td>0.245523</td>\n",
       "      <td>0.994920</td>\n",
       "      <td>-0.071623</td>\n",
       "      <td>0.461649</td>\n",
       "    </tr>\n",
       "    <tr>\n",
       "      <th>baz</th>\n",
       "      <td>-0.505740</td>\n",
       "      <td>-1.116726</td>\n",
       "      <td>-0.811233</td>\n",
       "      <td>2.028452</td>\n",
       "      <td>0.187725</td>\n",
       "      <td>1.108089</td>\n",
       "    </tr>\n",
       "    <tr>\n",
       "      <th>foo</th>\n",
       "      <td>1.149221</td>\n",
       "      <td>-3.178749</td>\n",
       "      <td>-1.014764</td>\n",
       "      <td>1.368827</td>\n",
       "      <td>-0.012289</td>\n",
       "      <td>0.678269</td>\n",
       "    </tr>\n",
       "    <tr>\n",
       "      <th>qux</th>\n",
       "      <td>-0.154611</td>\n",
       "      <td>-0.210469</td>\n",
       "      <td>-0.182540</td>\n",
       "      <td>0.869963</td>\n",
       "      <td>-0.316373</td>\n",
       "      <td>0.276795</td>\n",
       "    </tr>\n",
       "  </tbody>\n",
       "</table>\n",
       "</div>"
      ],
      "text/plain": [
       "           zip_a                         zip_b                    \n",
       "             max       min      mean       max       min      mean\n",
       "first_                                                            \n",
       "bar     0.488233  0.002813  0.245523  0.994920 -0.071623  0.461649\n",
       "baz    -0.505740 -1.116726 -0.811233  2.028452  0.187725  1.108089\n",
       "foo     1.149221 -3.178749 -1.014764  1.368827 -0.012289  0.678269\n",
       "qux    -0.154611 -0.210469 -0.182540  0.869963 -0.316373  0.276795"
      ]
     },
     "execution_count": 46,
     "metadata": {},
     "output_type": "execute_result"
    }
   ],
   "source": [
    "dfm_reset.groupby('first_').agg({'zip_a': {'mean': np.mean, 'max': np.max, 'min': np.min},\n",
    "                                 'zip_b': {'mean': np.mean, 'max': np.max, 'min': np.min}})"
   ]
  },
  {
   "cell_type": "markdown",
   "metadata": {},
   "source": [
    "## Apply\n",
    "Applies a function to a series or dataframe. Can be applied to rows (axis=0) or columns(axis=1)"
   ]
  },
  {
   "cell_type": "markdown",
   "metadata": {},
   "source": [
    "### Command format"
   ]
  },
  {
   "cell_type": "code",
   "execution_count": 47,
   "metadata": {
    "collapsed": false,
    "run_control": {
     "frozen": false,
     "read_only": false
    }
   },
   "outputs": [
    {
     "data": {
      "text/plain": [
       "0     0.238372\n",
       "1     0.000008\n",
       "2     0.255773\n",
       "3     1.247076\n",
       "4     1.320708\n",
       "5    10.104445\n",
       "6     0.023905\n",
       "7     0.044297\n",
       "dtype: float64"
      ]
     },
     "execution_count": 47,
     "metadata": {},
     "output_type": "execute_result"
    }
   ],
   "source": [
    "def f(series):\n",
    "    return series[\"zip_a\"] ** 2\n",
    "\n",
    "dfm_reset.apply(f, axis=1)"
   ]
  },
  {
   "cell_type": "markdown",
   "metadata": {},
   "source": [
    "### Using additional arguments"
   ]
  },
  {
   "cell_type": "code",
   "execution_count": 48,
   "metadata": {
    "collapsed": false,
    "run_control": {
     "frozen": false,
     "read_only": false
    }
   },
   "outputs": [
    {
     "data": {
      "text/plain": [
       "0    1.163809e-01\n",
       "1    2.226175e-08\n",
       "2   -1.293543e-01\n",
       "3   -1.392642e+00\n",
       "4    1.517785e+00\n",
       "5   -3.211949e+01\n",
       "6   -3.695935e-03\n",
       "7   -9.323237e-03\n",
       "dtype: float64"
      ]
     },
     "execution_count": 48,
     "metadata": {},
     "output_type": "execute_result"
    }
   ],
   "source": [
    "def f(series, optional_arg):\n",
    "    return series[\"zip_a\"] ** optional_arg\n",
    "\n",
    "dfm_reset.apply(f, axis=1, args=(3,))"
   ]
  },
  {
   "cell_type": "markdown",
   "metadata": {},
   "source": [
    "### Using additional arguments to define columns to use"
   ]
  },
  {
   "cell_type": "markdown",
   "metadata": {},
   "source": [
    "This can be used to define the columns used in series object\n"
   ]
  },
  {
   "cell_type": "code",
   "execution_count": 49,
   "metadata": {
    "collapsed": false,
    "run_control": {
     "frozen": false,
     "read_only": false
    }
   },
   "outputs": [
    {
     "data": {
      "text/plain": [
       "0     -3.496870\n",
       "1      0.279882\n",
       "2     -9.494005\n",
       "3   -226.522417\n",
       "4     -1.412232\n",
       "5   -435.115647\n",
       "6    -13.450621\n",
       "7      6.658684\n",
       "dtype: float64"
      ]
     },
     "execution_count": 49,
     "metadata": {},
     "output_type": "execute_result"
    }
   ],
   "source": [
    "def f(series, col1, col2, constant):\n",
    "    return series[col1] * series[col2] * constant\n",
    "\n",
    "dfm_reset.apply(f, axis=1, args=(\"zip_a\", \"zip_b\", 100))"
   ]
  },
  {
   "cell_type": "markdown",
   "metadata": {},
   "source": [
    "### Using variable number of arguments\n",
    "Also functions with a variable number of arguments are possible"
   ]
  },
  {
   "cell_type": "code",
   "execution_count": 50,
   "metadata": {
    "collapsed": false,
    "run_control": {
     "frozen": false,
     "read_only": false
    }
   },
   "outputs": [
    {
     "data": {
      "text/plain": [
       "0    0.459947\n",
       "1   -2.313843\n",
       "2   -2.444533\n",
       "3   -4.718994\n",
       "4    3.478081\n",
       "5   -6.286499\n",
       "6   -0.269374\n",
       "7   -1.930825\n",
       "dtype: float64"
      ]
     },
     "execution_count": 50,
     "metadata": {},
     "output_type": "execute_result"
    }
   ],
   "source": [
    "def new_sum(series, *cols):\n",
    "    s = 0\n",
    "    for c in cols:\n",
    "        s += series[c]\n",
    "    return s\n",
    "\n",
    "selected_colums = ('zip_a', 'zup_a', 'zop_a', 'zap_a')\n",
    "dfm_reset.apply(new_sum, axis=1, args=selected_colums)"
   ]
  },
  {
   "cell_type": "markdown",
   "metadata": {},
   "source": [
    "## Reshaping/Pivoting\n",
    "It may sometimes be useful to reshape the dataframe - especially when using MuliIndex. For example, we may want to use transform data from a column into a row. Most that needs to be known here, can be found [in the documentation](http://pandas.pydata.org/pandas-docs/stable/reshaping.html). Several special cases are also listed here."
   ]
  },
  {
   "cell_type": "markdown",
   "metadata": {},
   "source": [
    "### Split cell into multiple and append row for each value"
   ]
  },
  {
   "cell_type": "code",
   "execution_count": 41,
   "metadata": {
    "collapsed": true
   },
   "outputs": [],
   "source": [
    "df = pd.DataFrame([{'var1': 'a,b,c', 'var2': 1},\n",
    "                   {'var1': 'd,e,f', 'var2': 2}])"
   ]
  },
  {
   "cell_type": "code",
   "execution_count": 43,
   "metadata": {
    "collapsed": false
   },
   "outputs": [],
   "source": [
    "split_cols = pd.concat([pd.Series(row['var2'], row['var1'].split(',')) for i, row in df.iterrows()])\\\n",
    "              .reset_index()\\\n",
    "              .rename(columns={0: 'var2', 'index': 'var1'})"
   ]
  },
  {
   "cell_type": "code",
   "execution_count": 48,
   "metadata": {
    "collapsed": false
   },
   "outputs": [
    {
     "data": {
      "text/html": [
       "<div>\n",
       "<table border=\"1\" class=\"dataframe\">\n",
       "  <thead>\n",
       "    <tr style=\"text-align: right;\">\n",
       "      <th></th>\n",
       "      <th>var1_merged</th>\n",
       "      <th>var2</th>\n",
       "      <th>var1</th>\n",
       "    </tr>\n",
       "  </thead>\n",
       "  <tbody>\n",
       "    <tr>\n",
       "      <th>0</th>\n",
       "      <td>a,b,c</td>\n",
       "      <td>1</td>\n",
       "      <td>a</td>\n",
       "    </tr>\n",
       "    <tr>\n",
       "      <th>1</th>\n",
       "      <td>a,b,c</td>\n",
       "      <td>1</td>\n",
       "      <td>b</td>\n",
       "    </tr>\n",
       "    <tr>\n",
       "      <th>2</th>\n",
       "      <td>a,b,c</td>\n",
       "      <td>1</td>\n",
       "      <td>c</td>\n",
       "    </tr>\n",
       "    <tr>\n",
       "      <th>3</th>\n",
       "      <td>d,e,f</td>\n",
       "      <td>2</td>\n",
       "      <td>d</td>\n",
       "    </tr>\n",
       "    <tr>\n",
       "      <th>4</th>\n",
       "      <td>d,e,f</td>\n",
       "      <td>2</td>\n",
       "      <td>e</td>\n",
       "    </tr>\n",
       "    <tr>\n",
       "      <th>5</th>\n",
       "      <td>d,e,f</td>\n",
       "      <td>2</td>\n",
       "      <td>f</td>\n",
       "    </tr>\n",
       "  </tbody>\n",
       "</table>\n",
       "</div>"
      ],
      "text/plain": [
       "  var1_merged  var2 var1\n",
       "0       a,b,c     1    a\n",
       "1       a,b,c     1    b\n",
       "2       a,b,c     1    c\n",
       "3       d,e,f     2    d\n",
       "4       d,e,f     2    e\n",
       "5       d,e,f     2    f"
      ]
     },
     "execution_count": 48,
     "metadata": {},
     "output_type": "execute_result"
    }
   ],
   "source": [
    "df.merge(split_cols, left_on='var2', right_on='var2', suffixes=['_merged', ''])"
   ]
  },
  {
   "cell_type": "markdown",
   "metadata": {},
   "source": [
    "## Crosstabulation\n",
    "To obtain a table that contains the counts of each of the possible category combinations in the data, the crosstab function should be used. "
   ]
  },
  {
   "cell_type": "code",
   "execution_count": 14,
   "metadata": {
    "collapsed": false
   },
   "outputs": [],
   "source": [
    "cat=['A','B','B','A','B','B', 'C', 'A','A','B','B', 'C']\n",
    "target = [0, 1, 1, 1, 0, 0, 1, 1, 0, 1, 0, 0]\n",
    "df = pd.DataFrame({'cat' :cat,'target':target})"
   ]
  },
  {
   "cell_type": "markdown",
   "metadata": {},
   "source": [
    "#### Normal counts"
   ]
  },
  {
   "cell_type": "code",
   "execution_count": 15,
   "metadata": {
    "collapsed": false
   },
   "outputs": [
    {
     "data": {
      "text/html": [
       "<div>\n",
       "<table border=\"1\" class=\"dataframe\">\n",
       "  <thead>\n",
       "    <tr style=\"text-align: right;\">\n",
       "      <th>target</th>\n",
       "      <th>0</th>\n",
       "      <th>1</th>\n",
       "    </tr>\n",
       "    <tr>\n",
       "      <th>cat</th>\n",
       "      <th></th>\n",
       "      <th></th>\n",
       "    </tr>\n",
       "  </thead>\n",
       "  <tbody>\n",
       "    <tr>\n",
       "      <th>A</th>\n",
       "      <td>2</td>\n",
       "      <td>2</td>\n",
       "    </tr>\n",
       "    <tr>\n",
       "      <th>B</th>\n",
       "      <td>3</td>\n",
       "      <td>3</td>\n",
       "    </tr>\n",
       "    <tr>\n",
       "      <th>C</th>\n",
       "      <td>1</td>\n",
       "      <td>1</td>\n",
       "    </tr>\n",
       "  </tbody>\n",
       "</table>\n",
       "</div>"
      ],
      "text/plain": [
       "target  0  1\n",
       "cat         \n",
       "A       2  2\n",
       "B       3  3\n",
       "C       1  1"
      ]
     },
     "execution_count": 15,
     "metadata": {},
     "output_type": "execute_result"
    }
   ],
   "source": [
    "pd.crosstab(df.cat, df.target)"
   ]
  },
  {
   "cell_type": "markdown",
   "metadata": {},
   "source": [
    "#### Contingency table - style: counts of cases fulfilling specific requirement"
   ]
  },
  {
   "cell_type": "code",
   "execution_count": 16,
   "metadata": {
    "collapsed": false,
    "run_control": {
     "frozen": false,
     "read_only": false
    }
   },
   "outputs": [
    {
     "data": {
      "text/html": [
       "<div>\n",
       "<table border=\"1\" class=\"dataframe\">\n",
       "  <thead>\n",
       "    <tr style=\"text-align: right;\">\n",
       "      <th>target</th>\n",
       "      <th>False</th>\n",
       "      <th>True</th>\n",
       "    </tr>\n",
       "    <tr>\n",
       "      <th>cat</th>\n",
       "      <th></th>\n",
       "      <th></th>\n",
       "    </tr>\n",
       "  </thead>\n",
       "  <tbody>\n",
       "    <tr>\n",
       "      <th>False</th>\n",
       "      <td>4</td>\n",
       "      <td>4</td>\n",
       "    </tr>\n",
       "    <tr>\n",
       "      <th>True</th>\n",
       "      <td>2</td>\n",
       "      <td>2</td>\n",
       "    </tr>\n",
       "  </tbody>\n",
       "</table>\n",
       "</div>"
      ],
      "text/plain": [
       "target  False  True \n",
       "cat                 \n",
       "False       4      4\n",
       "True        2      2"
      ]
     },
     "execution_count": 16,
     "metadata": {},
     "output_type": "execute_result"
    }
   ],
   "source": [
    "pd.crosstab(df.cat == 'A', df.target > 0)"
   ]
  },
  {
   "cell_type": "markdown",
   "metadata": {},
   "source": [
    "# Plotting"
   ]
  },
  {
   "cell_type": "markdown",
   "metadata": {},
   "source": [
    "Many standard and non-standard visualisation concepts implemented in matplotlib have been wrapped in pandas to facilitate easy access. Examples are line plots, bar plots, histograms, box plots, and scatter plots. \n",
    "Some more complex concepts such as parallel coordinates, scatter matrices and Andrew plots have also been implemented and can be applied directly to data frames.\n",
    "Instructions on usage can be found [in the pandas documentation](http://pandas.pydata.org/pandas-docs/stable/visualization.html).\n",
    "\n",
    "The visualisation library [seaborn](https://stanford.edu/~mwaskom/software/seaborn/) is also based on matplotlib and has an interface to pandas data frames as well as simple methods to beautify plots (remove spines, nicer default colors and color palettes, add and remove grids etc.) Several additional complex visualisation concepts are included that combine visualisation of categorical or continuous data with some additional computations. Examples of implemented methods are violin plots, regression plots, pair plots, heat and cluster maps.\n",
    "\n",
    "Below are some things that are not naively available in pandas or seaborn and thus need some additional transformations."
   ]
  },
  {
   "cell_type": "markdown",
   "metadata": {},
   "source": [
    "## Histogram of String columns"
   ]
  },
  {
   "cell_type": "code",
   "execution_count": 51,
   "metadata": {
    "collapsed": true,
    "run_control": {
     "frozen": false,
     "read_only": false
    }
   },
   "outputs": [],
   "source": [
    "s1 = pd.Series(['abc', 'bcd', 'abc', 'cde', 'abc', 'bcd'])\n",
    "s2 = pd.Series(['abc', 'fgh', 'abc', 'def', 'abc', 'fgh', 'fgh'])\n",
    "d = pd.DataFrame({'s1': s1, 's2': s2})"
   ]
  },
  {
   "cell_type": "code",
   "execution_count": 52,
   "metadata": {
    "collapsed": false,
    "run_control": {
     "frozen": false,
     "read_only": false
    }
   },
   "outputs": [
    {
     "data": {
      "image/png": "[encoded data removed]",
      "text/plain": [
       "<matplotlib.figure.Figure at 0x108430b90>"
      ]
     },
     "metadata": {},
     "output_type": "display_data"
    }
   ],
   "source": [
    "d.apply(pd.value_counts).plot.bar(subplots=True);"
   ]
  },
  {
   "cell_type": "markdown",
   "metadata": {},
   "source": [
    "## Add jitter to dots"
   ]
  },
  {
   "cell_type": "code",
   "execution_count": 53,
   "metadata": {
    "collapsed": true,
    "run_control": {
     "frozen": false,
     "read_only": false
    }
   },
   "outputs": [],
   "source": [
    "def add_jitter(arr, var_factor=0.04):\n",
    "    var = var_factor * (max(arr) - min(arr))\n",
    "    return arr + np.random.randn(len(arr)) * var"
   ]
  },
  {
   "cell_type": "code",
   "execution_count": 54,
   "metadata": {
    "collapsed": true,
    "run_control": {
     "frozen": false,
     "read_only": false
    }
   },
   "outputs": [],
   "source": [
    "s1 = [0, 0, 1, 1, 1, 0, 0, 1, 1, 1, 0, 0, 0, 0, 0, 1]\n",
    "s2 = [0, 1, 0, 1, 0, 0, 1, 1, 0, 1, 0, 1, 1, 1, 0, 1]\n",
    "d = pd.DataFrame({'x': s1, 'y': s2})"
   ]
  },
  {
   "cell_type": "code",
   "execution_count": 57,
   "metadata": {
    "collapsed": false,
    "run_control": {
     "frozen": false,
     "read_only": false
    }
   },
   "outputs": [
    {
     "data": {
      "image/png": "[encoded data removed]",
      "text/plain": [
       "<matplotlib.figure.Figure at 0x1089127d0>"
      ]
     },
     "metadata": {},
     "output_type": "display_data"
    }
   ],
   "source": [
    "plt.scatter(add_jitter(d['x'], 0.02), y=add_jitter(d['y'], 0.02));"
   ]
  },
  {
   "cell_type": "code",
   "execution_count": null,
   "metadata": {
    "collapsed": true,
    "run_control": {
     "frozen": false,
     "read_only": false
    }
   },
   "outputs": [],
   "source": []
  }
 ],
 "metadata": {
  "hide_input": false,
  "kernelspec": {
   "display_name": "Python 2",
   "language": "python",
   "name": "python2"
  },
  "language_info": {
   "codemirror_mode": {
    "name": "ipython",
    "version": 2
   },
   "file_extension": ".py",
   "mimetype": "text/x-python",
   "name": "python",
   "nbconvert_exporter": "python",
   "pygments_lexer": "ipython2",
   "version": "2.7.12"
  },
  "toc": {
   "toc_cell": true,
   "toc_number_sections": true,
   "toc_threshold": 6,
   "toc_window_display": true
  },
  "toc_position": {
   "height": "1204px",
   "left": "1881px",
   "right": "20px",
   "top": "116px",
   "width": "512px"
  }
 },
 "nbformat": 4,
 "nbformat_minor": 0
}
