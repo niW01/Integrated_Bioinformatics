{
 "cells": [
  {
   "cell_type": "markdown",
   "metadata": {
    "toc": "true"
   },
   "source": [
    "# Table of Contents\n",
    " <p><div class=\"lev1\"><a href=\"#Useful-imports\"><span class=\"toc-item-num\">1&nbsp;&nbsp;</span>Useful imports</a></div><div class=\"lev1\"><a href=\"#Useful-IPython-magics\"><span class=\"toc-item-num\">2&nbsp;&nbsp;</span>Useful IPython magics</a></div><div class=\"lev2\"><a href=\"#Enable-autoreload-of-external-modules\"><span class=\"toc-item-num\">2.1&nbsp;&nbsp;</span>Enable autoreload of external modules</a></div><div class=\"lev2\"><a href=\"#Enable-matplotlib-inline-plotting\"><span class=\"toc-item-num\">2.2&nbsp;&nbsp;</span>Enable matplotlib inline plotting</a></div><div class=\"lev2\"><a href=\"#Some-external-functions-have-direct-magic-command\"><span class=\"toc-item-num\">2.3&nbsp;&nbsp;</span>Some external functions have direct magic command</a></div><div class=\"lev2\"><a href=\"#Use-shell-commands\"><span class=\"toc-item-num\">2.4&nbsp;&nbsp;</span>Use shell commands</a></div><div class=\"lev2\"><a href=\"#Javascript\"><span class=\"toc-item-num\">2.5&nbsp;&nbsp;</span>Javascript</a></div><div class=\"lev2\"><a href=\"#See-source-code-of-compiled-object/function\"><span class=\"toc-item-num\">2.6&nbsp;&nbsp;</span>See source code of compiled object/function</a></div><div class=\"lev1\"><a href=\"#Change-default-encoding\"><span class=\"toc-item-num\">3&nbsp;&nbsp;</span>Change default encoding</a></div><div class=\"lev1\"><a href=\"#Add-path-to-the-Pythonpath\"><span class=\"toc-item-num\">4&nbsp;&nbsp;</span>Add path to the Pythonpath</a></div><div class=\"lev1\"><a href=\"#Set-Seaborn-defauls\"><span class=\"toc-item-num\">5&nbsp;&nbsp;</span>Set Seaborn defauls</a></div><div class=\"lev2\"><a href=\"#Plotting-context\"><span class=\"toc-item-num\">5.1&nbsp;&nbsp;</span>Plotting context</a></div><div class=\"lev2\"><a href=\"#Temporary-context-using-'with'\"><span class=\"toc-item-num\">5.2&nbsp;&nbsp;</span>Temporary context using 'with'</a></div><div class=\"lev2\"><a href=\"#Style-preferences\"><span class=\"toc-item-num\">5.3&nbsp;&nbsp;</span>Style preferences</a></div><div class=\"lev1\"><a href=\"#Pandas\"><span class=\"toc-item-num\">6&nbsp;&nbsp;</span>Pandas</a></div><div class=\"lev2\"><a href=\"#Preferences\"><span class=\"toc-item-num\">6.1&nbsp;&nbsp;</span>Preferences</a></div><div class=\"lev3\"><a href=\"#Set-column-and-row-length-preferences-for-HTML-output\"><span class=\"toc-item-num\">6.1.1&nbsp;&nbsp;</span>Set column and row length preferences for HTML output</a></div><div class=\"lev2\"><a href=\"#Data-import\"><span class=\"toc-item-num\">6.2&nbsp;&nbsp;</span>Data import</a></div><div class=\"lev3\"><a href=\"#From-file:-pd.read_csv(,-...)\"><span class=\"toc-item-num\">6.2.1&nbsp;&nbsp;</span>From file: pd.read_csv(, ...)</a></div><div class=\"lev3\"><a href=\"#From-scratch\"><span class=\"toc-item-num\">6.2.2&nbsp;&nbsp;</span>From scratch</a></div><div class=\"lev2\"><a href=\"#List/Access-columns\"><span class=\"toc-item-num\">6.3&nbsp;&nbsp;</span>List/Access columns</a></div><div class=\"lev3\"><a href=\"#Rename-columns\"><span class=\"toc-item-num\">6.3.1&nbsp;&nbsp;</span>Rename columns</a></div><div class=\"lev2\"><a href=\"#More-Pandas-commands-can-be-found-in-the-pandas-cheatsheet\"><span class=\"toc-item-num\">6.4&nbsp;&nbsp;</span>More Pandas commands can be found in the pandas cheatsheet</a></div><div class=\"lev1\"><a href=\"#Use-R-from-within-Python-notebook-(R-magic)\"><span class=\"toc-item-num\">7&nbsp;&nbsp;</span>Use R from within Python notebook (R magic)</a></div><div class=\"lev3\"><a href=\"#Load-extension\"><span class=\"toc-item-num\">7.0.1&nbsp;&nbsp;</span>Load extension</a></div><div class=\"lev3\"><a href=\"#Use-extension\"><span class=\"toc-item-num\">7.0.2&nbsp;&nbsp;</span>Use extension</a></div><div class=\"lev3\"><a href=\"#Interplay-between-Python-and-R-cells\"><span class=\"toc-item-num\">7.0.3&nbsp;&nbsp;</span>Interplay between Python and R cells</a></div>"
   ]
  },
  {
   "cell_type": "markdown",
   "metadata": {},
   "source": [
    "# Useful imports"
   ]
  },
  {
   "cell_type": "code",
   "execution_count": 8,
   "metadata": {
    "collapsed": false,
    "run_control": {
     "frozen": false,
     "read_only": false
    }
   },
   "outputs": [
    {
     "name": "stderr",
     "output_type": "stream",
     "text": [
      "/Users/schaerfe/Documents/Privat/Dropbox/anaconda/lib/python2.7/site-packages/matplotlib/__init__.py:872: UserWarning: axes.color_cycle is deprecated and replaced with axes.prop_cycle; please use the latter.\n",
      "  warnings.warn(self.msg_depr % (key, alt_key))\n"
     ]
    }
   ],
   "source": [
    "import pandas as pd\n",
    "import numpy as np\n",
    "import matplotlib.pyplot as plt\n",
    "import seaborn as sns"
   ]
  },
  {
   "cell_type": "markdown",
   "metadata": {
    "run_control": {
     "frozen": false,
     "read_only": false
    }
   },
   "source": [
    "# Useful IPython magics"
   ]
  },
  {
   "cell_type": "markdown",
   "metadata": {},
   "source": [
    "Usually all magic commands start with '%'. So called 'cell magics' that cover the full cell and not just a single line can be accessed using %%.          \n",
    "Extensions are loaded using %load_ext ext_name"
   ]
  },
  {
   "cell_type": "code",
   "execution_count": 31,
   "metadata": {
    "collapsed": false,
    "run_control": {
     "frozen": false,
     "read_only": false
    }
   },
   "outputs": [
    {
     "data": {
      "application/json": {
       "cell": {
        "!": "OSMagics",
        "HTML": "Other",
        "R": "RMagics",
        "SVG": "Other",
        "bash": "Other",
        "capture": "ExecutionMagics",
        "debug": "ExecutionMagics",
        "file": "Other",
        "html": "DisplayMagics",
        "javascript": "DisplayMagics",
        "latex": "DisplayMagics",
        "perl": "Other",
        "prun": "ExecutionMagics",
        "pypy": "Other",
        "python": "Other",
        "python2": "Other",
        "python3": "Other",
        "ruby": "Other",
        "script": "ScriptMagics",
        "sh": "Other",
        "svg": "DisplayMagics",
        "sx": "OSMagics",
        "system": "OSMagics",
        "time": "ExecutionMagics",
        "timeit": "ExecutionMagics",
        "writefile": "OSMagics"
       },
       "line": {
        "R": "RMagics",
        "Rdevice": "RMagics",
        "Rget": "RMagics",
        "Rpull": "RMagics",
        "Rpush": "RMagics",
        "aimport": "AutoreloadMagics",
        "alias": "OSMagics",
        "alias_magic": "BasicMagics",
        "autocall": "AutoMagics",
        "automagic": "AutoMagics",
        "autoreload": "AutoreloadMagics",
        "autosave": "KernelMagics",
        "bookmark": "OSMagics",
        "cat": "Other",
        "cd": "OSMagics",
        "clear": "KernelMagics",
        "colors": "BasicMagics",
        "config": "ConfigMagics",
        "connect_info": "KernelMagics",
        "cp": "Other",
        "debug": "ExecutionMagics",
        "dhist": "OSMagics",
        "dirs": "OSMagics",
        "doctest_mode": "BasicMagics",
        "ed": "Other",
        "edit": "KernelMagics",
        "env": "OSMagics",
        "gui": "BasicMagics",
        "hist": "Other",
        "history": "HistoryMagics",
        "install_default_config": "DeprecatedMagics",
        "install_ext": "ExtensionMagics",
        "install_profiles": "DeprecatedMagics",
        "killbgscripts": "ScriptMagics",
        "ldir": "Other",
        "less": "KernelMagics",
        "lf": "Other",
        "lk": "Other",
        "ll": "Other",
        "load": "CodeMagics",
        "load_ext": "ExtensionMagics",
        "loadpy": "CodeMagics",
        "logoff": "LoggingMagics",
        "logon": "LoggingMagics",
        "logstart": "LoggingMagics",
        "logstate": "LoggingMagics",
        "logstop": "LoggingMagics",
        "ls": "Other",
        "lsmagic": "BasicMagics",
        "lx": "Other",
        "macro": "ExecutionMagics",
        "magic": "BasicMagics",
        "man": "KernelMagics",
        "matplotlib": "PylabMagics",
        "mkdir": "Other",
        "more": "KernelMagics",
        "mv": "Other",
        "notebook": "BasicMagics",
        "page": "BasicMagics",
        "pastebin": "CodeMagics",
        "pdb": "ExecutionMagics",
        "pdef": "NamespaceMagics",
        "pdoc": "NamespaceMagics",
        "pfile": "NamespaceMagics",
        "pinfo": "NamespaceMagics",
        "pinfo2": "NamespaceMagics",
        "popd": "OSMagics",
        "pprint": "BasicMagics",
        "precision": "BasicMagics",
        "profile": "BasicMagics",
        "prun": "ExecutionMagics",
        "psearch": "NamespaceMagics",
        "psource": "NamespaceMagics",
        "pushd": "OSMagics",
        "pwd": "OSMagics",
        "pycat": "OSMagics",
        "pylab": "PylabMagics",
        "qtconsole": "KernelMagics",
        "quickref": "BasicMagics",
        "recall": "HistoryMagics",
        "rehashx": "OSMagics",
        "reload_ext": "ExtensionMagics",
        "rep": "Other",
        "rerun": "HistoryMagics",
        "reset": "NamespaceMagics",
        "reset_selective": "NamespaceMagics",
        "rm": "Other",
        "rmdir": "Other",
        "run": "ExecutionMagics",
        "save": "CodeMagics",
        "sc": "OSMagics",
        "set_env": "OSMagics",
        "store": "StoreMagics",
        "sx": "OSMagics",
        "system": "OSMagics",
        "tb": "ExecutionMagics",
        "time": "ExecutionMagics",
        "timeit": "ExecutionMagics",
        "unalias": "OSMagics",
        "unload_ext": "ExtensionMagics",
        "who": "NamespaceMagics",
        "who_ls": "NamespaceMagics",
        "whos": "NamespaceMagics",
        "xdel": "NamespaceMagics",
        "xmode": "BasicMagics"
       }
      },
      "text/plain": [
       "Available line magics:\n",
       "%R  %Rdevice  %Rget  %Rpull  %Rpush  %aimport  %alias  %alias_magic  %autocall  %automagic  %autoreload  %autosave  %bookmark  %cat  %cd  %clear  %colors  %config  %connect_info  %cp  %debug  %dhist  %dirs  %doctest_mode  %ed  %edit  %env  %gui  %hist  %history  %install_default_config  %install_ext  %install_profiles  %killbgscripts  %ldir  %less  %lf  %lk  %ll  %load  %load_ext  %loadpy  %logoff  %logon  %logstart  %logstate  %logstop  %ls  %lsmagic  %lx  %macro  %magic  %man  %matplotlib  %mkdir  %more  %mv  %notebook  %page  %pastebin  %pdb  %pdef  %pdoc  %pfile  %pinfo  %pinfo2  %popd  %pprint  %precision  %profile  %prun  %psearch  %psource  %pushd  %pwd  %pycat  %pylab  %qtconsole  %quickref  %recall  %rehashx  %reload_ext  %rep  %rerun  %reset  %reset_selective  %rm  %rmdir  %run  %save  %sc  %set_env  %store  %sx  %system  %tb  %time  %timeit  %unalias  %unload_ext  %who  %who_ls  %whos  %xdel  %xmode\n",
       "\n",
       "Available cell magics:\n",
       "%%!  %%HTML  %%R  %%SVG  %%bash  %%capture  %%debug  %%file  %%html  %%javascript  %%latex  %%perl  %%prun  %%pypy  %%python  %%python2  %%python3  %%ruby  %%script  %%sh  %%svg  %%sx  %%system  %%time  %%timeit  %%writefile\n",
       "\n",
       "Automagic is ON, % prefix IS NOT needed for line magics."
      ]
     },
     "execution_count": 31,
     "metadata": {},
     "output_type": "execute_result"
    }
   ],
   "source": [
    "%lsmagic"
   ]
  },
  {
   "cell_type": "markdown",
   "metadata": {},
   "source": [
    "## Enable autoreload of external modules"
   ]
  },
  {
   "cell_type": "code",
   "execution_count": 1,
   "metadata": {
    "collapsed": true,
    "run_control": {
     "frozen": false,
     "read_only": false
    }
   },
   "outputs": [],
   "source": [
    "%load_ext autoreload\n",
    "%autoreload 2"
   ]
  },
  {
   "cell_type": "markdown",
   "metadata": {},
   "source": [
    "## Enable matplotlib inline plotting"
   ]
  },
  {
   "cell_type": "code",
   "execution_count": 2,
   "metadata": {
    "collapsed": true,
    "run_control": {
     "frozen": false,
     "read_only": false
    }
   },
   "outputs": [],
   "source": [
    "# Activate inline magic (required to see plots in notebook)\n",
    "%matplotlib inline"
   ]
  },
  {
   "cell_type": "markdown",
   "metadata": {},
   "source": [
    "## Some external functions have direct magic command"
   ]
  },
  {
   "cell_type": "code",
   "execution_count": 21,
   "metadata": {
    "collapsed": false,
    "run_control": {
     "frozen": false,
     "read_only": false
    }
   },
   "outputs": [
    {
     "name": "stdout",
     "output_type": "stream",
     "text": [
      "Day1_Exploratory.ipynb  Day2_GWAS.ipynb         PIBI_Cheatsheet.ipynb\r\n"
     ]
    }
   ],
   "source": [
    "%ls"
   ]
  },
  {
   "cell_type": "markdown",
   "metadata": {},
   "source": [
    "__Python variables can accessed using BASH style idetification with $__"
   ]
  },
  {
   "cell_type": "code",
   "execution_count": 27,
   "metadata": {
    "collapsed": false,
    "run_control": {
     "frozen": false,
     "read_only": false
    }
   },
   "outputs": [
    {
     "name": "stdout",
     "output_type": "stream",
     "text": [
      "\u001b[1m\u001b[36mBorgwardt_GWAS_lecture\u001b[m\u001b[m/\r\n",
      "Contributed.chr7.build34.genotypes.09052005.txt\r\n",
      "Contributed.chr7.build34.genotypes.09052005.txt.gz\r\n",
      "NIHMS52269-supplement-supporting_info.pdf\r\n",
      "PIIS0092867412010070.pdf\r\n",
      "Philip_et_al-2010-Genes,_Brain_and_Behavior.pdf\r\n",
      "aad0189.full.pdf\r\n",
      "aad0189_DataFileS1_Metabolites.xlsx\r\n",
      "aad0189_DataFileS2_Phenotype.xlsx\r\n",
      "aad0189_DataFileS3_RawData.xlsx\r\n",
      "aad0189_DataFileS4_Genotype.txt\r\n",
      "aad0189_DataFileS5_Transcriptome_Affymetrix.xlsx\r\n",
      "aad0189_DataFileS6_Proteome.xlsx\r\n",
      "aad0189_DataFileS7_Transcriptomics_GeneLevel.xlsx\r\n",
      "aad0189_DataFileS8_Proteome.xlsx\r\n",
      "\u001b[1m\u001b[36mbxd_coat_color\u001b[m\u001b[m/\r\n",
      "fpls-07-00444.pdf\r\n",
      "\u001b[1m\u001b[36mgwas_paper\u001b[m\u001b[m/\r\n",
      "\u001b[1m\u001b[36mimg\u001b[m\u001b[m/\r\n",
      "\u001b[1m\u001b[36mmouse_snps_all.10052005\u001b[m\u001b[m/\r\n",
      "mouse_snps_all.10052005.tar.gz\r\n",
      "nervenet_BXDphenotypes.txt\r\n",
      "\u001b[1m\u001b[36mnotebooks\u001b[m\u001b[m/\r\n",
      "srep15258-s1.doc\r\n",
      "\u001b[1m\u001b[36mtasks\u001b[m\u001b[m/\r\n",
      "\u001b[1m\u001b[36mteaching_slides\u001b[m\u001b[m/\r\n",
      "~$aad0189_DataFileS2_Phenotype.xlsx\r\n"
     ]
    }
   ],
   "source": [
    "directory = '../'\n",
    "%ls $directory"
   ]
  },
  {
   "cell_type": "markdown",
   "metadata": {},
   "source": [
    "## Use shell commands"
   ]
  },
  {
   "cell_type": "code",
   "execution_count": 29,
   "metadata": {
    "collapsed": false,
    "run_control": {
     "frozen": false,
     "read_only": false
    }
   },
   "outputs": [
    {
     "name": "stdout",
     "output_type": "stream",
     "text": [
      "/bin/bash\r\n"
     ]
    }
   ],
   "source": [
    "!echo $SHELL"
   ]
  },
  {
   "cell_type": "code",
   "execution_count": 28,
   "metadata": {
    "collapsed": true,
    "run_control": {
     "frozen": false,
     "read_only": false
    }
   },
   "outputs": [],
   "source": [
    "!wget -o output_fn URL"
   ]
  },
  {
   "cell_type": "markdown",
   "metadata": {},
   "source": [
    "## Javascript"
   ]
  },
  {
   "cell_type": "code",
   "execution_count": 22,
   "metadata": {
    "collapsed": false,
    "run_control": {
     "frozen": false,
     "read_only": false
    }
   },
   "outputs": [
    {
     "data": {
      "application/javascript": [
       "require.config({\n",
       "  paths: {\n",
       "      d3: '//cdnjs.cloudflare.com/ajax/libs/d3/3.4.8/d3.min'\n",
       "  }\n",
       "});"
      ],
      "text/plain": [
       "<IPython.core.display.Javascript object>"
      ]
     },
     "metadata": {},
     "output_type": "display_data"
    }
   ],
   "source": [
    "%%javascript\n",
    "require.config({\n",
    "  paths: {\n",
    "      d3: '//cdnjs.cloudflare.com/ajax/libs/d3/3.4.8/d3.min'\n",
    "  }\n",
    "});"
   ]
  },
  {
   "cell_type": "markdown",
   "metadata": {},
   "source": [
    "## See source code of compiled object/function"
   ]
  },
  {
   "cell_type": "code",
   "execution_count": 2,
   "metadata": {
    "collapsed": false
   },
   "outputs": [],
   "source": [
    "def f():\n",
    "    return 10 * 2"
   ]
  },
  {
   "cell_type": "code",
   "execution_count": 3,
   "metadata": {
    "collapsed": true
   },
   "outputs": [],
   "source": [
    "f??"
   ]
  },
  {
   "cell_type": "markdown",
   "metadata": {},
   "source": [
    "# Change default encoding"
   ]
  },
  {
   "cell_type": "code",
   "execution_count": 32,
   "metadata": {
    "collapsed": true,
    "run_control": {
     "frozen": false,
     "read_only": false
    }
   },
   "outputs": [],
   "source": [
    "import sys\n",
    "reload(sys)  # this is very important and won't work without\n",
    "sys.setdefaultencoding('UTF8')"
   ]
  },
  {
   "cell_type": "markdown",
   "metadata": {},
   "source": [
    "# Add path to the Pythonpath"
   ]
  },
  {
   "cell_type": "code",
   "execution_count": null,
   "metadata": {
    "collapsed": true,
    "run_control": {
     "frozen": false,
     "read_only": false
    }
   },
   "outputs": [],
   "source": [
    "sys.path.insert(1,'<path to module XXX not in PYTHONPATH>')\n",
    "import XXX"
   ]
  },
  {
   "cell_type": "markdown",
   "metadata": {},
   "source": [
    "# Set Seaborn defauls"
   ]
  },
  {
   "cell_type": "code",
   "execution_count": 36,
   "metadata": {
    "collapsed": true,
    "run_control": {
     "frozen": false,
     "read_only": false
    }
   },
   "outputs": [],
   "source": [
    "def sinplot(flip=1):\n",
    "    # Toy data\n",
    "    x = np.linspace(0, 14, 100)\n",
    "    for i in range(1, 7):\n",
    "        plt.plot(x, np.sin(x + i * .5) * (7 - i) * flip)"
   ]
  },
  {
   "cell_type": "markdown",
   "metadata": {},
   "source": [
    "## Plotting context"
   ]
  },
  {
   "cell_type": "code",
   "execution_count": 33,
   "metadata": {
    "collapsed": true,
    "run_control": {
     "frozen": false,
     "read_only": false
    }
   },
   "outputs": [],
   "source": [
    "# Set context for some default configs\n",
    "sns.set_context(\"paper\") # can be one of the following: paper, notebook, talk, and poster"
   ]
  },
  {
   "cell_type": "code",
   "execution_count": 34,
   "metadata": {
    "collapsed": true,
    "run_control": {
     "frozen": false,
     "read_only": false
    }
   },
   "outputs": [],
   "source": [
    "# Change default to white background\n",
    "sns.set_style(\"white\")\n",
    "# white background and grid\n",
    "sns.set_style(\"whitegrid\")\n",
    "# light blue background\n",
    "sns.set_style(\"dark\")"
   ]
  },
  {
   "cell_type": "markdown",
   "metadata": {},
   "source": [
    "## Temporary context using 'with'"
   ]
  },
  {
   "cell_type": "code",
   "execution_count": 37,
   "metadata": {
    "collapsed": false,
    "run_control": {
     "frozen": false,
     "read_only": false
    }
   },
   "outputs": [
    {
     "data": {
      "image/png": "[encoded data removed]",
      "text/plain": [
       "<matplotlib.figure.Figure at 0x11516ef50>"
      ]
     },
     "metadata": {},
     "output_type": "display_data"
    }
   ],
   "source": [
    "# Temporarily change aesthetics by using with-statement\n",
    "with sns.axes_style(\"darkgrid\"):\n",
    "    plt.subplot(211)\n",
    "    sinplot()\n",
    "with sns.axes_style(\"whitegrid\"):\n",
    "    plt.subplot(212)\n",
    "    sinplot(-3)"
   ]
  },
  {
   "cell_type": "markdown",
   "metadata": {},
   "source": [
    "## Style preferences"
   ]
  },
  {
   "cell_type": "code",
   "execution_count": 38,
   "metadata": {
    "collapsed": false,
    "run_control": {
     "frozen": false,
     "read_only": false
    }
   },
   "outputs": [
    {
     "data": {
      "text/plain": [
       "{'axes.axisbelow': True,\n",
       " 'axes.edgecolor': 'white',\n",
       " 'axes.facecolor': '.9',\n",
       " 'axes.grid': True,\n",
       " 'axes.labelcolor': '.15',\n",
       " 'axes.linewidth': 0.0,\n",
       " 'figure.facecolor': 'white',\n",
       " 'font.family': [u'sans-serif'],\n",
       " 'font.sans-serif': [u'Arial',\n",
       "  u'Liberation Sans',\n",
       "  u'Bitstream Vera Sans',\n",
       "  u'sans-serif'],\n",
       " 'grid.color': 'white',\n",
       " 'grid.linestyle': u'-',\n",
       " 'image.cmap': u'Greys',\n",
       " 'legend.frameon': False,\n",
       " 'legend.numpoints': 1,\n",
       " 'legend.scatterpoints': 1,\n",
       " 'lines.solid_capstyle': u'round',\n",
       " 'text.color': '.15',\n",
       " 'xtick.color': '.15',\n",
       " 'xtick.direction': u'out',\n",
       " 'xtick.major.size': 0.0,\n",
       " 'xtick.minor.size': 0.0,\n",
       " 'ytick.color': '.15',\n",
       " 'ytick.direction': u'out',\n",
       " 'ytick.major.size': 0.0,\n",
       " 'ytick.minor.size': 0.0}"
      ]
     },
     "execution_count": 38,
     "metadata": {},
     "output_type": "execute_result"
    }
   ],
   "source": [
    "# More advanced style changes (including default colormaps etc)\n",
    "sns.set_style(\"darkgrid\", {\"axes.facecolor\": \".9\"})\n",
    "# All parameters that can be changed through dictionary can be found by looking up current defaults:\n",
    "sns.axes_style()"
   ]
  },
  {
   "cell_type": "markdown",
   "metadata": {},
   "source": [
    "# Pandas"
   ]
  },
  {
   "cell_type": "markdown",
   "metadata": {},
   "source": [
    "## Preferences\n",
    "more here: http://pandas.pydata.org/pandas-docs/stable/options.html\n",
    "### Set column and row length preferences for HTML output"
   ]
  },
  {
   "cell_type": "code",
   "execution_count": 47,
   "metadata": {
    "collapsed": true,
    "run_control": {
     "frozen": false,
     "read_only": false
    }
   },
   "outputs": [],
   "source": [
    "# number of columns to display in html visualisation\n",
    "pd.set_option('max_columns', 999)\n",
    "# number of rows to display\n",
    "pd.set_option('max_rows', 100)\n",
    "# maximal string length displayed\n",
    "pd.set_option('max_colwidth', 40)"
   ]
  },
  {
   "cell_type": "markdown",
   "metadata": {},
   "source": [
    "## Data import"
   ]
  },
  {
   "cell_type": "markdown",
   "metadata": {},
   "source": [
    "### From file: pd.read_csv(, ...)"
   ]
  },
  {
   "cell_type": "markdown",
   "metadata": {},
   "source": [
    "### From scratch"
   ]
  },
  {
   "cell_type": "code",
   "execution_count": 42,
   "metadata": {
    "collapsed": true,
    "run_control": {
     "frozen": false,
     "read_only": false
    }
   },
   "outputs": [],
   "source": [
    "names = ['Bob','Jessica','Mary','John','Mel']\n",
    "births = [968, 155, 77, 578, 973]\n",
    "BabyDataSet = list(zip(names,births))\n",
    "df = pd.DataFrame(data = BabyDataSet, columns=['Names', 'Birth Rate'])"
   ]
  },
  {
   "cell_type": "markdown",
   "metadata": {},
   "source": [
    "## List/Access columns"
   ]
  },
  {
   "cell_type": "code",
   "execution_count": 45,
   "metadata": {
    "collapsed": false,
    "run_control": {
     "frozen": false,
     "read_only": false
    }
   },
   "outputs": [
    {
     "data": {
      "text/plain": [
       "Index([u'Names', u'Birth Rate'], dtype='object')"
      ]
     },
     "execution_count": 45,
     "metadata": {},
     "output_type": "execute_result"
    }
   ],
   "source": [
    "df.columns"
   ]
  },
  {
   "cell_type": "markdown",
   "metadata": {},
   "source": [
    "### Rename columns"
   ]
  },
  {
   "cell_type": "code",
   "execution_count": 46,
   "metadata": {
    "collapsed": true,
    "run_control": {
     "frozen": false,
     "read_only": false
    }
   },
   "outputs": [],
   "source": [
    "df.columns = [c.replace(' ', '_') for c in df.columns]"
   ]
  },
  {
   "cell_type": "markdown",
   "metadata": {},
   "source": [
    "## More Pandas commands can be found in the pandas cheatsheet"
   ]
  },
  {
   "cell_type": "markdown",
   "metadata": {},
   "source": [
    "# Use R from within Python notebook (R magic)"
   ]
  },
  {
   "cell_type": "markdown",
   "metadata": {},
   "source": [
    "### Load extension"
   ]
  },
  {
   "cell_type": "code",
   "execution_count": 3,
   "metadata": {
    "collapsed": true,
    "run_control": {
     "frozen": false,
     "read_only": false
    }
   },
   "outputs": [],
   "source": [
    "%load_ext rpy2.ipython"
   ]
  },
  {
   "cell_type": "markdown",
   "metadata": {},
   "source": [
    "### Use extension"
   ]
  },
  {
   "cell_type": "markdown",
   "metadata": {},
   "source": [
    "__One line notation__"
   ]
  },
  {
   "cell_type": "code",
   "execution_count": 4,
   "metadata": {
    "collapsed": false,
    "run_control": {
     "frozen": false,
     "read_only": false
    }
   },
   "outputs": [
    {
     "data": {
      "text/plain": [
       "array([ 4.25])"
      ]
     },
     "execution_count": 4,
     "metadata": {},
     "output_type": "execute_result"
    }
   ],
   "source": [
    "%R X=c(1,4,5,7); sd(X); mean(X)"
   ]
  },
  {
   "cell_type": "markdown",
   "metadata": {},
   "source": [
    "__Multi-line notation__"
   ]
  },
  {
   "cell_type": "code",
   "execution_count": 10,
   "metadata": {
    "collapsed": false,
    "run_control": {
     "frozen": false,
     "read_only": false
    }
   },
   "outputs": [
    {
     "data": {
      "image/png": "[encoded data removed]"
     },
     "metadata": {},
     "output_type": "display_data"
    }
   ],
   "source": [
    "%%R\n",
    "Y = c(2,4,3,9)\n",
    "plot(X, Y, s)"
   ]
  },
  {
   "cell_type": "markdown",
   "metadata": {},
   "source": [
    "### Interplay between Python and R cells"
   ]
  },
  {
   "cell_type": "markdown",
   "metadata": {},
   "source": [
    "__Use python variables inside R cell using -i or Rpush__"
   ]
  },
  {
   "cell_type": "code",
   "execution_count": 11,
   "metadata": {
    "collapsed": false,
    "run_control": {
     "frozen": false,
     "read_only": false
    }
   },
   "outputs": [],
   "source": [
    "Z = np.array([1,4,5,10])"
   ]
  },
  {
   "cell_type": "code",
   "execution_count": 12,
   "metadata": {
    "collapsed": false,
    "run_control": {
     "frozen": false,
     "read_only": false
    }
   },
   "outputs": [
    {
     "data": {
      "text/plain": [
       "array([ 5.])"
      ]
     },
     "execution_count": 12,
     "metadata": {},
     "output_type": "execute_result"
    }
   ],
   "source": [
    "%R -i Z mean(Z)"
   ]
  },
  {
   "cell_type": "code",
   "execution_count": 17,
   "metadata": {
    "collapsed": false,
    "run_control": {
     "frozen": false,
     "read_only": false
    }
   },
   "outputs": [],
   "source": [
    "%Rpush Z"
   ]
  },
  {
   "cell_type": "code",
   "execution_count": 20,
   "metadata": {
    "collapsed": false,
    "run_control": {
     "frozen": false,
     "read_only": false
    }
   },
   "outputs": [
    {
     "data": {
      "text/plain": [
       "array([ 1,  4,  5, 10], dtype=int32)"
      ]
     },
     "execution_count": 20,
     "metadata": {},
     "output_type": "execute_result"
    }
   ],
   "source": [
    "%R Z"
   ]
  },
  {
   "cell_type": "markdown",
   "metadata": {},
   "source": [
    "__Export data to python variable with -o or Rpull__"
   ]
  },
  {
   "cell_type": "code",
   "execution_count": 13,
   "metadata": {
    "collapsed": false,
    "run_control": {
     "frozen": false,
     "read_only": false
    }
   },
   "outputs": [
    {
     "data": {
      "text/plain": [
       "array([  5.,  20.,  25.,  50.])"
      ]
     },
     "execution_count": 13,
     "metadata": {},
     "output_type": "execute_result"
    }
   ],
   "source": [
    "%R -o W W=Z*mean(Z)"
   ]
  },
  {
   "cell_type": "code",
   "execution_count": 18,
   "metadata": {
    "collapsed": true,
    "run_control": {
     "frozen": false,
     "read_only": false
    }
   },
   "outputs": [],
   "source": [
    "%Rpull W"
   ]
  },
  {
   "cell_type": "code",
   "execution_count": 19,
   "metadata": {
    "collapsed": false,
    "run_control": {
     "frozen": false,
     "read_only": false
    }
   },
   "outputs": [
    {
     "data": {
      "text/plain": [
       "array([  5.,  20.,  25.,  50.])"
      ]
     },
     "execution_count": 19,
     "metadata": {},
     "output_type": "execute_result"
    }
   ],
   "source": [
    "W"
   ]
  },
  {
   "cell_type": "code",
   "execution_count": null,
   "metadata": {
    "collapsed": true,
    "run_control": {
     "frozen": false,
     "read_only": false
    }
   },
   "outputs": [],
   "source": []
  }
 ],
 "metadata": {
  "hide_input": false,
  "kernelspec": {
   "display_name": "Python 2",
   "language": "python",
   "name": "python2"
  },
  "language_info": {
   "codemirror_mode": {
    "name": "ipython",
    "version": 2
   },
   "file_extension": ".py",
   "mimetype": "text/x-python",
   "name": "python",
   "nbconvert_exporter": "python",
   "pygments_lexer": "ipython2",
   "version": "2.7.12"
  },
  "toc": {
   "toc_cell": true,
   "toc_number_sections": true,
   "toc_threshold": 6,
   "toc_window_display": true
  }
 },
 "nbformat": 4,
 "nbformat_minor": 0
}
