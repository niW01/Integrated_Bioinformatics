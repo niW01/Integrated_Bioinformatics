{
 "cells": [
  {
   "cell_type": "markdown",
   "metadata": {
    "toc": "true"
   },
   "source": [
    "# Table of Contents\n",
    " <p><div class=\"lev1\"><a href=\"#Today's-topics\"><span class=\"toc-item-num\">1&nbsp;&nbsp;</span>Today's topics</a></div><div class=\"lev1\"><a href=\"#Change-some-defaults\"><span class=\"toc-item-num\">2&nbsp;&nbsp;</span>Change some defaults</a></div><div class=\"lev1\"><a href=\"#Useful-links\"><span class=\"toc-item-num\">3&nbsp;&nbsp;</span>Useful links</a></div><div class=\"lev2\"><a href=\"#Python-packages\"><span class=\"toc-item-num\">3.1&nbsp;&nbsp;</span>Python packages</a></div><div class=\"lev2\"><a href=\"#Jupyter-notebooks\"><span class=\"toc-item-num\">3.2&nbsp;&nbsp;</span>Jupyter notebooks</a></div><div class=\"lev2\"><a href=\"#Data-visualisation\"><span class=\"toc-item-num\">3.3&nbsp;&nbsp;</span>Data visualisation</a></div><div class=\"lev2\"><a href=\"#Learn/Improve-your-python-skills\"><span class=\"toc-item-num\">3.4&nbsp;&nbsp;</span>Learn/Improve your python skills</a></div><div class=\"lev2\"><a href=\"#Data-Science/Programming-help\"><span class=\"toc-item-num\">3.5&nbsp;&nbsp;</span>Data Science/Programming help</a></div><div class=\"lev2\"><a href=\"#Bioinformatics-help\"><span class=\"toc-item-num\">3.6&nbsp;&nbsp;</span>Bioinformatics help</a></div><div class=\"lev2\"><a href=\"#Tutorials\"><span class=\"toc-item-num\">3.7&nbsp;&nbsp;</span>Tutorials</a></div><div class=\"lev1\"><a href=\"#Download-data\"><span class=\"toc-item-num\">4&nbsp;&nbsp;</span>Download data</a></div><div class=\"lev2\"><a href=\"#Task:-Create-a-subdirectory-in-which-you-will-store-all-your-in--and-output-files\"><span class=\"toc-item-num\">4.1&nbsp;&nbsp;</span>Task: Create a subdirectory in which you will store all your in- and output files</a></div><div class=\"lev2\"><a href=\"#Task:-Download-Genotype-supplement-and-check-if-it-worked\"><span class=\"toc-item-num\">4.2&nbsp;&nbsp;</span>Task: Download Genotype supplement and check if it worked</a></div><div class=\"lev3\"><a href=\"#Subtask:-Check-that-the-file-looks-ok-by-opening-it-in-a-text-editor\"><span class=\"toc-item-num\">4.2.1&nbsp;&nbsp;</span>Subtask: Check that the file looks ok by opening it in a text editor</a></div><div class=\"lev2\"><a href=\"#Task:-Repeat-for-Phenotype-supplement\"><span class=\"toc-item-num\">4.3&nbsp;&nbsp;</span>Task: Repeat for Phenotype supplement</a></div><div class=\"lev3\"><a href=\"#Subtask:-Check-that-the-file-looks-ok-by-opening-it-in-a-spreadsheet-software\"><span class=\"toc-item-num\">4.3.1&nbsp;&nbsp;</span>Subtask: Check that the file looks ok by opening it in a spreadsheet software</a></div><div class=\"lev1\"><a href=\"#Genotype\"><span class=\"toc-item-num\">5&nbsp;&nbsp;</span>Genotype</a></div><div class=\"lev2\"><a href=\"#Task:-Load-genotype-file-into-a-pandas-dataframe-using-the-correct-read-function\"><span class=\"toc-item-num\">5.1&nbsp;&nbsp;</span>Task: Load genotype file into a pandas dataframe using the correct read function</a></div><div class=\"lev2\"><a href=\"#Task:-Check-if-import-worked-by-displaying-the-first-10-rows-of-the-dataframe\"><span class=\"toc-item-num\">5.2&nbsp;&nbsp;</span>Task: Check if import worked by displaying the first 10 rows of the dataframe</a></div><div class=\"lev2\"><a href=\"#Task:-Describe-what-the-individuals-rows-and-columns-in-the-dataframe-mean\"><span class=\"toc-item-num\">5.3&nbsp;&nbsp;</span>Task: Describe what the individuals rows and columns in the dataframe mean</a></div><div class=\"lev2\"><a href=\"#Task:-How-many-SNPs-are-defined-in-the-genotype-file\"><span class=\"toc-item-num\">5.4&nbsp;&nbsp;</span>Task: How many SNPs are defined in the genotype file</a></div><div class=\"lev2\"><a href=\"#How-many-different-strains-are-included-in-the-genotype-file\"><span class=\"toc-item-num\">5.5&nbsp;&nbsp;</span>How many different strains are included in the genotype file</a></div><div class=\"lev2\"><a href=\"#Task:-Plot-the-distribution-patterns-of-maternal-and-paternal-alleles-across-strains-and-SNPs\"><span class=\"toc-item-num\">5.6&nbsp;&nbsp;</span>Task: Plot the distribution patterns of maternal and paternal alleles across strains and SNPs</a></div><div class=\"lev3\"><a href=\"#Step-1:-convert-cell-values-to-numbers\"><span class=\"toc-item-num\">5.6.1&nbsp;&nbsp;</span>Step 1: convert cell values to numbers</a></div><div class=\"lev3\"><a href=\"#Step-2:-Plot-clustered-heatmap\"><span class=\"toc-item-num\">5.6.2&nbsp;&nbsp;</span>Step 2: Plot clustered heatmap</a></div><div class=\"lev3\"><a href=\"#Plot-distribution-of-maternal-and-paternal-alleles\"><span class=\"toc-item-num\">5.6.3&nbsp;&nbsp;</span>Plot distribution of maternal and paternal alleles</a></div><div class=\"lev2\"><a href=\"#Study-Linakge-Disequilibrium-between-the-SNPs-on-each-chromosome\"><span class=\"toc-item-num\">5.7&nbsp;&nbsp;</span>Study Linakge Disequilibrium between the SNPs on each chromosome</a></div><div class=\"lev3\"><a href=\"#Subtask:-For-each-pair-of-loci-in-the-mouse-genotype-dataset,-compute-D'\"><span class=\"toc-item-num\">5.7.1&nbsp;&nbsp;</span>Subtask: For each pair of loci in the mouse genotype dataset, compute D'</a></div><div class=\"lev3\"><a href=\"#Subtask:-Plot-the-heatmap-of-pairwise-LD-for-SNPs\"><span class=\"toc-item-num\">5.7.2&nbsp;&nbsp;</span>Subtask: Plot the heatmap of pairwise LD for SNPs</a></div><div class=\"lev3\"><a href=\"#Subtask:-If-you-have-time:-Plot-only-pairwise-LD-for-SNPs-on-specific-chromosome-(e.g.-chr-4)\"><span class=\"toc-item-num\">5.7.3&nbsp;&nbsp;</span>Subtask: If you have time: Plot only pairwise LD for SNPs on specific chromosome (e.g. chr 4)</a></div><div class=\"lev1\"><a href=\"#Phenotype\"><span class=\"toc-item-num\">6&nbsp;&nbsp;</span>Phenotype</a></div><div class=\"lev2\"><a href=\"#Task:-Load-phenotype-file-into-a-pandas-dataframe-using-the-correct-read-function-(keep-all-sheets)\"><span class=\"toc-item-num\">6.1&nbsp;&nbsp;</span>Task: Load phenotype file into a pandas dataframe using the correct read function (keep all sheets)</a></div><div class=\"lev2\"><a href=\"#Task:-List-all-sheet-names\"><span class=\"toc-item-num\">6.2&nbsp;&nbsp;</span>Task: List all sheet names</a></div><div class=\"lev2\"><a href=\"#Task:-Take-a-peek-into-the-different-sheets-based-on-their-respective-name\"><span class=\"toc-item-num\">6.3&nbsp;&nbsp;</span>Task: Take a peek into the different sheets based on their respective name</a></div><div class=\"lev3\"><a href=\"#Subtask:-Try-the-pandas-functions-head()-and-tail()\"><span class=\"toc-item-num\">6.3.1&nbsp;&nbsp;</span>Subtask: Try the pandas functions head() and tail()</a></div><div class=\"lev3\"><a href=\"#Subtask:-List-all-columns-in-the-Biochemistry-sheet\"><span class=\"toc-item-num\">6.3.2&nbsp;&nbsp;</span>Subtask: List all columns in the Biochemistry sheet</a></div><div class=\"lev2\"><a href=\"#Task:-Study-the-variability-of-response-across-different-strains-for-some-of-the-measured-phenotypes:\"><span class=\"toc-item-num\">6.4&nbsp;&nbsp;</span>Task: Study the variability of response across different strains for some of the measured phenotypes:</a></div><div class=\"lev3\"><a href=\"#Subtask:-Compare-activity-on-activity-wheel-across-strains-(use-daily,-nightly-and-24-measurements,-pick-one-diet)\"><span class=\"toc-item-num\">6.4.1&nbsp;&nbsp;</span>Subtask: Compare activity on activity wheel across strains (use daily, nightly and 24 measurements, pick one diet)</a></div><div class=\"lev3\"><a href=\"#Subtask:-Compare-activity-across-different-times-of-day\"><span class=\"toc-item-num\">6.4.2&nbsp;&nbsp;</span>Subtask: Compare activity across different times of day</a></div><div class=\"lev3\"><a href=\"#Subtask:-Compare-the-two-different-diets-(for-several-biochemistry-measurements)\"><span class=\"toc-item-num\">6.4.3&nbsp;&nbsp;</span>Subtask: Compare the two different diets (for several biochemistry measurements)</a></div><div class=\"lev2\"><a href=\"#Task:-Compare-multiple-phenotype-measurements-(%-change-in-weight-and-mass)-across-strains-and-diet\"><span class=\"toc-item-num\">6.5&nbsp;&nbsp;</span>Task: Compare multiple phenotype measurements (% change in weight and mass) across strains and diet</a></div><div class=\"lev3\"><a href=\"#Subtask:-Extract-relevant-columns-from-the-body-weight-data-frame\"><span class=\"toc-item-num\">6.5.1&nbsp;&nbsp;</span>Subtask: Extract relevant columns from the body weight data frame</a></div><div class=\"lev3\"><a href=\"#Subtask:-Create-a-plot\"><span class=\"toc-item-num\">6.5.2&nbsp;&nbsp;</span>Subtask: Create a plot</a></div><div class=\"lev1\"><a href=\"#Merging-dataframes\"><span class=\"toc-item-num\">7&nbsp;&nbsp;</span>Merging dataframes</a></div><div class=\"lev1\"><a href=\"#Aggregating-dataframes\"><span class=\"toc-item-num\">8&nbsp;&nbsp;</span>Aggregating dataframes</a></div>"
   ]
  },
  {
   "cell_type": "markdown",
   "metadata": {},
   "source": [
    "# Today's topics "
   ]
  },
  {
   "cell_type": "markdown",
   "metadata": {},
   "source": [
    "We will mainly explore some of the data provided in the publications listed below. This will include downloading and importing data, describing numerical value columns in respect to the value distribution, and plot several relationships. The main goal is to familiarize yourself with the data while practicing how to use pandas. Feel free to explore other questions that may arise in addition to the tasks listed below."
   ]
  },
  {
   "cell_type": "markdown",
   "metadata": {},
   "source": [
    "The full publication that inspired some of the data analyses steps we'll do in this practical course was published in Science recently:\n",
    "\n",
    "__Systems proteomics of liver mitochondria function__      \n",
    "by Evan G. Williams, Yibo Wu, Pooja Jha, Sébastien Dubuis et al.     \n",
    "_Science_     \n",
    "Volume 352(6291):[aad0189](http://science.sciencemag.org/content/352/6291/aad0189)    \n",
    "June 10, 2016, [doi:10.1126/science.aad0189](doi:10.1126/science.aad0189)\n",
    "\n",
    "The supplemental files are listed here: http://science.sciencemag.org/content/suppl/2016/06/10/352.6291.aad0189.DC1\n",
    "\n",
    "We further include some methodology discussed in a related paper about mouse-human PheWAS\n",
    "\n",
    "__Joint mouse–human phenome-wide association to test gene function and disease risk__\n",
    "by Xusheng Wang, Ashutosh K. Pandey, Megan K. Mulligan, Evan G. Williams et al.     \n",
    "_Nature Communications_     \n",
    "Volume 7, Article number: 10464, [doi:10.1038/ncomms10464](doi:10.1038/ncomms10464)     "
   ]
  },
  {
   "cell_type": "markdown",
   "metadata": {},
   "source": [
    "# Download data"
   ]
  },
  {
   "cell_type": "markdown",
   "metadata": {},
   "source": [
    "## Task: Create a subdirectory in which you will store all your in- and output files"
   ]
  },
  {
   "cell_type": "code",
   "execution_count": null,
   "metadata": {
    "collapsed": true,
    "run_control": {
     "frozen": false,
     "read_only": false
    }
   },
   "outputs": [],
   "source": []
  },
  {
   "cell_type": "markdown",
   "metadata": {},
   "source": [
    "## Task: Download Genotype supplement and check if it worked"
   ]
  },
  {
   "cell_type": "markdown",
   "metadata": {},
   "source": [
    "Hint: the genotype data is in the supplemental file \"aad0189_DataFileS4.txt\""
   ]
  },
  {
   "cell_type": "markdown",
   "metadata": {},
   "source": [
    "###  Subtask: Check that the file looks ok by opening it"
   ]
  },
  {
   "cell_type": "markdown",
   "metadata": {
    "collapsed": true,
    "run_control": {
     "frozen": false,
     "read_only": false
    }
   },
   "source": [
    "## Task: Repeat for Phenotype supplement"
   ]
  },
  {
   "cell_type": "markdown",
   "metadata": {},
   "source": [
    "Hint: the phenotype data is in the supplemental file \"aad0189_DataFileS2.xlsx\""
   ]
  },
  {
   "cell_type": "code",
   "execution_count": null,
   "metadata": {
    "collapsed": true,
    "run_control": {
     "frozen": false,
     "read_only": false
    }
   },
   "outputs": [],
   "source": []
  },
  {
   "cell_type": "markdown",
   "metadata": {},
   "source": [
    "### Subtask: Check that the file looks ok by opening it"
   ]
  },
  {
   "cell_type": "markdown",
   "metadata": {},
   "source": [
    "# Genotype\n",
    "The mouse genotype data is provided as a tab-delimited text file (you can check it's general structure using less in the command line or by opening the file in a text editor).\n",
    "## Task: Load genotype file into a pandas dataframe using the correct read function"
   ]
  },
  {
   "cell_type": "markdown",
   "metadata": {},
   "source": [
    "The supplementary file aad0189_DataFileS4_Genotype.txt corresponds to BXD_3000.geno and BXD.geno on [genenetwork.org](http://www.genenetwork.org/webqtl/main.py?FormID=sharinginfo&GN_AccessionId=600). BXD17000 on the other hand contains roughly 17000 markers."
   ]
  },
  {
   "cell_type": "code",
   "execution_count": null,
   "metadata": {
    "collapsed": true,
    "run_control": {
     "frozen": false,
     "read_only": false
    }
   },
   "outputs": [],
   "source": []
  },
  {
   "cell_type": "markdown",
   "metadata": {},
   "source": [
    "## Task: Check if import worked by displaying the first 10 rows of the dataframe"
   ]
  },
  {
   "cell_type": "code",
   "execution_count": null,
   "metadata": {
    "collapsed": false,
    "run_control": {
     "frozen": false,
     "read_only": false
    }
   },
   "outputs": [],
   "source": []
  },
  {
   "cell_type": "markdown",
   "metadata": {},
   "source": [
    "## Task: Describe what the individuals rows and columns in the dataframe mean\n",
    "You may have to have a look at the file header of the genotype file as well as the data repositories containing genetic data of mice: http://www.genenetwork.org/mouseCross.html and http://www.genenetwork.org/webqtl/main.py?FormID=sharinginfo&GN_AccessionId=600 "
   ]
  },
  {
   "cell_type": "code",
   "execution_count": null,
   "metadata": {
    "collapsed": true
   },
   "outputs": [],
   "source": []
  },
  {
   "cell_type": "markdown",
   "metadata": {},
   "source": [
    "## Task: How many SNPs are defined in the genotype file"
   ]
  },
  {
   "cell_type": "code",
   "execution_count": null,
   "metadata": {
    "collapsed": false,
    "run_control": {
     "frozen": false,
     "read_only": false
    }
   },
   "outputs": [],
   "source": []
  },
  {
   "cell_type": "markdown",
   "metadata": {},
   "source": [
    "## How many different strains are included in the genotype file"
   ]
  },
  {
   "cell_type": "code",
   "execution_count": null,
   "metadata": {
    "collapsed": false,
    "run_control": {
     "frozen": false,
     "read_only": false
    }
   },
   "outputs": [],
   "source": []
  },
  {
   "cell_type": "markdown",
   "metadata": {},
   "source": [
    "## Task: Plot the distribution patterns of maternal and paternal alleles across strains and SNPs"
   ]
  },
  {
   "cell_type": "markdown",
   "metadata": {},
   "source": [
    "### Step 1: convert cell values to numbers"
   ]
  },
  {
   "cell_type": "markdown",
   "metadata": {},
   "source": [
    "Note on heterozygous loci: \"It is recommended to treat these rare heterozygous loci as missing data and ensure that only the additive effects of B vs. D alleles are estimated\" (http://www.genenetwork.org/webqtl/main.py?FormID=sharinginfo&GN_AccessionId=600)\n",
    "\n",
    "Hint: For the Heatmap in the next task, it is preferable to have a [-x,x] range, rather than a [0,x] range."
   ]
  },
  {
   "cell_type": "code",
   "execution_count": null,
   "metadata": {
    "collapsed": true,
    "run_control": {
     "frozen": false,
     "read_only": false
    }
   },
   "outputs": [],
   "source": []
  },
  {
   "cell_type": "markdown",
   "metadata": {},
   "source": [
    "### Step 2: Plot clustered heatmap"
   ]
  },
  {
   "cell_type": "code",
   "execution_count": null,
   "metadata": {
    "collapsed": false,
    "run_control": {
     "frozen": false,
     "read_only": false
    }
   },
   "outputs": [],
   "source": []
  },
  {
   "cell_type": "markdown",
   "metadata": {},
   "source": [
    "### Plot distribution of maternal and paternal alleles"
   ]
  },
  {
   "cell_type": "markdown",
   "metadata": {},
   "source": [
    "Hint: Count occurances of the alleles B and D for each strain"
   ]
  },
  {
   "cell_type": "code",
   "execution_count": null,
   "metadata": {
    "collapsed": false,
    "run_control": {
     "frozen": false,
     "read_only": false
    }
   },
   "outputs": [],
   "source": []
  },
  {
   "cell_type": "markdown",
   "metadata": {},
   "source": [
    "# Phenotype\n",
    "The BXD mouse phenotype data has been accumulated over the past 50 years and with various measurements being available for different mice and different tissue types. The data provided by the paper supplement is structured as a multi-sheet EXCEL spreadsheet - you can open it in the corresponding software to get a first impression about the structure of the file.\n",
    "## Task: Load phenotype file into a pandas dataframe using the correct read function (keep all sheets)"
   ]
  },
  {
   "cell_type": "code",
   "execution_count": null,
   "metadata": {
    "collapsed": true,
    "run_control": {
     "frozen": false,
     "read_only": false
    }
   },
   "outputs": [],
   "source": []
  },
  {
   "cell_type": "markdown",
   "metadata": {},
   "source": [
    "## Task: List all sheet names"
   ]
  },
  {
   "cell_type": "code",
   "execution_count": null,
   "metadata": {
    "collapsed": true,
    "run_control": {
     "frozen": false,
     "read_only": false
    }
   },
   "outputs": [],
   "source": []
  },
  {
   "cell_type": "markdown",
   "metadata": {},
   "source": [
    "## Task: Take a peek into the different sheets based on their respective name"
   ]
  },
  {
   "cell_type": "markdown",
   "metadata": {},
   "source": [
    "### Subtask: Try the pandas functions head() and tail()"
   ]
  },
  {
   "cell_type": "code",
   "execution_count": null,
   "metadata": {
    "collapsed": true
   },
   "outputs": [],
   "source": []
  },
  {
   "cell_type": "markdown",
   "metadata": {},
   "source": [
    "### Subtask: List all columns in the Biochemistry sheet"
   ]
  },
  {
   "cell_type": "code",
   "execution_count": null,
   "metadata": {
    "collapsed": true
   },
   "outputs": [],
   "source": []
  },
  {
   "cell_type": "markdown",
   "metadata": {},
   "source": [
    "## Task: Study the variability of response across different strains for some of the measured phenotypes:\n",
    "\n",
    "Examples:\n",
    "- activity on the wheel\n",
    "- basal body temperature\n",
    "- alkaline phosphatase (ALPL) protein activity level\n",
    "- weight after 28 weeks\n",
    "\n"
   ]
  },
  {
   "cell_type": "markdown",
   "metadata": {},
   "source": [
    "### Subtask: Compare 'Activity Wheel' across strains (use daily, nightly and 24 measurements, pick one diet)\n",
    "\n"
   ]
  },
  {
   "cell_type": "markdown",
   "metadata": {},
   "source": [
    "hint: the diets are CD (Choline Deficient) and HFD (High Fat Diet)"
   ]
  },
  {
   "cell_type": "code",
   "execution_count": null,
   "metadata": {
    "collapsed": false,
    "run_control": {
     "frozen": false,
     "read_only": false
    }
   },
   "outputs": [],
   "source": []
  },
  {
   "cell_type": "markdown",
   "metadata": {},
   "source": [
    "### Subtask: Compare activity across different times of day"
   ]
  },
  {
   "cell_type": "markdown",
   "metadata": {},
   "source": [
    "Compute summary statistics over all strains and plot distributions for each time of day"
   ]
  },
  {
   "cell_type": "code",
   "execution_count": null,
   "metadata": {
    "collapsed": false,
    "run_control": {
     "frozen": false,
     "read_only": false
    }
   },
   "outputs": [],
   "source": []
  },
  {
   "cell_type": "code",
   "execution_count": null,
   "metadata": {
    "collapsed": false,
    "run_control": {
     "frozen": false,
     "read_only": false
    }
   },
   "outputs": [],
   "source": []
  },
  {
   "cell_type": "markdown",
   "metadata": {},
   "source": [
    "### Subtask: Compare the two different diets (for several biochemistry measurements)\n",
    "Tip: after prototyping your analysis, wrap your individual steps in a function that you can use for an arbitrary phenotype in an arbitrary worksheet"
   ]
  },
  {
   "cell_type": "markdown",
   "metadata": {},
   "source": [
    "1. extract columns we are interested in from full dataframe\n",
    "2. add a column with the difference between HFD and CD\n",
    "3. plot all three columns for all strains as a bar plot (see e.g. pandas.DataFrame.plot.bar )"
   ]
  },
  {
   "cell_type": "code",
   "execution_count": null,
   "metadata": {
    "collapsed": true,
    "run_control": {
     "frozen": false,
     "read_only": false
    }
   },
   "outputs": [],
   "source": []
  },
  {
   "cell_type": "code",
   "execution_count": null,
   "metadata": {
    "collapsed": false,
    "run_control": {
     "frozen": false,
     "read_only": false
    }
   },
   "outputs": [],
   "source": []
  },
  {
   "cell_type": "code",
   "execution_count": null,
   "metadata": {
    "collapsed": false,
    "run_control": {
     "frozen": false,
     "read_only": false
    }
   },
   "outputs": [],
   "source": []
  },
  {
   "cell_type": "markdown",
   "metadata": {},
   "source": [
    "__If you did not do it already, define functions that perform aspects of the procedure above__"
   ]
  },
  {
   "cell_type": "code",
   "execution_count": null,
   "metadata": {
    "collapsed": true,
    "run_control": {
     "frozen": false,
     "read_only": false
    }
   },
   "outputs": [],
   "source": []
  },
  {
   "cell_type": "markdown",
   "metadata": {},
   "source": [
    "__After refactoring code into functions: Apply function to other phenotypes__"
   ]
  },
  {
   "cell_type": "code",
   "execution_count": null,
   "metadata": {
    "collapsed": false,
    "run_control": {
     "frozen": false,
     "read_only": false
    }
   },
   "outputs": [],
   "source": []
  },
  {
   "cell_type": "markdown",
   "metadata": {},
   "source": [
    "## Task: Compare multiple phenotype measurements (% change in weight and mass) across strains and diet\n",
    "Hint: plotting the values may help exploring the ranges."
   ]
  },
  {
   "cell_type": "markdown",
   "metadata": {},
   "source": [
    "### Subtask: Extract relevant columns from the body weight data frame"
   ]
  },
  {
   "cell_type": "code",
   "execution_count": null,
   "metadata": {
    "collapsed": false,
    "run_control": {
     "frozen": false,
     "read_only": false
    },
    "scrolled": true
   },
   "outputs": [],
   "source": []
  },
  {
   "cell_type": "markdown",
   "metadata": {},
   "source": [
    "### Subtask: Create a plot"
   ]
  },
  {
   "cell_type": "code",
   "execution_count": null,
   "metadata": {
    "collapsed": true,
    "run_control": {
     "frozen": false,
     "read_only": false
    }
   },
   "outputs": [],
   "source": [
    "from pandas.plotting import parallel_coordinates"
   ]
  },
  {
   "cell_type": "code",
   "execution_count": null,
   "metadata": {
    "collapsed": false,
    "run_control": {
     "frozen": false,
     "read_only": false
    },
    "scrolled": false
   },
   "outputs": [],
   "source": [
    "with sns.axes_style('white'):\n",
    "    fig, (ax1, ax2) = plt.subplots(1, 2, figsize=(20, 10), sharey=True)\n",
    "    # plot parallel coordinates - needs column containing the categories for coloring -> reset index required\n",
    "     \n",
    "    # Insert your code here\n",
    "    \n",
    "    # fix label rotation\n",
    "    # left plot\n",
    "    labels1 = ax1.get_xmajorticklabels()\n",
    "    ax1.set_xticklabels(labels1, rotation=90)\n",
    "    # right plot\n",
    "    labels2 = ax2.get_xmajorticklabels()\n",
    "    ax2.set_xticklabels(labels2, rotation=90)\n",
    "    \n",
    "    # fix legend\n",
    "    ax1.legend().set_visible(False)\n",
    "    lines = ax2.legend().get_lines()\n",
    "    labels = [t.get_text() for t in ax2.legend().get_texts()]\n",
    "    plt.legend(lines, labels, loc = 'lower center', bbox_to_anchor = (0,-0.45,1,1),\n",
    "               bbox_transform = plt.gcf().transFigure, ncol=10)\n",
    "    "
   ]
  },
  {
   "cell_type": "markdown",
   "metadata": {},
   "source": [
    "# Plot the linear dependence of pairs of phenotypes\n",
    "Try to see if certain biochemical measurements correlate with the fitness measurements or blood parameters. \n",
    "\n",
    "The method of choice for this type of question is usually a simple linear regression. You will learn more about the details of how to perfom such a study tomorrow. For now it suffices to use [built-in functions provided by pandas and seaborn](https://stanford.edu/~mwaskom/software/seaborn/tutorial/regression.html). If you want to read more about linear regression, you can take a peek at [this tutorial](http://www.dataschool.io/linear-regression-in-python/).\n",
    "\n",
    "Seaborn provides convenience functions to fit regression models and simultaneously plot them. Seaborn and pandas also provide convience functions for creating scatterplot matrices. You also learned how to create figures with multiple subplots - this may also be useful for this task."
   ]
  },
  {
   "cell_type": "code",
   "execution_count": null,
   "metadata": {
    "collapsed": false
   },
   "outputs": [],
   "source": []
  },
  {
   "cell_type": "markdown",
   "metadata": {},
   "source": [
    "## Study Linkage Disequilibrium between the SNPs on each chromosome"
   ]
  },
  {
   "cell_type": "markdown",
   "metadata": {
    "collapsed": true,
    "run_control": {
     "frozen": false,
     "read_only": false
    }
   },
   "source": [
    "__Linkage disequilibrium__ (LD) is the non-random association of alleles at multiple loci. If, in a population, all loci on a chromosome where completely independently distributed, the population would be considered to be at linkage equilibrium - a state that only theoretically reached in population genetics. Stemming from a single founder pair (in complete LD), each generation of offspring observed a set of recombination and crossover events breaking up the structure of the chromosome. This does not necessarily happen at gene boundaries, resulting in set of genes usually inherited together. The state of linkage equilibrium is similar to the Hardy-Weinberg equilibrium that you should have heard about in the context of genotype frequency. In the case of LD we work with haplotypes, however. While the genotype describes the allelic status of a single locus on both chromosomes (A/a), a haplotype expands this scenario to two or more loci that are inherited together from a single parent. If we have two loci with two possible alleles A/a and B/b the following haplotypes can exist\n",
    "\n",
    "|   | B  | b  |\n",
    "|---|----|----|\n",
    "| A | AB | Ab |\n",
    "| a | aB | ab |\n",
    "\n",
    "In a population the frequency of each of these haplotypes can be computed from the data by counting the number of occurrences of the haplotype and dividing it by the number of samples. In our case we can thus compute the frequency for observing the haplotype and $p_{AB} = n_{AB}/n$ (and the rest analogously)\n",
    "\n",
    "| Haplotype | A-B      | A-b      | a-B      | a-b      |\n",
    "|-----------|----------|----------|----------|----------|\n",
    "| Count     | $n_{AB}$ | $n_{Ab}$ | $n_{aB}$ | $n_{ab}$ |\n",
    "| Frequency | $p_{AB}$ | $p_{Ab}$ | $p_{aB}$ | $p_{ab}$ |\n",
    "\n",
    "From a statistical point of view, LD can be calculated as the difference of haplotype frequencies of the alleles at two loci observed in the population compared to the expected haplotype frequency if the two loci where independent $p_A$ and $p_B$. If the coefficient of linkage disequilibrium D between these probabilities is not zero, the two loci are in not independent, i.e. $p_{AB} \\ne p_{A}p_{B}$.\n",
    "\n",
    "$$D = p_{AB} - p_{A}p_{B}$$\n",
    "\n",
    "Usually, this measure is normalized by dividing by the theoretical maximum for the observed allele frequencies\n",
    "\n",
    "$$D' = D / D_\\text{max}$$\n",
    "\n",
    "with\n",
    "\n",
    "$$D_\\text{max} =\n",
    "\\begin{cases}\n",
    "\\min\\{p_{A}p_{B}, (1-p_{A})(1-p_{B})\\} &\\mbox{if } D < 0,\\\\\n",
    "\\min\\{(p_{A}(1-p_{B}), (1-p_{A})p_{B}\\} &\\mbox{if } D > 0\n",
    "\\end{cases}\n",
    "$$\n",
    "\n",
    "You can read up more about the concept in the following review:\n",
    "[Montgomery Slatkin, Linkage disequilibrium — understanding the evolutionary past and mapping the medical future](http://www.nature.com/nrg/journal/v9/n6/full/nrg2361.html). A nice presentation about the intuition can also be found [here](http://csg.sph.umich.edu/abecasis/class/666.03.pdf)."
   ]
  },
  {
   "cell_type": "markdown",
   "metadata": {},
   "source": [
    "## Bonus Task if you have time: calculate linkage disequilibrium for marker loci"
   ]
  },
  {
   "cell_type": "markdown",
   "metadata": {},
   "source": [
    "### Subtask: For each pair of loci in the mouse genotype dataset, compute D'"
   ]
  },
  {
   "cell_type": "markdown",
   "metadata": {},
   "source": [
    "Hint 1: you may exclude rows that are heterozygous for the locus or with unknown genotype\n",
    "\n",
    "Hint 2: You may want to test your approach on a subset of the loci first as it may take a while to compute all pairwise LD coefficients."
   ]
  },
  {
   "cell_type": "code",
   "execution_count": null,
   "metadata": {
    "collapsed": true,
    "run_control": {
     "frozen": false,
     "read_only": false
    }
   },
   "outputs": [],
   "source": []
  },
  {
   "cell_type": "markdown",
   "metadata": {},
   "source": [
    "### Subtask: Plot the heatmap of pairwise LD for SNPs"
   ]
  },
  {
   "cell_type": "code",
   "execution_count": null,
   "metadata": {
    "collapsed": false,
    "run_control": {
     "frozen": false,
     "read_only": false
    }
   },
   "outputs": [],
   "source": []
  },
  {
   "cell_type": "markdown",
   "metadata": {},
   "source": [
    "### Subtask: Plot only pairwise LD for SNPs on a specific chromosome (e.g. chr 4)"
   ]
  },
  {
   "cell_type": "code",
   "execution_count": null,
   "metadata": {
    "collapsed": true
   },
   "outputs": [],
   "source": []
  },
  {
   "cell_type": "markdown",
   "metadata": {},
   "source": [
    "# Tip for report\n",
    "After you successfully implemented the functions required for the tasks above, you could consider outsourcing the functions defined here in an external python module (e.g. pibi_tools.py). This allows you to recycle the code later in the course without having to copy and paste (bad!) and also makes the notebooks more readable.\n",
    "\n",
    "Do not forget to add the python module to your repository if you decide to create this external module."
   ]
  }
 ],
 "metadata": {
  "anaconda-cloud": {},
  "hide_input": false,
  "kernelspec": {
   "display_name": "Python [conda root]",
   "language": "python",
   "name": "conda-root-py"
  },
  "language_info": {
   "codemirror_mode": {
    "name": "ipython",
    "version": 3
   },
   "file_extension": ".py",
   "mimetype": "text/x-python",
   "name": "python",
   "nbconvert_exporter": "python",
   "pygments_lexer": "ipython3",
   "version": "3.5.2"
  },
  "nav_menu": {},
  "toc": {
   "navigate_menu": true,
   "number_sections": true,
   "sideBar": false,
   "threshold": 6,
   "toc_cell": true,
   "toc_number_sections": true,
   "toc_section_display": "block",
   "toc_window_display": true
  },
  "toc_position": {
   "height": "418px",
   "left": "1547px",
   "right": "20px",
   "top": "106px",
   "width": "309px"
  }
 },
 "nbformat": 4,
 "nbformat_minor": 1
}
