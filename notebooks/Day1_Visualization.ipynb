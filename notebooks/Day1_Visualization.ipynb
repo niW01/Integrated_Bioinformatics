{
 "cells": [
  {
   "cell_type": "markdown",
   "metadata": {
    "toc": "true"
   },
   "source": [
    "# Table of Contents\n",
    " <p><div class=\"lev1 toc-item\"><a href=\"#Read-Tutorial-on-matplotlib\" data-toc-modified-id=\"Read-Tutorial-on-matplotlib-1\"><span class=\"toc-item-num\">1&nbsp;&nbsp;</span>Read Tutorial on matplotlib</a></div><div class=\"lev1 toc-item\"><a href=\"#Plot-the-Normal-Distribution\" data-toc-modified-id=\"Plot-the-Normal-Distribution-2\"><span class=\"toc-item-num\">2&nbsp;&nbsp;</span>Plot the Normal Distribution</a></div><div class=\"lev2 toc-item\"><a href=\"#Now-as-Boxplots\" data-toc-modified-id=\"Now-as-Boxplots-2.1\"><span class=\"toc-item-num\">2.1&nbsp;&nbsp;</span>Now as Boxplots</a></div><div class=\"lev2 toc-item\"><a href=\"#Finally-let's-do-some-Histograms\" data-toc-modified-id=\"Finally-let's-do-some-Histograms-2.2\"><span class=\"toc-item-num\">2.2&nbsp;&nbsp;</span>Finally let's do some Histograms</a></div>"
   ]
  },
  {
   "cell_type": "code",
   "execution_count": 1,
   "metadata": {
    "collapsed": true
   },
   "outputs": [],
   "source": [
    "%matplotlib inline"
   ]
  },
  {
   "cell_type": "markdown",
   "metadata": {},
   "source": [
    "# Read Tutorial on matplotlib\n",
    "[matplotlib](http://matplotlib.org/) is a 2D plotting library for python which can also be used to create inline plots in jupyter notebooks. To get familiar with the basic plotting concepts, walk through [this](http://www.labri.fr/perso/nrougier/teaching/matplotlib/) tutorial and create all the plots therein. Note that it's easier to learn and remember the commands if you don't just copy & paste, but retype the examples!"
   ]
  },
  {
   "cell_type": "markdown",
   "metadata": {},
   "source": [
    "# Plot the Normal Distribution\n",
    "Now you should be able to reproduce the following plot (taken from Wikipedia):\n",
    "<img src='https://upload.wikimedia.org/wikipedia/commons/thumb/7/74/Normal_Distribution_PDF.svg/720px-Normal_Distribution_PDF.svg.png'>"
   ]
  },
  {
   "cell_type": "markdown",
   "metadata": {},
   "source": [
    "## Now as Boxplots\n",
    "Now have a look at [seaborn](https://stanford.edu/~mwaskom/software/seaborn/index.html) and use it to plot random 1000 samples of  these normal distributions as boxplots. You should get something similar as this:\n",
    "<img src=\"boxplot_solution.png\"></img>"
   ]
  },
  {
   "cell_type": "markdown",
   "metadata": {},
   "source": [
    "## Finally let's do some Histograms\n",
    "Now use the samples of the previous exercise and plot them as histograms (i) in sublots:\n",
    "<img src=\"histo_subplots.png\"></img>\n",
    "and overlayed into one plot:\n",
    "<img src=\"histo_kde.png\"></img>"
   ]
  },
  {
   "cell_type": "code",
   "execution_count": null,
   "metadata": {
    "collapsed": true
   },
   "outputs": [],
   "source": []
  }
 ],
 "metadata": {
  "kernelspec": {
   "display_name": "Python 2",
   "language": "python",
   "name": "python2"
  },
  "language_info": {
   "codemirror_mode": {
    "name": "ipython",
    "version": 2
   },
   "file_extension": ".py",
   "mimetype": "text/x-python",
   "name": "python",
   "nbconvert_exporter": "python",
   "pygments_lexer": "ipython2",
   "version": "2.7.11"
  },
  "nav_menu": {},
  "toc": {
   "navigate_menu": true,
   "number_sections": true,
   "sideBar": false,
   "threshold": 6,
   "toc_cell": true,
   "toc_section_display": "block",
   "toc_window_display": false
  }
 },
 "nbformat": 4,
 "nbformat_minor": 1
}
