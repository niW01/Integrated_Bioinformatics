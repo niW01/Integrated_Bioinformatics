{
 "cells": [
  {
   "cell_type": "markdown",
   "metadata": {
    "toc": "true"
   },
   "source": [
    "# Table of Contents\n",
    " <p><div class=\"lev1 toc-item\"><a href=\"#Before-you-start\" data-toc-modified-id=\"Before-you-start-1\"><span class=\"toc-item-num\">1&nbsp;&nbsp;</span>Before you start</a></div><div class=\"lev1 toc-item\"><a href=\"#Resources\" data-toc-modified-id=\"Resources-2\"><span class=\"toc-item-num\">2&nbsp;&nbsp;</span>Resources</a></div><div class=\"lev1 toc-item\"><a href=\"#Configure-the-import-of-the-d3.js-library\" data-toc-modified-id=\"Configure-the-import-of-the-d3.js-library-3\"><span class=\"toc-item-num\">3&nbsp;&nbsp;</span>Configure the import of the d3.js library</a></div><div class=\"lev2 toc-item\"><a href=\"#Open-the-developer-console-(CMD-+-alt-+-J)-and-check-if-it-worked-by-printing-the-d3-version-to-the-console\" data-toc-modified-id=\"Open-the-developer-console-(CMD-+-alt-+-J)-and-check-if-it-worked-by-printing-the-d3-version-to-the-console-3.1\"><span class=\"toc-item-num\">3.1&nbsp;&nbsp;</span>Open the developer console (CMD + alt + J) and check if it worked by printing the d3 version to the console</a></div><div class=\"lev1 toc-item\"><a href=\"#Basics\" data-toc-modified-id=\"Basics-4\"><span class=\"toc-item-num\">4&nbsp;&nbsp;</span>Basics</a></div><div class=\"lev2 toc-item\"><a href=\"#Running-JavaScript-Code-from-Python\" data-toc-modified-id=\"Running-JavaScript-Code-from-Python-4.1\"><span class=\"toc-item-num\">4.1&nbsp;&nbsp;</span>Running JavaScript Code from Python</a></div><div class=\"lev2 toc-item\"><a href=\"#Binding-Data\" data-toc-modified-id=\"Binding-Data-4.2\"><span class=\"toc-item-num\">4.2&nbsp;&nbsp;</span>Binding Data</a></div><div class=\"lev2 toc-item\"><a href=\"#Convert-Data-from-Pandas-to-d3.js\" data-toc-modified-id=\"Convert-Data-from-Pandas-to-d3.js-4.3\"><span class=\"toc-item-num\">4.3&nbsp;&nbsp;</span>Convert Data from Pandas to d3.js</a></div><div class=\"lev3 toc-item\"><a href=\"#Write-a-function-that-converts-a-Pandas-dataframe-to-an-array-of-objects-as-described-above.\" data-toc-modified-id=\"Write-a-function-that-converts-a-Pandas-dataframe-to-an-array-of-objects-as-described-above.-4.3.1\"><span class=\"toc-item-num\">4.3.1&nbsp;&nbsp;</span>Write a function that converts a Pandas dataframe to an array of objects as described above.</a></div><div class=\"lev2 toc-item\"><a href=\"#Load-a-data-frame-in-Javascript\" data-toc-modified-id=\"Load-a-data-frame-in-Javascript-4.4\"><span class=\"toc-item-num\">4.4&nbsp;&nbsp;</span>Load a data frame in Javascript</a></div><div class=\"lev3 toc-item\"><a href=\"#Load-your-differentially-expressed-Genes-from-Day-5/6-from-a-csv-file-in-a-pandas-dataframe-and-check-if-it-worked\" data-toc-modified-id=\"Load-your-differentially-expressed-Genes-from-Day-5/6-from-a-csv-file-in-a-pandas-dataframe-and-check-if-it-worked-4.4.1\"><span class=\"toc-item-num\">4.4.1&nbsp;&nbsp;</span>Load your differentially expressed Genes from Day 5/6 from a csv file in a pandas dataframe and check if it worked</a></div><div class=\"lev3 toc-item\"><a href=\"#Assign-the-dataframe-to-a-javascript-global-variable-(window.*)\" data-toc-modified-id=\"Assign-the-dataframe-to-a-javascript-global-variable-(window.*)-4.4.2\"><span class=\"toc-item-num\">4.4.2&nbsp;&nbsp;</span>Assign the dataframe to a javascript global variable (window.*)</a></div><div class=\"lev1 toc-item\"><a href=\"#Create-an-interactive-Vulcano-plot-with-variable-pvalue-and-fold-change-cutoffs\" data-toc-modified-id=\"Create-an-interactive-Vulcano-plot-with-variable-pvalue-and-fold-change-cutoffs-5\"><span class=\"toc-item-num\">5&nbsp;&nbsp;</span>Create an interactive Vulcano plot with variable pvalue and fold-change cutoffs</a></div><div class=\"lev2 toc-item\"><a href=\"#Create-a-static-version\" data-toc-modified-id=\"Create-a-static-version-5.1\"><span class=\"toc-item-num\">5.1&nbsp;&nbsp;</span>Create a static version</a></div><div class=\"lev2 toc-item\"><a href=\"#Now-add-draggable-lines-to-interactively-change-the-fold-cut-and-the-pvalue-cut\" data-toc-modified-id=\"Now-add-draggable-lines-to-interactively-change-the-fold-cut-and-the-pvalue-cut-5.2\"><span class=\"toc-item-num\">5.2&nbsp;&nbsp;</span>Now add draggable lines to interactively change the fold cut and the pvalue cut</a></div><div class=\"lev1 toc-item\"><a href=\"#If-you-made-it-this-far:-Congrats!-Now-it's-freestyle-time:-use-your-d3-skills-to-make-your-favourite-plot,-e.g.-add-tooltips-to-the-Manhatten-plot\" data-toc-modified-id=\"If-you-made-it-this-far:-Congrats!-Now-it's-freestyle-time:-use-your-d3-skills-to-make-your-favourite-plot,-e.g.-add-tooltips-to-the-Manhatten-plot-6\"><span class=\"toc-item-num\">6&nbsp;&nbsp;</span>If you made it this far: Congrats! Now it's freestyle time: use your d3 skills to make your favourite plot, e.g. add tooltips to the Manhatten plot</a></div>"
   ]
  },
  {
   "cell_type": "markdown",
   "metadata": {},
   "source": [
    "# Before you start\n",
    "I recommend to use Chrome, as it seems to be way faster in executing JavaScript (at least on the machines in the pool)."
   ]
  },
  {
   "cell_type": "markdown",
   "metadata": {},
   "source": [
    "# Resources\n",
    "This notebook is largely based on a workshop that given by Mike Bostock (the creator of [d3.js](http://d3js.org)) at one of the [VIZBI](http://vizbi.org) conferences. It is highly recommended to have a look at his [slides](https://bost.ocks.org/mike/d3/workshop/) while you're running the exercises below.\n",
    "\n",
    "In addition, you need to know [How to use d3.js in Jupyter notebooks](http://blog.thedataincubator.com/2015/08/embedding-d3-in-an-ipython-notebook/).\n",
    "\n",
    "Other useful resources:\n",
    "* The [d3 API Reference](https://github.com/d3/d3-3.x-api-reference/blob/master/API-Reference.md)"
   ]
  },
  {
   "cell_type": "markdown",
   "metadata": {},
   "source": [
    "# Configure the import of the d3.js library\n",
    "Jupyter loads up the requirejs library which we can use to define dependencies for our JavaScript code."
   ]
  },
  {
   "cell_type": "code",
   "execution_count": 89,
   "metadata": {
    "collapsed": false
   },
   "outputs": [
    {
     "data": {
      "application/javascript": [
       "require.config({\n",
       "    paths: {\n",
       "        d3: '//cdnjs.cloudflare.com/ajax/libs/d3/3.4.8/d3.min'\n",
       "    }\n",
       "});"
      ],
      "text/plain": [
       "<IPython.core.display.Javascript object>"
      ]
     },
     "metadata": {},
     "output_type": "display_data"
    }
   ],
   "source": []
  },
  {
   "cell_type": "markdown",
   "metadata": {},
   "source": [
    "## Open the developer console (CMD + alt + J) and check if it worked by printing the d3 version to the console"
   ]
  },
  {
   "cell_type": "code",
   "execution_count": 90,
   "metadata": {
    "collapsed": false
   },
   "outputs": [
    {
     "data": {
      "application/javascript": [
       "require(['d3'], function(d3) {\n",
       "    console.log(d3.version);\n",
       "});"
      ],
      "text/plain": [
       "<IPython.core.display.Javascript object>"
      ]
     },
     "metadata": {},
     "output_type": "display_data"
    }
   ],
   "source": []
  },
  {
   "cell_type": "markdown",
   "metadata": {},
   "source": [
    "# Basics\n",
    "Draw a circle with red fill and black stroke and assign it to the global namespace (window.*)"
   ]
  },
  {
   "cell_type": "code",
   "execution_count": 1,
   "metadata": {
    "collapsed": false
   },
   "outputs": [
    {
     "data": {
      "application/javascript": [
       "require(['d3'], function(d3) {\n",
       "    // element is a variable provided by the notebook that\n",
       "    // refers to a <div> element in the output of this cell.\n",
       "    // Here we use it to append a new <div> named 'ex1' which will serve\n",
       "    // as the container for our first visualization.\n",
       "    element.append(\"<div id='ex1'></div>\");\n",
       "    \n",
       "    // we can use jQuery to set attributes of our new element\n",
       "    $(\"#ex1\").width('100px');\n",
       "    $(\"#ex1\").height('100px');\n",
       "    \n",
       "    // while d3 is not restricted to svg elements, we will use it\n",
       "    // mainly for that purpose. So let's start with adding a <svg>\n",
       "    // element to our container.\n",
       "    var svg = d3.select(\"#ex1\").append(\"svg\")\n",
       "                    .attr(\"width\", 100)\n",
       "                    .attr(\"height\", 100)\n",
       "    \n",
       "    // now draw a circle with red fill and\n",
       "    // black stroke\n",
       "    var circle = svg.append(\"circle\")\n",
       "        .attr(\"cx\", 50)\n",
       "        .attr(\"cy\", 50)\n",
       "        .attr(\"r\", 24)\n",
       "        .style(\"fill\", \"red\")\n",
       "        .style(\"stroke\", \"black\");\n",
       "    \n",
       "    // note that we can assign any variable to the global namespace\n",
       "    // 'window' to make it accessible in other cells in this notebook.\n",
       "    window.ex1_circle = circle;\n",
       "});"
      ],
      "text/plain": [
       "<IPython.core.display.Javascript object>"
      ]
     },
     "metadata": {},
     "output_type": "display_data"
    }
   ],
   "source": []
  },
  {
   "cell_type": "markdown",
   "metadata": {},
   "source": [
    "Now use the global variable you defined above to make the circle blue.\n",
    "After running the next cell, the circle above should have a blue fill."
   ]
  },
  {
   "cell_type": "code",
   "execution_count": 92,
   "metadata": {
    "collapsed": false
   },
   "outputs": [
    {
     "data": {
      "application/javascript": [
       "require(['d3'], function(d3) {\n",
       "    // change the fill style of our circle\n",
       "    window.ex1_circle.style(\"fill\", \"blue\");\n",
       "});"
      ],
      "text/plain": [
       "<IPython.core.display.Javascript object>"
      ]
     },
     "metadata": {},
     "output_type": "display_data"
    }
   ],
   "source": []
  },
  {
   "cell_type": "markdown",
   "metadata": {},
   "source": [
    "## Running JavaScript Code from Python\n",
    "Use the Javascript function to execute arbitrary code, e.g. to define a radius of 1"
   ]
  },
  {
   "cell_type": "code",
   "execution_count": 97,
   "metadata": {
    "collapsed": false
   },
   "outputs": [
    {
     "data": {
      "application/javascript": [
       "\n",
       "window.ex1_radius=1\n"
      ],
      "text/plain": [
       "<IPython.core.display.Javascript object>"
      ]
     },
     "execution_count": 97,
     "metadata": {},
     "output_type": "execute_result"
    }
   ],
   "source": []
  },
  {
   "cell_type": "markdown",
   "metadata": {},
   "source": [
    "Now switch to the JavaScript console and see if you can find the new variable!\n",
    "Then use the variable holding a radius of 1 to change the radius of your circle."
   ]
  },
  {
   "cell_type": "code",
   "execution_count": 94,
   "metadata": {
    "collapsed": false
   },
   "outputs": [
    {
     "data": {
      "application/javascript": [
       "require(['d3'], function(d3) {\n",
       "    // change the radius attribute of our circle\n",
       "    window.ex1_circle.attr(\"r\", window.ex1_radius);\n",
       "});"
      ],
      "text/plain": [
       "<IPython.core.display.Javascript object>"
      ]
     },
     "metadata": {},
     "output_type": "display_data"
    }
   ],
   "source": []
  },
  {
   "cell_type": "markdown",
   "metadata": {},
   "source": [
    "Now check if the circle above has become smaller..."
   ]
  },
  {
   "cell_type": "markdown",
   "metadata": {},
   "source": [
    "## Binding Data\n",
    "1. Define the coordinates of the center of 2 circles\n",
    "```javascript\n",
    "var data = [{x: 10, y: 10}, {x: 20, y:20}];\n",
    "```\n",
    "2. Bind it to your circles and draw it"
   ]
  },
  {
   "cell_type": "code",
   "execution_count": null,
   "metadata": {
    "collapsed": false
   },
   "outputs": [],
   "source": []
  },
  {
   "cell_type": "markdown",
   "metadata": {},
   "source": [
    "## Convert Data from Pandas to d3.js\n",
    "To work with d3.js, it's best to format data tables (such those obtained from Pandas) into arrays of Objects.\n",
    "This is how a JSON example would look like:\n",
    "```javascript\n",
    "[\n",
    "    {column1: value, column2: value, ...}  // row 1\n",
    "    {column1: value, column2: value, ...}, // row 2\n",
    "    {column1: value, column2: value, ...}, // row 3\n",
    "]\n",
    "```"
   ]
  },
  {
   "cell_type": "markdown",
   "metadata": {},
   "source": [
    "### Write a function that converts a Pandas dataframe to an array of objects as described above.\n",
    "It's up to you if you want to use Python or JavaScript for that.\n",
    "Note that the [to_json](http://pandas.pydata.org/pandas-docs/stable/generated/pandas.DataFrame.to_json.html) is useful to get your data into JavaScript, but see yourself whether this is what you want or not..."
   ]
  },
  {
   "cell_type": "code",
   "execution_count": null,
   "metadata": {
    "collapsed": false
   },
   "outputs": [],
   "source": []
  },
  {
   "cell_type": "markdown",
   "metadata": {
    "collapsed": true
   },
   "source": [
    "## Load a data frame in Javascript"
   ]
  },
  {
   "cell_type": "markdown",
   "metadata": {},
   "source": [
    "### Load your differentially expressed Genes from Day 5/6 from a csv file in a pandas dataframe and check if it worked"
   ]
  },
  {
   "cell_type": "code",
   "execution_count": null,
   "metadata": {
    "collapsed": false
   },
   "outputs": [],
   "source": []
  },
  {
   "cell_type": "markdown",
   "metadata": {},
   "source": [
    "### Assign the dataframe to a javascript global variable (window.*)\n",
    "Convert your data using the function defined above either before or after you assigned it in JavaScript and check if it worked."
   ]
  },
  {
   "cell_type": "code",
   "execution_count": null,
   "metadata": {
    "collapsed": false
   },
   "outputs": [],
   "source": []
  },
  {
   "cell_type": "markdown",
   "metadata": {},
   "source": [
    "# Create an interactive Vulcano plot with variable pvalue and fold-change cutoffs\n",
    "## Create a static version\n",
    "Hint: google for 'd3 scatterplot' to see how to implement a basic scatterplot"
   ]
  },
  {
   "cell_type": "markdown",
   "metadata": {},
   "source": [
    "## Now add draggable lines to interactively change the fold cut and the pvalue cut\n",
    "Hint: checkout the d3.behaviour.drag() function for this task"
   ]
  },
  {
   "cell_type": "code",
   "execution_count": null,
   "metadata": {
    "collapsed": true
   },
   "outputs": [],
   "source": []
  },
  {
   "cell_type": "markdown",
   "metadata": {},
   "source": [
    "# If you made it this far: Congrats! Now it's freestyle time: use your d3 skills to make your favourite plot, e.g. add tooltips to the Manhatten plot"
   ]
  },
  {
   "cell_type": "code",
   "execution_count": null,
   "metadata": {
    "collapsed": true
   },
   "outputs": [],
   "source": []
  }
 ],
 "metadata": {
  "kernelspec": {
   "display_name": "Python 2",
   "language": "python",
   "name": "python2"
  },
  "language_info": {
   "codemirror_mode": {
    "name": "ipython",
    "version": 2
   },
   "file_extension": ".py",
   "mimetype": "text/x-python",
   "name": "python",
   "nbconvert_exporter": "python",
   "pygments_lexer": "ipython2",
   "version": "2.7.11"
  },
  "nav_menu": {},
  "toc": {
   "navigate_menu": true,
   "number_sections": true,
   "sideBar": false,
   "threshold": 6,
   "toc_cell": true,
   "toc_section_display": "block",
   "toc_window_display": false
  }
 },
 "nbformat": 4,
 "nbformat_minor": 1
}
