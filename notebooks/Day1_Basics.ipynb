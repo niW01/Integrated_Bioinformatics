{
 "cells": [
  {
   "cell_type": "markdown",
   "metadata": {
    "toc": "true"
   },
   "source": [
    "# Table of Contents\n",
    " <p><div class=\"lev1\"><a href=\"#Import-pandas,-numpy,-matplotlib-and-seaborn\"><span class=\"toc-item-num\">1&nbsp;&nbsp;</span>Import pandas, numpy, matplotlib and seaborn</a></div><div class=\"lev1\"><a href=\"#Create-a-Series-object,-access-it's-index-and-cells\"><span class=\"toc-item-num\">2&nbsp;&nbsp;</span>Create a Series object, access it's index and cells</a></div><div class=\"lev1\"><a href=\"#Create-a-DataFrame-object,-access-its-rows,-columns,-indices,-cells\"><span class=\"toc-item-num\">3&nbsp;&nbsp;</span>Create a DataFrame object, access its rows, columns, indices, cells</a></div><div class=\"lev1\"><a href=\"#Data-Import\"><span class=\"toc-item-num\">4&nbsp;&nbsp;</span>Data Import</a></div><div class=\"lev1\"><a href=\"#DataFrame-filtering\"><span class=\"toc-item-num\">5&nbsp;&nbsp;</span>DataFrame filtering</a></div><div class=\"lev1\"><a href=\"#Data-export\"><span class=\"toc-item-num\">6&nbsp;&nbsp;</span>Data export</a></div><div class=\"lev1\"><a href=\"#DataFrame-aggregation\"><span class=\"toc-item-num\">7&nbsp;&nbsp;</span>DataFrame aggregation</a></div><div class=\"lev1\"><a href=\"#Data-Merging\"><span class=\"toc-item-num\">8&nbsp;&nbsp;</span>Data Merging</a></div>"
   ]
  },
  {
   "cell_type": "markdown",
   "metadata": {},
   "source": [
    "This notebook is to quickly repeat the most basic pandas operations prior to starting the practical course.\n",
    "You should be able to quickly perform the following tasks before you start working on the exercises in the Day1 notebook. If you need to look up, how certain problems can be solved, have a look at the pandas [10 Minutes Introduction](http://pandas.pydata.org/pandas-docs/stable/10min.html), the [tutorials](http://pandas.pydata.org/pandas-docs/stable/tutorials.html) and the lecture slides."
   ]
  },
  {
   "cell_type": "markdown",
   "metadata": {},
   "source": [
    "# Import pandas, numpy, matplotlib and seaborn"
   ]
  },
  {
   "cell_type": "code",
   "execution_count": null,
   "metadata": {
    "collapsed": true,
    "run_control": {
     "frozen": false,
     "read_only": false
    }
   },
   "outputs": [],
   "source": []
  },
  {
   "cell_type": "markdown",
   "metadata": {},
   "source": [
    "# Create a Series object, access it's index and cells"
   ]
  },
  {
   "cell_type": "markdown",
   "metadata": {},
   "source": [
    "Create a Series object representing the following measurements\n",
    "\n",
    "| S   |\n",
    "|-----|\n",
    "| 1.0 |\n",
    "| 1.5 |\n",
    "| 3.0 |\n",
    "| 4.3 |\n",
    "| 8.2 |"
   ]
  },
  {
   "cell_type": "code",
   "execution_count": null,
   "metadata": {
    "collapsed": false
   },
   "outputs": [],
   "source": []
  },
  {
   "cell_type": "markdown",
   "metadata": {},
   "source": [
    "# Create a DataFrame object, access its rows, columns, indices, cells"
   ]
  },
  {
   "cell_type": "markdown",
   "metadata": {},
   "source": [
    "Create a dataframe of the following table.\n",
    "\n",
    "|index   |a |b  |c   |d          |e |\n",
    "|--------|--|---|----|-----------|--|\n",
    "|1       |2 |3  |5.  |horse      |13|\n",
    "|2       |3 |1  |1.4 |cat        |11|\n",
    "|3       |4 |9  |1.2 |dog        |  |\n",
    "|4       |5 |12 |0.8 |tortoise   |  |\n",
    "|5       |6 |2  |2.3 |rabbit     |9 |\n",
    "\n",
    "Now\n",
    "* access the values of each row individually\n",
    "* access single cells\n",
    "* print the index and column names\n",
    "* access values of each column individually\n",
    "* rename columns\n",
    "* extract rows 2-4 as new dataframe\n",
    "* obtain summary table of dataframe"
   ]
  },
  {
   "cell_type": "code",
   "execution_count": null,
   "metadata": {
    "collapsed": false,
    "run_control": {
     "frozen": false,
     "read_only": false
    }
   },
   "outputs": [],
   "source": []
  },
  {
   "cell_type": "markdown",
   "metadata": {},
   "source": [
    "# Data Import"
   ]
  },
  {
   "cell_type": "markdown",
   "metadata": {},
   "source": [
    "Import the following file into a dataframe _df2_:\n",
    "\n",
    "https://raw.githubusercontent.com/sebwink/Integrated_Bioinformatics/master/example_data/example_df.csv"
   ]
  },
  {
   "cell_type": "code",
   "execution_count": null,
   "metadata": {
    "collapsed": true,
    "run_control": {
     "frozen": false,
     "read_only": false
    }
   },
   "outputs": [],
   "source": []
  },
  {
   "cell_type": "markdown",
   "metadata": {},
   "source": [
    "Now import the following file into a pandas dataframe _df3_. Do you need to change some parameters of the funtion?\n",
    "Check whether import makes sense by showing the dataframe\n",
    "\n",
    "https://raw.githubusercontent.com/sebwink/Integrated_Bioinformatics/master/example_data/example_df2.csv"
   ]
  },
  {
   "cell_type": "code",
   "execution_count": null,
   "metadata": {
    "collapsed": true,
    "run_control": {
     "frozen": false,
     "read_only": false
    }
   },
   "outputs": [],
   "source": []
  },
  {
   "cell_type": "markdown",
   "metadata": {},
   "source": [
    "# DataFrame filtering\n",
    "Using the dataframe created in section 3:\n",
    "\n",
    "* select rows containing values greater than 2 in the 3rd column\n",
    "* select rows that contain values greater than 2 in the 3rd column or 'cat' in the 4th column\n",
    "* drop rows with missing data\n",
    "* drop duplicate rows\n",
    "* drop 1st column from dataframe\n",
    "* sort rows by 2nd column\n",
    "* convert Strings in 4th column to title-case"
   ]
  },
  {
   "cell_type": "code",
   "execution_count": null,
   "metadata": {
    "collapsed": true
   },
   "outputs": [],
   "source": []
  },
  {
   "cell_type": "markdown",
   "metadata": {},
   "source": [
    "# Data export"
   ]
  },
  {
   "cell_type": "markdown",
   "metadata": {},
   "source": [
    "Export your filtered dataframe as a text file separated by tabs omitting the index column."
   ]
  },
  {
   "cell_type": "markdown",
   "metadata": {},
   "source": [
    "# DataFrame aggregation"
   ]
  },
  {
   "cell_type": "code",
   "execution_count": null,
   "metadata": {
    "collapsed": false,
    "run_control": {
     "frozen": false,
     "read_only": false
    }
   },
   "outputs": [],
   "source": []
  },
  {
   "cell_type": "markdown",
   "metadata": {},
   "source": [
    "Using _df4_, group the data by column 'b'. Test different ways of aggregating the remaining columns as shown in the lecture."
   ]
  },
  {
   "cell_type": "markdown",
   "metadata": {},
   "source": [
    "# Data Merging"
   ]
  },
  {
   "cell_type": "markdown",
   "metadata": {},
   "source": [
    "* Merge df3 with df4 on columns c, d and e. Change columns with same names in a meaningful way."
   ]
  },
  {
   "cell_type": "code",
   "execution_count": null,
   "metadata": {
    "collapsed": false,
    "run_control": {
     "frozen": false,
     "read_only": false
    }
   },
   "outputs": [],
   "source": []
  },
  {
   "cell_type": "markdown",
   "metadata": {},
   "source": [
    "* Now perform a full outer join of the data, to keep all rows contained in either of the two dataframes."
   ]
  },
  {
   "cell_type": "code",
   "execution_count": null,
   "metadata": {
    "collapsed": false,
    "run_control": {
     "frozen": false,
     "read_only": false
    }
   },
   "outputs": [],
   "source": []
  }
 ],
 "metadata": {
  "anaconda-cloud": {},
  "hide_input": false,
  "kernelspec": {
   "display_name": "Python [conda root]",
   "language": "python",
   "name": "conda-root-py"
  },
  "language_info": {
   "codemirror_mode": {
    "name": "ipython",
    "version": 3
   },
   "file_extension": ".py",
   "mimetype": "text/x-python",
   "name": "python",
   "nbconvert_exporter": "python",
   "pygments_lexer": "ipython3",
   "version": "3.5.2"
  },
  "toc": {
   "toc_cell": true,
   "toc_number_sections": true,
   "toc_threshold": 6,
   "toc_window_display": false
  }
 },
 "nbformat": 4,
 "nbformat_minor": 1
}
