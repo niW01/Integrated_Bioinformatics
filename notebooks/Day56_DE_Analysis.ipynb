{
 "cells": [
  {
   "cell_type": "markdown",
   "metadata": {
    "toc": "true"
   },
   "source": [
    "# Table of Contents\n",
    " <p><div class=\"lev2 toc-item\"><a href=\"#Subtask-0:-Download-the-data\" data-toc-modified-id=\"Subtask-0:-Download-the-data-0.1\"><span class=\"toc-item-num\">0.1&nbsp;&nbsp;</span>Subtask 0: Download the data</a></div><div class=\"lev2 toc-item\"><a href=\"#Task-1:-Data-wrangling\" data-toc-modified-id=\"Task-1:-Data-wrangling-0.2\"><span class=\"toc-item-num\">0.2&nbsp;&nbsp;</span>Task 1: Data wrangling</a></div><div class=\"lev3 toc-item\"><a href=\"#Subtask-1.1:-Read-in-aad0189_DataFileS5.xlsx-with-pandas\" data-toc-modified-id=\"Subtask-1.1:-Read-in-aad0189_DataFileS5.xlsx-with-pandas-0.2.1\"><span class=\"toc-item-num\">0.2.1&nbsp;&nbsp;</span>Subtask 1.1: Read in aad0189_DataFileS5.xlsx with pandas</a></div><div class=\"lev3 toc-item\"><a href=\"#Subtask-1.2:-Average-over-different-probesets-for-a-gene-and-generate-a-dataframe-containing-each-gene-symbol-(once)--as-rows-and-the-corresponding-averaged-expression-values-for-each-strain-+-condition-as-columns\" data-toc-modified-id=\"Subtask-1.2:-Average-over-different-probesets-for-a-gene-and-generate-a-dataframe-containing-each-gene-symbol-(once)--as-rows-and-the-corresponding-averaged-expression-values-for-each-strain-+-condition-as-columns-0.2.2\"><span class=\"toc-item-num\">0.2.2&nbsp;&nbsp;</span>Subtask 1.2: Average over different probesets for a gene and generate a dataframe containing each gene symbol (once)  as rows and the corresponding averaged expression values for each strain + condition as columns</a></div><div class=\"lev3 toc-item\"><a href=\"#Subtask-1.3:-Quantile-normalization:-carry-out-a-quantile-normalization-of-the-data-(or-not)\" data-toc-modified-id=\"Subtask-1.3:-Quantile-normalization:-carry-out-a-quantile-normalization-of-the-data-(or-not)-0.2.3\"><span class=\"toc-item-num\">0.2.3&nbsp;&nbsp;</span>Subtask 1.3: Quantile normalization: carry out a quantile normalization of the data (or not)</a></div><div class=\"lev4 toc-item\"><a href=\"#Subsubtask-1.3.1:-Implement-a-ratio-intensity-plot-(using-matplotlib)\" data-toc-modified-id=\"Subsubtask-1.3.1:-Implement-a-ratio-intensity-plot-(using-matplotlib)-0.2.3.1\"><span class=\"toc-item-num\">0.2.3.1&nbsp;&nbsp;</span>Subsubtask 1.3.1: Implement a ratio intensity plot (using matplotlib)</a></div><div class=\"lev4 toc-item\"><a href=\"#Subsubtask-1.3.2:-Apply-your-ratio-intensity-plot-to-several-pairs-of-chips-(columns-of-your-above-dataframe)\" data-toc-modified-id=\"Subsubtask-1.3.2:-Apply-your-ratio-intensity-plot-to-several-pairs-of-chips-(columns-of-your-above-dataframe)-0.2.3.2\"><span class=\"toc-item-num\">0.2.3.2&nbsp;&nbsp;</span>Subsubtask 1.3.2: Apply your ratio intensity plot to several pairs of chips (columns of your above dataframe)</a></div><div class=\"lev4 toc-item\"><a href=\"#Subsubtask-1.3.3:-Implement-a-rle-plot-(rle-=-relative-log-expression)\" data-toc-modified-id=\"Subsubtask-1.3.3:-Implement-a-rle-plot-(rle-=-relative-log-expression)-0.2.3.3\"><span class=\"toc-item-num\">0.2.3.3&nbsp;&nbsp;</span>Subsubtask 1.3.3: Implement a rle plot (rle = relative log expression)</a></div><div class=\"lev4 toc-item\"><a href=\"#Subsubtask-1.3.4:-Apply-your-RLE-plot-to-the-data\" data-toc-modified-id=\"Subsubtask-1.3.4:-Apply-your-RLE-plot-to-the-data-0.2.3.4\"><span class=\"toc-item-num\">0.2.3.4&nbsp;&nbsp;</span>Subsubtask 1.3.4: Apply your RLE plot to the data</a></div><div class=\"lev4 toc-item\"><a href=\"#Subsubtask-1.3.5:-If-you-consider-it-necessary,-perform-a-quantile-normalization-of-the-data\" data-toc-modified-id=\"Subsubtask-1.3.5:-If-you-consider-it-necessary,-perform-a-quantile-normalization-of-the-data-0.2.3.5\"><span class=\"toc-item-num\">0.2.3.5&nbsp;&nbsp;</span>Subsubtask 1.3.5: If you consider it necessary, perform a quantile normalization of the data</a></div><div class=\"lev2 toc-item\"><a href=\"#Task-2:-Which-statistical-test-to-chose?\" data-toc-modified-id=\"Task-2:-Which-statistical-test-to-chose?-0.3\"><span class=\"toc-item-num\">0.3&nbsp;&nbsp;</span>Task 2: Which statistical test to chose?</a></div><div class=\"lev3 toc-item\"><a href=\"#Subtask-2.1:-Do-the-CD-and-HFD-samples-have-equal-variance?\" data-toc-modified-id=\"Subtask-2.1:-Do-the-CD-and-HFD-samples-have-equal-variance?-0.3.1\"><span class=\"toc-item-num\">0.3.1&nbsp;&nbsp;</span>Subtask 2.1: Do the CD and HFD samples have equal variance?</a></div><div class=\"lev4 toc-item\"><a href=\"#Subsubtask-2.1.1:-Choose-a-random-row-of-your-latest-dataframe-using-the-random-module-of-Python\" data-toc-modified-id=\"Subsubtask-2.1.1:-Choose-a-random-row-of-your-latest-dataframe-using-the-random-module-of-Python-0.3.1.1\"><span class=\"toc-item-num\">0.3.1.1&nbsp;&nbsp;</span>Subsubtask 2.1.1: Choose a random row of your latest dataframe using the random module of Python</a></div><div class=\"lev4 toc-item\"><a href=\"#Subsubtask-2.1.2:-Make-a-Q-Q-plot-comparing-the-two-samples-for-the-just-chosen-gene-and-answer-the-question:-Does-this-tell-you-anything?\" data-toc-modified-id=\"Subsubtask-2.1.2:-Make-a-Q-Q-plot-comparing-the-two-samples-for-the-just-chosen-gene-and-answer-the-question:-Does-this-tell-you-anything?-0.3.1.2\"><span class=\"toc-item-num\">0.3.1.2&nbsp;&nbsp;</span>Subsubtask 2.1.2: Make a Q-Q plot comparing the two samples for the just chosen gene and answer the question: Does this tell you anything?</a></div><div class=\"lev4 toc-item\"><a href=\"#Subsubtask-2.1.3:-Apply-an-appropriate-statistical-test-in-order-to-figure-out-whether-the-samples-have-equal-variance-(there-may-be-more-than-one-sensible-solution)\" data-toc-modified-id=\"Subsubtask-2.1.3:-Apply-an-appropriate-statistical-test-in-order-to-figure-out-whether-the-samples-have-equal-variance-(there-may-be-more-than-one-sensible-solution)-0.3.1.3\"><span class=\"toc-item-num\">0.3.1.3&nbsp;&nbsp;</span>Subsubtask 2.1.3: Apply an appropriate statistical test in order to figure out whether the samples have equal variance (there may be more than one sensible solution)</a></div><div class=\"lev4 toc-item\"><a href=\"#Subsubtask-2.1.4:-To-asses-the-global-situation,-plot-a-histogram-of-p-values-for-all-the-genes-(using-the-same-test-you-chose-in-2.1.3)\" data-toc-modified-id=\"Subsubtask-2.1.4:-To-asses-the-global-situation,-plot-a-histogram-of-p-values-for-all-the-genes-(using-the-same-test-you-chose-in-2.1.3)-0.3.1.4\"><span class=\"toc-item-num\">0.3.1.4&nbsp;&nbsp;</span>Subsubtask 2.1.4: To asses the global situation, plot a histogram of p-values for all the genes (using the same test you chose in 2.1.3)</a></div><div class=\"lev3 toc-item\"><a href=\"#Subtask-2.2-Are-the-CD-and-HFD-samples-normally-distributed?\" data-toc-modified-id=\"Subtask-2.2-Are-the-CD-and-HFD-samples-normally-distributed?-0.3.2\"><span class=\"toc-item-num\">0.3.2&nbsp;&nbsp;</span>Subtask 2.2 Are the CD and HFD samples normally distributed?</a></div><div class=\"lev4 toc-item\"><a href=\"#Subsubtask-2.2.1:-Using-the-same-gene-randomly-chosen-above,-make-a-Box-plot-for-the-corresponding-CD-and-HFD-sample-and-give-an-interpretation\" data-toc-modified-id=\"Subsubtask-2.2.1:-Using-the-same-gene-randomly-chosen-above,-make-a-Box-plot-for-the-corresponding-CD-and-HFD-sample-and-give-an-interpretation-0.3.2.1\"><span class=\"toc-item-num\">0.3.2.1&nbsp;&nbsp;</span>Subsubtask 2.2.1: Using the same gene randomly chosen above, make a Box plot for the corresponding CD and HFD sample and give an interpretation</a></div><div class=\"lev4 toc-item\"><a href=\"#Subsubtask-2.2.2:-Just-like-in-2.2.1-make-Q-Q-plots-for-each-sample-(compare-each-to-the-theoretical-normal-distribution)-and-try-an-interpretation.\" data-toc-modified-id=\"Subsubtask-2.2.2:-Just-like-in-2.2.1-make-Q-Q-plots-for-each-sample-(compare-each-to-the-theoretical-normal-distribution)-and-try-an-interpretation.-0.3.2.2\"><span class=\"toc-item-num\">0.3.2.2&nbsp;&nbsp;</span>Subsubtask 2.2.2: Just like in 2.2.1 make Q-Q plots for each sample (compare each to the theoretical normal distribution) and try an interpretation.</a></div><div class=\"lev4 toc-item\"><a href=\"#Subsubtask-2.2.3:-Apply-an-appropriate-statistical-test-in-order-to-figure-out-whether-the-samples-are-normally-distributed-(there-may-be-more-than-one-sensible-solution)\" data-toc-modified-id=\"Subsubtask-2.2.3:-Apply-an-appropriate-statistical-test-in-order-to-figure-out-whether-the-samples-are-normally-distributed-(there-may-be-more-than-one-sensible-solution)-0.3.2.3\"><span class=\"toc-item-num\">0.3.2.3&nbsp;&nbsp;</span>Subsubtask 2.2.3: Apply an appropriate statistical test in order to figure out whether the samples are normally distributed (there may be more than one sensible solution)</a></div><div class=\"lev4 toc-item\"><a href=\"#Subsubtask-2.2.4:-To-asses-the-global-situation,-plot-a-histogram-of-p-values-for-all-the-genes-(using-the-same-test-you-chose-in-2.2.3)\" data-toc-modified-id=\"Subsubtask-2.2.4:-To-asses-the-global-situation,-plot-a-histogram-of-p-values-for-all-the-genes-(using-the-same-test-you-chose-in-2.2.3)-0.3.2.4\"><span class=\"toc-item-num\">0.3.2.4&nbsp;&nbsp;</span>Subsubtask 2.2.4: To asses the global situation, plot a histogram of p-values for all the genes (using the same test you chose in 2.2.3)</a></div><div class=\"lev4 toc-item\"><a href=\"#Subsubtask-2.2.5:-Write-a-1-word-essay-about-whether-there-is-any-instrinsic-philosophical-reason-that-any-data-follows-a-normal-distribution\" data-toc-modified-id=\"Subsubtask-2.2.5:-Write-a-1-word-essay-about-whether-there-is-any-instrinsic-philosophical-reason-that-any-data-follows-a-normal-distribution-0.3.2.5\"><span class=\"toc-item-num\">0.3.2.5&nbsp;&nbsp;</span>Subsubtask 2.2.5: Write a 1-word essay about whether there is any instrinsic philosophical reason that any data follows a normal distribution</a></div><div class=\"lev3 toc-item\"><a href=\"#Subtask-2.3-Choose-a-suitable-statistical-test-to-assess-differential-expression,-apply-it-to-every-row,-store-the-results-in-a-suitable-dataframe-(you-may-want-to-order-the-genes-with-respect-to-their-p-values)-and-finally-extract-a-list-of-differentially-expressed-genes-(5%-significance).-How-many-differentially-expressed-genes-do-you-get?\" data-toc-modified-id=\"Subtask-2.3-Choose-a-suitable-statistical-test-to-assess-differential-expression,-apply-it-to-every-row,-store-the-results-in-a-suitable-dataframe-(you-may-want-to-order-the-genes-with-respect-to-their-p-values)-and-finally-extract-a-list-of-differentially-expressed-genes-(5%-significance).-How-many-differentially-expressed-genes-do-you-get?-0.3.3\"><span class=\"toc-item-num\">0.3.3&nbsp;&nbsp;</span>Subtask 2.3 Choose a suitable statistical test to assess differential expression, apply it to every row, store the results in a suitable dataframe (you may want to order the genes with respect to their p-values) and finally extract a list of differentially expressed genes (5% significance). How many differentially expressed genes do you get?</a></div><div class=\"lev2 toc-item\"><a href=\"#Task-3:-Multiple-testing-correction\" data-toc-modified-id=\"Task-3:-Multiple-testing-correction-0.4\"><span class=\"toc-item-num\">0.4&nbsp;&nbsp;</span>Task 3: Multiple-testing correction</a></div><div class=\"lev3 toc-item\"><a href=\"#Subtask-3.1:-For-your-official-report-you-have-to-pretend-to-care-about-Bonferroni's-correction-(otherwise-it-will-never-pass-through-Fredholm's-office):-manually-code-it-(do-not-use-the-statsmodels-implementation-for-example)-and-store-the-results-in-a-suitable-dataframe.-How-many-differentially-expressed-gene-do-you-get?\" data-toc-modified-id=\"Subtask-3.1:-For-your-official-report-you-have-to-pretend-to-care-about-Bonferroni's-correction-(otherwise-it-will-never-pass-through-Fredholm's-office):-manually-code-it-(do-not-use-the-statsmodels-implementation-for-example)-and-store-the-results-in-a-suitable-dataframe.-How-many-differentially-expressed-gene-do-you-get?-0.4.1\"><span class=\"toc-item-num\">0.4.1&nbsp;&nbsp;</span>Subtask 3.1: For your official report you have to pretend to care about Bonferroni's correction (otherwise it will never pass through Fredholm's office): manually code it (do not use the statsmodels implementation for example) and store the results in a suitable dataframe. How many differentially expressed gene do you get?</a></div><div class=\"lev3 toc-item\"><a href=\"#Subtask-3.2:-Apply-all-multiple-testing-procedures-you-can-get-your-hands-on-(except-Bonferroni;-now-you-should-use-statsmodels)-to-your-uncorrected-p-values-and-store-the-results-in-one-(!)-dataframe.\" data-toc-modified-id=\"Subtask-3.2:-Apply-all-multiple-testing-procedures-you-can-get-your-hands-on-(except-Bonferroni;-now-you-should-use-statsmodels)-to-your-uncorrected-p-values-and-store-the-results-in-one-(!)-dataframe.-0.4.2\"><span class=\"toc-item-num\">0.4.2&nbsp;&nbsp;</span>Subtask 3.2: Apply all multiple testing procedures you can get your hands on (except Bonferroni; now you should use statsmodels) to your uncorrected p-values and store the results in one (!) dataframe.</a></div><div class=\"lev3 toc-item\"><a href=\"#Subtask-3.3:-External-visual-comparison-of-the-different-methods-(-Julian-)\" data-toc-modified-id=\"Subtask-3.3:-External-visual-comparison-of-the-different-methods-(-Julian-)-0.4.3\"><span class=\"toc-item-num\">0.4.3&nbsp;&nbsp;</span>Subtask 3.3: External visual comparison of the different methods ( Julian )</a></div><div class=\"lev3 toc-item\"><a href=\"#Subtask-3.4:-Select-a-random-method-applied-in-3.2-and-extract-the-corresponding-list-of-differentially-expressed-genes.-Is-this-list-contain-more-or-less-genes-than-the-list-from-2.3?-Does-it-contain-more-or-less-genes-than-your-Bonferroni-list?-;)\" data-toc-modified-id=\"Subtask-3.4:-Select-a-random-method-applied-in-3.2-and-extract-the-corresponding-list-of-differentially-expressed-genes.-Is-this-list-contain-more-or-less-genes-than-the-list-from-2.3?-Does-it-contain-more-or-less-genes-than-your-Bonferroni-list?-;)-0.4.4\"><span class=\"toc-item-num\">0.4.4&nbsp;&nbsp;</span>Subtask 3.4: Select a random method applied in 3.2 and extract the corresponding list of differentially expressed genes. Is this list contain more or less genes than the list from 2.3? Does it contain more or less genes than your Bonferroni list? ;)</a></div><div class=\"lev2 toc-item\"><a href=\"#Task-4:-Vulcano-plots\" data-toc-modified-id=\"Task-4:-Vulcano-plots-0.5\"><span class=\"toc-item-num\">0.5&nbsp;&nbsp;</span>Task 4: Vulcano plots</a></div><div class=\"lev3 toc-item\"><a href=\"#Subtask-4.1:-Add-a-log2-fold-change-column-to-the-data-frame-from-3.2-and-store-it-as-a-csv-file.\" data-toc-modified-id=\"Subtask-4.1:-Add-a-log2-fold-change-column-to-the-data-frame-from-3.2-and-store-it-as-a-csv-file.-0.5.1\"><span class=\"toc-item-num\">0.5.1&nbsp;&nbsp;</span>Subtask 4.1: Add a log2 fold change column to the data frame from 3.2 and store it as a csv file.</a></div><div class=\"lev3 toc-item\"><a href=\"#Subtask-4.2:--Implement-a-Vulcano-plot-(from-scratch-using-matplotlib)\" data-toc-modified-id=\"Subtask-4.2:--Implement-a-Vulcano-plot-(from-scratch-using-matplotlib)-0.5.2\"><span class=\"toc-item-num\">0.5.2&nbsp;&nbsp;</span>Subtask 4.2:  Implement a Vulcano plot (from scratch using matplotlib)</a></div><div class=\"lev3 toc-item\"><a href=\"#Subtask-4.3:-Apply-your-Volcano-plot-implementation-to-the-uncorrected-p-values,-as-well-as-the-corrected-p-values-from-3.4-(you-should-have-two-plots-in-the-end-;))\" data-toc-modified-id=\"Subtask-4.3:-Apply-your-Volcano-plot-implementation-to-the-uncorrected-p-values,-as-well-as-the-corrected-p-values-from-3.4-(you-should-have-two-plots-in-the-end-;))-0.5.3\"><span class=\"toc-item-num\">0.5.3&nbsp;&nbsp;</span>Subtask 4.3: Apply your Volcano plot implementation to the uncorrected p-values, as well as the corrected p-values from 3.4 (you should have two plots in the end ;))</a></div><div class=\"lev2 toc-item\"><a href=\"#Task-5:-RNA-seq\" data-toc-modified-id=\"Task-5:-RNA-seq-0.6\"><span class=\"toc-item-num\">0.6&nbsp;&nbsp;</span>Task 5: RNA-seq</a></div>"
   ]
  },
  {
   "cell_type": "markdown",
   "metadata": {},
   "source": [
    "General review:\n",
    "\n",
    "https://genomebiology.biomedcentral.com/articles/10.1186/gb-2003-4-4-210\n",
    "\n",
    "(doi:10.1186/gb-2003-4-4-210)"
   ]
  },
  {
   "cell_type": "code",
   "execution_count": null,
   "metadata": {
    "collapsed": true
   },
   "outputs": [],
   "source": [
    "# imports"
   ]
  },
  {
   "cell_type": "markdown",
   "metadata": {},
   "source": [
    "## Subtask 0: Download the data"
   ]
  },
  {
   "cell_type": "markdown",
   "metadata": {},
   "source": [
    "hint:\n",
    "\n",
    "http://science.sciencemag.org/highwire/filestream/680254/field_highwire_adjunct_files/5/aad0189_DataFileS5.xlsx"
   ]
  },
  {
   "cell_type": "code",
   "execution_count": null,
   "metadata": {
    "collapsed": false
   },
   "outputs": [],
   "source": []
  },
  {
   "cell_type": "markdown",
   "metadata": {},
   "source": [
    "## Task 1: Data wrangling"
   ]
  },
  {
   "cell_type": "markdown",
   "metadata": {},
   "source": [
    "hint:\n",
    "\n",
    "http://www.arrayanalysis.org/main.html"
   ]
  },
  {
   "cell_type": "markdown",
   "metadata": {},
   "source": [
    "### Subtask 1.1: Read in aad0189_DataFileS5.xlsx with pandas"
   ]
  },
  {
   "cell_type": "code",
   "execution_count": null,
   "metadata": {
    "collapsed": false
   },
   "outputs": [],
   "source": []
  },
  {
   "cell_type": "markdown",
   "metadata": {},
   "source": [
    "### Subtask 1.2: Average over different probesets for a gene and generate a dataframe containing each gene symbol (once)  as rows and the corresponding averaged expression values for each strain + condition as columns"
   ]
  },
  {
   "cell_type": "code",
   "execution_count": null,
   "metadata": {
    "collapsed": true
   },
   "outputs": [],
   "source": []
  },
  {
   "cell_type": "markdown",
   "metadata": {},
   "source": [
    "### Subtask 1.3: Quantile normalization: carry out a quantile normalization of the data (or not)"
   ]
  },
  {
   "cell_type": "markdown",
   "metadata": {},
   "source": [
    "#### Subsubtask 1.3.1: Implement a ratio intensity plot (using matplotlib)"
   ]
  },
  {
   "cell_type": "code",
   "execution_count": null,
   "metadata": {
    "collapsed": true
   },
   "outputs": [],
   "source": []
  },
  {
   "cell_type": "markdown",
   "metadata": {},
   "source": [
    "#### Subsubtask 1.3.2: Apply your ratio intensity plot to several pairs of chips (columns of your above dataframe)"
   ]
  },
  {
   "cell_type": "code",
   "execution_count": null,
   "metadata": {
    "collapsed": true
   },
   "outputs": [],
   "source": []
  },
  {
   "cell_type": "markdown",
   "metadata": {},
   "source": [
    "#### Subsubtask 1.3.3: Implement a RLE plot (RLE = Relative Log Expression)"
   ]
  },
  {
   "cell_type": "code",
   "execution_count": null,
   "metadata": {
    "collapsed": true
   },
   "outputs": [],
   "source": []
  },
  {
   "cell_type": "markdown",
   "metadata": {},
   "source": [
    "#### Subsubtask 1.3.4: Apply your RLE plot to the data"
   ]
  },
  {
   "cell_type": "code",
   "execution_count": null,
   "metadata": {
    "collapsed": false
   },
   "outputs": [],
   "source": []
  },
  {
   "cell_type": "markdown",
   "metadata": {},
   "source": [
    "#### Subsubtask 1.3.5: If you consider it necessary, perform a quantile normalization of the data "
   ]
  },
  {
   "cell_type": "code",
   "execution_count": 15,
   "metadata": {
    "collapsed": true
   },
   "outputs": [],
   "source": []
  },
  {
   "cell_type": "markdown",
   "metadata": {},
   "source": [
    "## Task 2: Which statistical test to chose?"
   ]
  },
  {
   "cell_type": "markdown",
   "metadata": {},
   "source": [
    "We want to infer differentially expressed genes between the CD and the HFD condition. Therefore we (mis)(?)treat (!) the (already) normalized expression values of all the strains for a given condition as independent observations of the same sample. But first we need to figure out which statistical test for differential expression seems appropriate (concerning distribution and variance assumptions) and then apply it. Limit yourself to the Student t-test, the Welch t-test or Wilcoxon's rank-sum test (also sometimes refered to as Whitney-Mann U-test).\n",
    "\n",
    "Everything you may need, is most likely found here:\n",
    "\n",
    "http://docs.scipy.org/doc/scipy-0.17.1/reference/stats.html \n",
    "\n",
    "http://statsmodels.sourceforge.net/stable/graphics.html"
   ]
  },
  {
   "cell_type": "markdown",
   "metadata": {},
   "source": [
    "### Subtask 2.1: Do the CD and HFD samples have equal variance?"
   ]
  },
  {
   "cell_type": "markdown",
   "metadata": {},
   "source": [
    "Josef-Francisco Del-Marre-Doyle, famous and visionary president of the International BXD Society (IBXDS), just gave a celebrated TED-talk in which he reviewed the fact that any statistic associated with the universe is almost surely normally distributed, and hence you canonically assume that the only thing left to check is whether the samples have equal variance, that is whether to apply Student's or Welch's t-test. Josef-Francisco's assessment usually is that \"things are equal\" and so you're quite confident that you'll be able to use Student's t-test. But since you're an excellent scientist (and, additionally, won't pass the course otherwise) you still do the following certainly unnecessary work:"
   ]
  },
  {
   "cell_type": "markdown",
   "metadata": {},
   "source": [
    "#### Subsubtask 2.1.1: Choose a random row of your latest dataframe using the random module of Python"
   ]
  },
  {
   "cell_type": "code",
   "execution_count": null,
   "metadata": {
    "collapsed": false
   },
   "outputs": [],
   "source": []
  },
  {
   "cell_type": "markdown",
   "metadata": {},
   "source": [
    "#### Subsubtask 2.1.2: Make a Q-Q plot comparing the two samples for the just chosen gene and answer the question: Does this tell you anything?"
   ]
  },
  {
   "cell_type": "code",
   "execution_count": null,
   "metadata": {
    "collapsed": false
   },
   "outputs": [],
   "source": []
  },
  {
   "cell_type": "markdown",
   "metadata": {},
   "source": [
    "#### Subsubtask 2.1.3: Apply an appropriate statistical test in order to figure out whether the samples have equal variance (there may be more than one sensible solution)"
   ]
  },
  {
   "cell_type": "code",
   "execution_count": null,
   "metadata": {
    "collapsed": false
   },
   "outputs": [],
   "source": []
  },
  {
   "cell_type": "markdown",
   "metadata": {},
   "source": [
    "#### Subsubtask 2.1.4: To asses the global situation, plot a histogram of p-values for all the genes (using the same test you chose in 2.1.3)"
   ]
  },
  {
   "cell_type": "code",
   "execution_count": null,
   "metadata": {
    "collapsed": true
   },
   "outputs": [],
   "source": []
  },
  {
   "cell_type": "markdown",
   "metadata": {},
   "source": [
    "### Subtask 2.2 Are the CD and HFD samples normally distributed?"
   ]
  },
  {
   "cell_type": "markdown",
   "metadata": {},
   "source": [
    "Utterly shocked and overwhelmed by ambiguous emotions you begin to doubt the wisdom of Josef-Francisco and start a top-secret and highly dangerous investigation whether the samples are at least normally distributed. Be careful whom you'll tell about that you're working on this..."
   ]
  },
  {
   "cell_type": "markdown",
   "metadata": {},
   "source": [
    "#### Subsubtask 2.2.1: Using the same gene randomly chosen above, make a Box plot for the corresponding CD and HFD sample and give an interpretation"
   ]
  },
  {
   "cell_type": "code",
   "execution_count": null,
   "metadata": {
    "collapsed": false
   },
   "outputs": [],
   "source": []
  },
  {
   "cell_type": "markdown",
   "metadata": {},
   "source": [
    "#### Subsubtask 2.2.2: Just like in 2.2.1 make Q-Q plots for each sample (compare each to the theoretical normal distribution) and try an interpretation."
   ]
  },
  {
   "cell_type": "code",
   "execution_count": null,
   "metadata": {
    "collapsed": false
   },
   "outputs": [],
   "source": []
  },
  {
   "cell_type": "markdown",
   "metadata": {},
   "source": [
    "#### Subsubtask 2.2.3: Apply an appropriate statistical test in order to figure out whether the samples are normally distributed (there may be more than one sensible solution)"
   ]
  },
  {
   "cell_type": "code",
   "execution_count": null,
   "metadata": {
    "collapsed": false
   },
   "outputs": [],
   "source": []
  },
  {
   "cell_type": "markdown",
   "metadata": {},
   "source": [
    "#### Subsubtask 2.2.4: To asses the global situation, plot a histogram of p-values for all the genes (using the same test you chose in 2.2.3)"
   ]
  },
  {
   "cell_type": "code",
   "execution_count": null,
   "metadata": {
    "collapsed": true
   },
   "outputs": [],
   "source": []
  },
  {
   "cell_type": "markdown",
   "metadata": {},
   "source": [
    "#### Subsubtask 2.2.5: Write a 1-word essay about whether there is any instrinsic philosophical reason that any data follows a normal distribution"
   ]
  },
  {
   "cell_type": "markdown",
   "metadata": {},
   "source": []
  },
  {
   "cell_type": "markdown",
   "metadata": {},
   "source": [
    "### Subtask 2.3 Choose a suitable statistical test to assess differential expression and apply it to every row, <br>\n",
    "store the results in a suitable dataframe (you may want to order the genes with respect to their p-values) <br>\n",
    "and finally extract a list of differentially expressed genes (5% significance).<br>\n",
    "#### How many differentially expressed genes do you get?"
   ]
  },
  {
   "cell_type": "code",
   "execution_count": null,
   "metadata": {
    "collapsed": true
   },
   "outputs": [],
   "source": []
  },
  {
   "cell_type": "markdown",
   "metadata": {},
   "source": [
    "## Task 3: Multiple-testing correction"
   ]
  },
  {
   "cell_type": "markdown",
   "metadata": {},
   "source": [
    "You receive an anonymous letter revealing to you that you should do multiple-testing correction, otherwise something awfully bad will happen, or not. Puzzled and shaking you embark on this endeavour.\n",
    "\n",
    "Fredholm, your lab's vodoo priest, is convinced that applying anything else than Bonferroni correction brings death and destruction to the people on the moon. Opportunistically neglecting any potential societal consequences of your actions (technology is neutral after all and who cares about the moon anyway!) you're obsessed to try as many multiple testing procedures as possible.\n",
    "\n",
    "Everything you may need, is most likely found here:\n",
    "\n",
    "http://statsmodels.sourceforge.net/stable/stats.html#multiple-tests-and-multiple-comparison-procedures"
   ]
  },
  {
   "cell_type": "markdown",
   "metadata": {},
   "source": [
    "### Subtask 3.1: For your official report you have to pretend to care about Bonferroni's correction (otherwise it will never pass through Fredholm's office): <br>\n",
    "#### Manually code it (do not use the statsmodels implementation for example) and store the results in a suitable dataframe.<br>\n",
    "#### How many differentially expressed gene do you get?"
   ]
  },
  {
   "cell_type": "code",
   "execution_count": null,
   "metadata": {
    "collapsed": false
   },
   "outputs": [],
   "source": []
  },
  {
   "cell_type": "markdown",
   "metadata": {},
   "source": [
    "### Subtask 3.2: Apply all multiple testing procedures you can get your hands on (except Bonferroni; now you should use statsmodels) to your uncorrected p-values and store the results in one (!) dataframe. "
   ]
  },
  {
   "cell_type": "code",
   "execution_count": null,
   "metadata": {
    "collapsed": false
   },
   "outputs": [],
   "source": []
  },
  {
   "cell_type": "markdown",
   "metadata": {},
   "source": [
    "### Subtask 3.3: External visual comparison of the different methods\n",
    "1) use a parallel coordinates plot (see for example Day2_Exploratory_Analysis.ipynb) to visualize the results<br>\n",
    "2) which of the multiple testing methods is the most stringent? What's the relation between the others? <br>"
   ]
  },
  {
   "cell_type": "code",
   "execution_count": null,
   "metadata": {
    "collapsed": true
   },
   "outputs": [],
   "source": []
  },
  {
   "cell_type": "markdown",
   "metadata": {},
   "source": [
    "### Subtask 3.4: Select a random method applied in 3.2 and extract the corresponding list of differentially expressed genes. Does this list contain more or less genes than the list from 2.3? Does it contain more or less genes than your Bonferroni list? ;)"
   ]
  },
  {
   "cell_type": "code",
   "execution_count": null,
   "metadata": {
    "collapsed": false
   },
   "outputs": [],
   "source": []
  },
  {
   "cell_type": "markdown",
   "metadata": {},
   "source": [
    "## Task 4: Vulcano plots"
   ]
  },
  {
   "cell_type": "markdown",
   "metadata": {},
   "source": [
    "Marie de la Stratonovich, the devious intellectual opponent of your (former) beloved idol Josef-Francisco Del-Marre-Doyle just received the glorious Popel prize (the first marsian scientist ever to receive that prize) for copy-pasting the content of the following papers:\n",
    "\n",
    "1) arXiv:1103.3434 (https://arxiv.org/abs/1103.3434)\n",
    "\n",
    "2) http://www.ncbi.nlm.nih.gov/pubmed/23602812 (doi:10.1016/j.compbiolchem.2013.02.003)\n",
    "\n",
    "Overwhelmed by these achievments (and motivated by your ever declining esteem for Josef-Francisco) your're immensely excited about the joyous prospect of carrying out out the following tasks:"
   ]
  },
  {
   "cell_type": "markdown",
   "metadata": {},
   "source": [
    "### Subtask 4.1: Add a log2 fold change column to the data frame from 3.2 and store it as a csv file."
   ]
  },
  {
   "cell_type": "code",
   "execution_count": null,
   "metadata": {
    "collapsed": true
   },
   "outputs": [],
   "source": []
  },
  {
   "cell_type": "markdown",
   "metadata": {},
   "source": [
    "### Subtask 4.2:  Implement a Vulcano plot (from scratch using matplotlib)"
   ]
  },
  {
   "cell_type": "code",
   "execution_count": null,
   "metadata": {
    "collapsed": true
   },
   "outputs": [],
   "source": []
  },
  {
   "cell_type": "markdown",
   "metadata": {},
   "source": [
    "### Subtask 4.3: Apply your Volcano plot implementation to the uncorrected p-values, as well as the corrected p-values from 3.4 (you should have two plots in the end ;))"
   ]
  },
  {
   "cell_type": "code",
   "execution_count": null,
   "metadata": {
    "collapsed": false
   },
   "outputs": [],
   "source": []
  },
  {
   "cell_type": "markdown",
   "metadata": {},
   "source": [
    "## Task 5: RNA-seq"
   ]
  },
  {
   "cell_type": "markdown",
   "metadata": {},
   "source": [
    "There are faint rumours that some supposedly revolutionary technology could also be used to study gene expression. Find out the name of that technology and outline the most striking difference of that technology compared to microarrays from a statistical modeling point of view."
   ]
  },
  {
   "cell_type": "markdown",
   "metadata": {
    "collapsed": true
   },
   "source": []
  }
 ],
 "metadata": {
  "anaconda-cloud": {},
  "kernelspec": {
   "display_name": "Python [conda root]",
   "language": "python",
   "name": "conda-root-py"
  },
  "language_info": {
   "codemirror_mode": {
    "name": "ipython",
    "version": 3
   },
   "file_extension": ".py",
   "mimetype": "text/x-python",
   "name": "python",
   "nbconvert_exporter": "python",
   "pygments_lexer": "ipython3",
   "version": "3.5.2"
  },
  "nav_menu": {},
  "toc": {
   "navigate_menu": true,
   "number_sections": true,
   "sideBar": false,
   "threshold": 6,
   "toc_cell": true,
   "toc_section_display": "block",
   "toc_window_display": false
  }
 },
 "nbformat": 4,
 "nbformat_minor": 1
}
